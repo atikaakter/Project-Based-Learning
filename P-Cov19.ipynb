{
 "cells": [
  {
   "cell_type": "code",
   "execution_count": 1,
   "metadata": {},
   "outputs": [],
   "source": [
    "import numpy as np\n",
    "import pandas as pd\n",
    "import os\n",
    "import seaborn as sns\n",
    "import matplotlib as mpl\n",
    "import matplotlib.pyplot as plt\n",
    "\n",
    "from rdkit import Chem\n",
    "from rdkit import DataStructs\n",
    "from rdkit import rdBase\n",
    "from rdkit import RDConfig\n",
    "from rdkit.Chem import ChemicalFeatures\n",
    "from rdkit.Chem import AllChem\n",
    "from rdkit.Chem import Draw\n",
    "from rdkit.Chem.Draw import IPythonConsole\n",
    "from rdkit.Chem.rdMolDescriptors import GetMorganFingerprint\n",
    "from rdkit.Chem.Draw import SimilarityMaps\n",
    "from rdkit.SimDivFilters.rdSimDivPickers import MaxMinPicker\n",
    "from rdkit.Chem.Pharm2D import Gobbi_Pharm2D,Generate\n",
    "from rdkit.Chem import rdMolDescriptors as rdescriptors\n",
    "from rdkit.Chem import Descriptors\n",
    "\n",
    "from sklearn import model_selection\n",
    "from sklearn import linear_model\n",
    "from sklearn.ensemble import RandomForestRegressor\n",
    "from sklearn.ensemble import RandomForestClassifier\n",
    "from sklearn import metrics\n",
    "from sklearn.metrics import *\n",
    "from sklearn.preprocessing import LabelEncoder,label_binarize\n",
    "from sklearn.linear_model import LogisticRegression\n",
    "from sklearn.preprocessing import StandardScaler\n",
    "from sklearn.neural_network import MLPRegressor\n",
    "from sklearn.svm import SVR"
   ]
  },
  {
   "cell_type": "code",
   "execution_count": 2,
   "metadata": {},
   "outputs": [],
   "source": [
    "Test_Size = 0.2"
   ]
  },
  {
   "cell_type": "code",
   "execution_count": 34,
   "metadata": {},
   "outputs": [
    {
     "ename": "SyntaxError",
     "evalue": "invalid syntax (<ipython-input-34-2a4bedd3814f>, line 1)",
     "output_type": "error",
     "traceback": [
      "\u001b[0;36m  File \u001b[0;32m\"<ipython-input-34-2a4bedd3814f>\"\u001b[0;36m, line \u001b[0;32m1\u001b[0m\n\u001b[0;31m    On Balanced data, EFFICACY >= 0\u001b[0m\n\u001b[0m       ^\u001b[0m\n\u001b[0;31mSyntaxError\u001b[0m\u001b[0;31m:\u001b[0m invalid syntax\n"
     ]
    }
   ],
   "source": [
    "#On Balanced data, EFFICACY >= 0\n",
    "#Raw data:  https://opendata.ncats.nih.gov/covid19/assay?aid=14"
   ]
  },
  {
   "cell_type": "code",
   "execution_count": 3,
   "metadata": {},
   "outputs": [],
   "source": [
    "df = pd.read_csv('/home/is/mostatika-a/Balanced-SARS-CoV-2_pAC50.csv', index_col=0)"
   ]
  },
  {
   "cell_type": "code",
   "execution_count": 4,
   "metadata": {},
   "outputs": [
    {
     "data": {
      "text/html": [
       "<div>\n",
       "<style scoped>\n",
       "    .dataframe tbody tr th:only-of-type {\n",
       "        vertical-align: middle;\n",
       "    }\n",
       "\n",
       "    .dataframe tbody tr th {\n",
       "        vertical-align: top;\n",
       "    }\n",
       "\n",
       "    .dataframe thead th {\n",
       "        text-align: right;\n",
       "    }\n",
       "</style>\n",
       "<table border=\"1\" class=\"dataframe\">\n",
       "  <thead>\n",
       "    <tr style=\"text-align: right;\">\n",
       "      <th></th>\n",
       "      <th>pAC50</th>\n",
       "      <th>AC50(uM)</th>\n",
       "      <th>Active</th>\n",
       "      <th>SMILES</th>\n",
       "    </tr>\n",
       "    <tr>\n",
       "      <th>EFFICACY</th>\n",
       "      <th></th>\n",
       "      <th></th>\n",
       "      <th></th>\n",
       "      <th></th>\n",
       "    </tr>\n",
       "  </thead>\n",
       "  <tbody>\n",
       "    <tr>\n",
       "      <th>105.493143</th>\n",
       "      <td>8.00</td>\n",
       "      <td>0.100000</td>\n",
       "      <td>1</td>\n",
       "      <td>CC[C@H](NC(=O)[C@H](C[S+]([O-])(=O)CC1CC1)N[C@...</td>\n",
       "    </tr>\n",
       "    <tr>\n",
       "      <th>34.268972</th>\n",
       "      <td>7.95</td>\n",
       "      <td>0.112202</td>\n",
       "      <td>1</td>\n",
       "      <td>[H][C@@]1(C[C@H](C)[C@@]([H])(O1)[C@]2(CC)CC[C...</td>\n",
       "    </tr>\n",
       "    <tr>\n",
       "      <th>40.708548</th>\n",
       "      <td>7.90</td>\n",
       "      <td>0.125893</td>\n",
       "      <td>1</td>\n",
       "      <td>[H][C@@]1(C[C@H](C)[C@@]([H])(O1)[C@]2(CC)CC[C...</td>\n",
       "    </tr>\n",
       "    <tr>\n",
       "      <th>44.052835</th>\n",
       "      <td>7.90</td>\n",
       "      <td>0.125893</td>\n",
       "      <td>1</td>\n",
       "      <td>CC(C)CC(=O)O[C@H]\\1C[C@@]2(COC(C)=O)[C@H](O[C@...</td>\n",
       "    </tr>\n",
       "    <tr>\n",
       "      <th>34.926175</th>\n",
       "      <td>7.85</td>\n",
       "      <td>0.141254</td>\n",
       "      <td>1</td>\n",
       "      <td>Clc2cc(ccc2NC(=O)c1cc(Cl)ccc1O)[N+]([O-])=O</td>\n",
       "    </tr>\n",
       "    <tr>\n",
       "      <th>...</th>\n",
       "      <td>...</td>\n",
       "      <td>...</td>\n",
       "      <td>...</td>\n",
       "      <td>...</td>\n",
       "    </tr>\n",
       "    <tr>\n",
       "      <th>0.000000</th>\n",
       "      <td>NaN</td>\n",
       "      <td>NaN</td>\n",
       "      <td>0</td>\n",
       "      <td>C[C@H](CO)C/1=C(O)/C(=O)[C@@]2(C)C/C=C(C)/CC/C...</td>\n",
       "    </tr>\n",
       "    <tr>\n",
       "      <th>0.000000</th>\n",
       "      <td>NaN</td>\n",
       "      <td>NaN</td>\n",
       "      <td>0</td>\n",
       "      <td>C[C@H](CO)NC1=C(C=C2CCC(=O)NC2=C1)[S+]([O-])(=...</td>\n",
       "    </tr>\n",
       "    <tr>\n",
       "      <th>0.000000</th>\n",
       "      <td>NaN</td>\n",
       "      <td>NaN</td>\n",
       "      <td>0</td>\n",
       "      <td>C[C@H](CS)C(=O)N1CCC[C@H]1C(O)=O</td>\n",
       "    </tr>\n",
       "    <tr>\n",
       "      <th>0.000000</th>\n",
       "      <td>NaN</td>\n",
       "      <td>NaN</td>\n",
       "      <td>0</td>\n",
       "      <td>C[C@H](N(C(=N)NC#N)C1=C2C=CC=NC2=CC=C1)C3=CC=C...</td>\n",
       "    </tr>\n",
       "    <tr>\n",
       "      <th>0.000000</th>\n",
       "      <td>NaN</td>\n",
       "      <td>NaN</td>\n",
       "      <td>0</td>\n",
       "      <td>C[C@H](N)C(=O)N[C@@H](CC1=CC=C(O)C=C1)C(=O)N2C...</td>\n",
       "    </tr>\n",
       "  </tbody>\n",
       "</table>\n",
       "<p>1515 rows × 4 columns</p>\n",
       "</div>"
      ],
      "text/plain": [
       "            pAC50  AC50(uM)  Active  \\\n",
       "EFFICACY                              \n",
       "105.493143   8.00  0.100000       1   \n",
       "34.268972    7.95  0.112202       1   \n",
       "40.708548    7.90  0.125893       1   \n",
       "44.052835    7.90  0.125893       1   \n",
       "34.926175    7.85  0.141254       1   \n",
       "...           ...       ...     ...   \n",
       "0.000000      NaN       NaN       0   \n",
       "0.000000      NaN       NaN       0   \n",
       "0.000000      NaN       NaN       0   \n",
       "0.000000      NaN       NaN       0   \n",
       "0.000000      NaN       NaN       0   \n",
       "\n",
       "                                                       SMILES  \n",
       "EFFICACY                                                       \n",
       "105.493143  CC[C@H](NC(=O)[C@H](C[S+]([O-])(=O)CC1CC1)N[C@...  \n",
       "34.268972   [H][C@@]1(C[C@H](C)[C@@]([H])(O1)[C@]2(CC)CC[C...  \n",
       "40.708548   [H][C@@]1(C[C@H](C)[C@@]([H])(O1)[C@]2(CC)CC[C...  \n",
       "44.052835   CC(C)CC(=O)O[C@H]\\1C[C@@]2(COC(C)=O)[C@H](O[C@...  \n",
       "34.926175         Clc2cc(ccc2NC(=O)c1cc(Cl)ccc1O)[N+]([O-])=O  \n",
       "...                                                       ...  \n",
       "0.000000    C[C@H](CO)C/1=C(O)/C(=O)[C@@]2(C)C/C=C(C)/CC/C...  \n",
       "0.000000    C[C@H](CO)NC1=C(C=C2CCC(=O)NC2=C1)[S+]([O-])(=...  \n",
       "0.000000                     C[C@H](CS)C(=O)N1CCC[C@H]1C(O)=O  \n",
       "0.000000    C[C@H](N(C(=N)NC#N)C1=C2C=CC=NC2=CC=C1)C3=CC=C...  \n",
       "0.000000    C[C@H](N)C(=O)N[C@@H](CC1=CC=C(O)C=C1)C(=O)N2C...  \n",
       "\n",
       "[1515 rows x 4 columns]"
      ]
     },
     "execution_count": 4,
     "metadata": {},
     "output_type": "execute_result"
    }
   ],
   "source": [
    "df"
   ]
  },
  {
   "cell_type": "code",
   "execution_count": 5,
   "metadata": {},
   "outputs": [],
   "source": [
    "df['molecules'] = df.SMILES.apply(Chem.MolFromSmiles)"
   ]
  },
  {
   "cell_type": "code",
   "execution_count": 6,
   "metadata": {},
   "outputs": [
    {
     "data": {
      "text/html": [
       "<div>\n",
       "<style scoped>\n",
       "    .dataframe tbody tr th:only-of-type {\n",
       "        vertical-align: middle;\n",
       "    }\n",
       "\n",
       "    .dataframe tbody tr th {\n",
       "        vertical-align: top;\n",
       "    }\n",
       "\n",
       "    .dataframe thead th {\n",
       "        text-align: right;\n",
       "    }\n",
       "</style>\n",
       "<table border=\"1\" class=\"dataframe\">\n",
       "  <thead>\n",
       "    <tr style=\"text-align: right;\">\n",
       "      <th></th>\n",
       "      <th>pAC50</th>\n",
       "      <th>AC50(uM)</th>\n",
       "      <th>Active</th>\n",
       "      <th>SMILES</th>\n",
       "      <th>molecules</th>\n",
       "    </tr>\n",
       "    <tr>\n",
       "      <th>EFFICACY</th>\n",
       "      <th></th>\n",
       "      <th></th>\n",
       "      <th></th>\n",
       "      <th></th>\n",
       "      <th></th>\n",
       "    </tr>\n",
       "  </thead>\n",
       "  <tbody>\n",
       "    <tr>\n",
       "      <th>105.493143</th>\n",
       "      <td>8.00</td>\n",
       "      <td>0.100000</td>\n",
       "      <td>1</td>\n",
       "      <td>CC[C@H](NC(=O)[C@H](C[S+]([O-])(=O)CC1CC1)N[C@...</td>\n",
       "      <td>&lt;rdkit.Chem.rdchem.Mol object at 0x7f0676819ee0&gt;</td>\n",
       "    </tr>\n",
       "    <tr>\n",
       "      <th>34.268972</th>\n",
       "      <td>7.95</td>\n",
       "      <td>0.112202</td>\n",
       "      <td>1</td>\n",
       "      <td>[H][C@@]1(C[C@H](C)[C@@]([H])(O1)[C@]2(CC)CC[C...</td>\n",
       "      <td>&lt;rdkit.Chem.rdchem.Mol object at 0x7f0676819e20&gt;</td>\n",
       "    </tr>\n",
       "    <tr>\n",
       "      <th>40.708548</th>\n",
       "      <td>7.90</td>\n",
       "      <td>0.125893</td>\n",
       "      <td>1</td>\n",
       "      <td>[H][C@@]1(C[C@H](C)[C@@]([H])(O1)[C@]2(CC)CC[C...</td>\n",
       "      <td>&lt;rdkit.Chem.rdchem.Mol object at 0x7f0676819ac0&gt;</td>\n",
       "    </tr>\n",
       "    <tr>\n",
       "      <th>44.052835</th>\n",
       "      <td>7.90</td>\n",
       "      <td>0.125893</td>\n",
       "      <td>1</td>\n",
       "      <td>CC(C)CC(=O)O[C@H]\\1C[C@@]2(COC(C)=O)[C@H](O[C@...</td>\n",
       "      <td>&lt;rdkit.Chem.rdchem.Mol object at 0x7f0676819e80&gt;</td>\n",
       "    </tr>\n",
       "    <tr>\n",
       "      <th>34.926175</th>\n",
       "      <td>7.85</td>\n",
       "      <td>0.141254</td>\n",
       "      <td>1</td>\n",
       "      <td>Clc2cc(ccc2NC(=O)c1cc(Cl)ccc1O)[N+]([O-])=O</td>\n",
       "      <td>&lt;rdkit.Chem.rdchem.Mol object at 0x7f0676819fa0&gt;</td>\n",
       "    </tr>\n",
       "    <tr>\n",
       "      <th>...</th>\n",
       "      <td>...</td>\n",
       "      <td>...</td>\n",
       "      <td>...</td>\n",
       "      <td>...</td>\n",
       "      <td>...</td>\n",
       "    </tr>\n",
       "    <tr>\n",
       "      <th>0.000000</th>\n",
       "      <td>NaN</td>\n",
       "      <td>NaN</td>\n",
       "      <td>0</td>\n",
       "      <td>C[C@H](CO)C/1=C(O)/C(=O)[C@@]2(C)C/C=C(C)/CC/C...</td>\n",
       "      <td>&lt;rdkit.Chem.rdchem.Mol object at 0x7f06767ffca0&gt;</td>\n",
       "    </tr>\n",
       "    <tr>\n",
       "      <th>0.000000</th>\n",
       "      <td>NaN</td>\n",
       "      <td>NaN</td>\n",
       "      <td>0</td>\n",
       "      <td>C[C@H](CO)NC1=C(C=C2CCC(=O)NC2=C1)[S+]([O-])(=...</td>\n",
       "      <td>&lt;rdkit.Chem.rdchem.Mol object at 0x7f06767ffd00&gt;</td>\n",
       "    </tr>\n",
       "    <tr>\n",
       "      <th>0.000000</th>\n",
       "      <td>NaN</td>\n",
       "      <td>NaN</td>\n",
       "      <td>0</td>\n",
       "      <td>C[C@H](CS)C(=O)N1CCC[C@H]1C(O)=O</td>\n",
       "      <td>&lt;rdkit.Chem.rdchem.Mol object at 0x7f06767ffd60&gt;</td>\n",
       "    </tr>\n",
       "    <tr>\n",
       "      <th>0.000000</th>\n",
       "      <td>NaN</td>\n",
       "      <td>NaN</td>\n",
       "      <td>0</td>\n",
       "      <td>C[C@H](N(C(=N)NC#N)C1=C2C=CC=NC2=CC=C1)C3=CC=C...</td>\n",
       "      <td>&lt;rdkit.Chem.rdchem.Mol object at 0x7f06767ffdc0&gt;</td>\n",
       "    </tr>\n",
       "    <tr>\n",
       "      <th>0.000000</th>\n",
       "      <td>NaN</td>\n",
       "      <td>NaN</td>\n",
       "      <td>0</td>\n",
       "      <td>C[C@H](N)C(=O)N[C@@H](CC1=CC=C(O)C=C1)C(=O)N2C...</td>\n",
       "      <td>&lt;rdkit.Chem.rdchem.Mol object at 0x7f06767ffe20&gt;</td>\n",
       "    </tr>\n",
       "  </tbody>\n",
       "</table>\n",
       "<p>1515 rows × 5 columns</p>\n",
       "</div>"
      ],
      "text/plain": [
       "            pAC50  AC50(uM)  Active  \\\n",
       "EFFICACY                              \n",
       "105.493143   8.00  0.100000       1   \n",
       "34.268972    7.95  0.112202       1   \n",
       "40.708548    7.90  0.125893       1   \n",
       "44.052835    7.90  0.125893       1   \n",
       "34.926175    7.85  0.141254       1   \n",
       "...           ...       ...     ...   \n",
       "0.000000      NaN       NaN       0   \n",
       "0.000000      NaN       NaN       0   \n",
       "0.000000      NaN       NaN       0   \n",
       "0.000000      NaN       NaN       0   \n",
       "0.000000      NaN       NaN       0   \n",
       "\n",
       "                                                       SMILES  \\\n",
       "EFFICACY                                                        \n",
       "105.493143  CC[C@H](NC(=O)[C@H](C[S+]([O-])(=O)CC1CC1)N[C@...   \n",
       "34.268972   [H][C@@]1(C[C@H](C)[C@@]([H])(O1)[C@]2(CC)CC[C...   \n",
       "40.708548   [H][C@@]1(C[C@H](C)[C@@]([H])(O1)[C@]2(CC)CC[C...   \n",
       "44.052835   CC(C)CC(=O)O[C@H]\\1C[C@@]2(COC(C)=O)[C@H](O[C@...   \n",
       "34.926175         Clc2cc(ccc2NC(=O)c1cc(Cl)ccc1O)[N+]([O-])=O   \n",
       "...                                                       ...   \n",
       "0.000000    C[C@H](CO)C/1=C(O)/C(=O)[C@@]2(C)C/C=C(C)/CC/C...   \n",
       "0.000000    C[C@H](CO)NC1=C(C=C2CCC(=O)NC2=C1)[S+]([O-])(=...   \n",
       "0.000000                     C[C@H](CS)C(=O)N1CCC[C@H]1C(O)=O   \n",
       "0.000000    C[C@H](N(C(=N)NC#N)C1=C2C=CC=NC2=CC=C1)C3=CC=C...   \n",
       "0.000000    C[C@H](N)C(=O)N[C@@H](CC1=CC=C(O)C=C1)C(=O)N2C...   \n",
       "\n",
       "                                                   molecules  \n",
       "EFFICACY                                                      \n",
       "105.493143  <rdkit.Chem.rdchem.Mol object at 0x7f0676819ee0>  \n",
       "34.268972   <rdkit.Chem.rdchem.Mol object at 0x7f0676819e20>  \n",
       "40.708548   <rdkit.Chem.rdchem.Mol object at 0x7f0676819ac0>  \n",
       "44.052835   <rdkit.Chem.rdchem.Mol object at 0x7f0676819e80>  \n",
       "34.926175   <rdkit.Chem.rdchem.Mol object at 0x7f0676819fa0>  \n",
       "...                                                      ...  \n",
       "0.000000    <rdkit.Chem.rdchem.Mol object at 0x7f06767ffca0>  \n",
       "0.000000    <rdkit.Chem.rdchem.Mol object at 0x7f06767ffd00>  \n",
       "0.000000    <rdkit.Chem.rdchem.Mol object at 0x7f06767ffd60>  \n",
       "0.000000    <rdkit.Chem.rdchem.Mol object at 0x7f06767ffdc0>  \n",
       "0.000000    <rdkit.Chem.rdchem.Mol object at 0x7f06767ffe20>  \n",
       "\n",
       "[1515 rows x 5 columns]"
      ]
     },
     "execution_count": 6,
     "metadata": {},
     "output_type": "execute_result"
    }
   ],
   "source": [
    "df"
   ]
  },
  {
   "cell_type": "code",
   "execution_count": 7,
   "metadata": {},
   "outputs": [],
   "source": [
    "df['ECFP4']=df.molecules.apply(lambda m: AllChem.GetMorganFingerprintAsBitVect(m, radius=2, nBits=1024))\n",
    "df['ECFP6']=df.molecules.apply(lambda m: AllChem.GetMorganFingerprintAsBitVect(m, radius=3, nBits=1024))\n",
    "df['ECFP8']=df.molecules.apply(lambda m: AllChem.GetMorganFingerprintAsBitVect(m, radius=4, nBits=1024))\n",
    "df['ECFP10']=df.molecules.apply(lambda m: AllChem.GetMorganFingerprintAsBitVect(m, radius=5, nBits=1024))\n",
    "df['ECFP12']=df.molecules.apply(lambda m: AllChem.GetMorganFingerprintAsBitVect(m, radius=6, nBits=1024))\n",
    "df['RDKFP']=df.molecules.apply(lambda m: AllChem.RDKFingerprint(m, fpSize=1024))"
   ]
  },
  {
   "cell_type": "code",
   "execution_count": 9,
   "metadata": {},
   "outputs": [
    {
     "data": {
      "text/html": [
       "<div>\n",
       "<style scoped>\n",
       "    .dataframe tbody tr th:only-of-type {\n",
       "        vertical-align: middle;\n",
       "    }\n",
       "\n",
       "    .dataframe tbody tr th {\n",
       "        vertical-align: top;\n",
       "    }\n",
       "\n",
       "    .dataframe thead th {\n",
       "        text-align: right;\n",
       "    }\n",
       "</style>\n",
       "<table border=\"1\" class=\"dataframe\">\n",
       "  <thead>\n",
       "    <tr style=\"text-align: right;\">\n",
       "      <th></th>\n",
       "      <th>pAC50</th>\n",
       "      <th>AC50(uM)</th>\n",
       "      <th>Active</th>\n",
       "      <th>SMILES</th>\n",
       "      <th>molecules</th>\n",
       "      <th>ECFP4</th>\n",
       "      <th>ECFP6</th>\n",
       "      <th>ECFP8</th>\n",
       "      <th>ECFP10</th>\n",
       "      <th>ECFP12</th>\n",
       "      <th>RDKFP</th>\n",
       "    </tr>\n",
       "    <tr>\n",
       "      <th>EFFICACY</th>\n",
       "      <th></th>\n",
       "      <th></th>\n",
       "      <th></th>\n",
       "      <th></th>\n",
       "      <th></th>\n",
       "      <th></th>\n",
       "      <th></th>\n",
       "      <th></th>\n",
       "      <th></th>\n",
       "      <th></th>\n",
       "      <th></th>\n",
       "    </tr>\n",
       "  </thead>\n",
       "  <tbody>\n",
       "    <tr>\n",
       "      <th>105.493143</th>\n",
       "      <td>8.00</td>\n",
       "      <td>0.100000</td>\n",
       "      <td>1</td>\n",
       "      <td>CC[C@H](NC(=O)[C@H](C[S+]([O-])(=O)CC1CC1)N[C@...</td>\n",
       "      <td>&lt;rdkit.Chem.rdchem.Mol object at 0x7fa1faf1eb70&gt;</td>\n",
       "      <td>[0, 1, 0, 0, 0, 0, 0, 0, 0, 1, 0, 0, 0, 0, 1, ...</td>\n",
       "      <td>[0, 1, 0, 0, 0, 0, 0, 0, 0, 1, 0, 0, 0, 0, 1, ...</td>\n",
       "      <td>[0, 1, 0, 0, 0, 0, 0, 0, 0, 1, 0, 0, 0, 0, 1, ...</td>\n",
       "      <td>[0, 1, 0, 0, 1, 0, 0, 0, 0, 1, 0, 0, 0, 0, 1, ...</td>\n",
       "      <td>[0, 1, 0, 0, 1, 0, 0, 0, 0, 1, 0, 0, 0, 0, 1, ...</td>\n",
       "      <td>[0, 1, 1, 1, 1, 0, 0, 1, 0, 0, 1, 1, 0, 0, 1, ...</td>\n",
       "    </tr>\n",
       "    <tr>\n",
       "      <th>34.268972</th>\n",
       "      <td>7.95</td>\n",
       "      <td>0.112202</td>\n",
       "      <td>1</td>\n",
       "      <td>[H][C@@]1(C[C@H](C)[C@@]([H])(O1)[C@]2(CC)CC[C...</td>\n",
       "      <td>&lt;rdkit.Chem.rdchem.Mol object at 0x7fa1faf1eb20&gt;</td>\n",
       "      <td>[0, 1, 0, 0, 0, 0, 0, 0, 0, 0, 0, 0, 0, 0, 0, ...</td>\n",
       "      <td>[0, 1, 0, 0, 0, 0, 0, 0, 0, 0, 0, 0, 0, 0, 0, ...</td>\n",
       "      <td>[0, 1, 0, 0, 0, 0, 0, 0, 0, 0, 0, 0, 1, 1, 0, ...</td>\n",
       "      <td>[0, 1, 0, 0, 0, 0, 0, 0, 0, 0, 0, 1, 1, 1, 0, ...</td>\n",
       "      <td>[0, 1, 0, 0, 0, 0, 0, 0, 0, 0, 0, 1, 1, 1, 0, ...</td>\n",
       "      <td>[1, 0, 0, 0, 0, 1, 0, 0, 0, 0, 1, 1, 1, 1, 1, ...</td>\n",
       "    </tr>\n",
       "    <tr>\n",
       "      <th>40.708548</th>\n",
       "      <td>7.90</td>\n",
       "      <td>0.125893</td>\n",
       "      <td>1</td>\n",
       "      <td>[H][C@@]1(C[C@H](C)[C@@]([H])(O1)[C@]2(CC)CC[C...</td>\n",
       "      <td>&lt;rdkit.Chem.rdchem.Mol object at 0x7fa1faf1ecb0&gt;</td>\n",
       "      <td>[0, 1, 0, 0, 0, 0, 0, 0, 0, 0, 0, 0, 0, 0, 0, ...</td>\n",
       "      <td>[0, 1, 0, 0, 0, 0, 0, 0, 0, 0, 0, 0, 0, 0, 0, ...</td>\n",
       "      <td>[0, 1, 0, 0, 0, 0, 0, 0, 0, 0, 0, 0, 1, 1, 0, ...</td>\n",
       "      <td>[0, 1, 0, 0, 0, 0, 0, 0, 0, 0, 0, 1, 1, 1, 0, ...</td>\n",
       "      <td>[0, 1, 0, 0, 0, 0, 0, 0, 0, 0, 0, 1, 1, 1, 0, ...</td>\n",
       "      <td>[1, 0, 0, 0, 0, 1, 0, 0, 0, 0, 1, 1, 1, 1, 1, ...</td>\n",
       "    </tr>\n",
       "    <tr>\n",
       "      <th>44.052835</th>\n",
       "      <td>7.90</td>\n",
       "      <td>0.125893</td>\n",
       "      <td>1</td>\n",
       "      <td>CC(C)CC(=O)O[C@H]\\1C[C@@]2(COC(C)=O)[C@H](O[C@...</td>\n",
       "      <td>&lt;rdkit.Chem.rdchem.Mol object at 0x7fa1faf1ed00&gt;</td>\n",
       "      <td>[0, 1, 0, 0, 0, 0, 0, 0, 0, 0, 0, 1, 0, 0, 0, ...</td>\n",
       "      <td>[0, 1, 0, 0, 0, 0, 0, 0, 0, 0, 0, 1, 0, 0, 0, ...</td>\n",
       "      <td>[0, 1, 0, 0, 0, 0, 0, 0, 0, 0, 0, 1, 0, 0, 0, ...</td>\n",
       "      <td>[0, 1, 0, 0, 0, 0, 0, 0, 0, 0, 0, 1, 0, 0, 0, ...</td>\n",
       "      <td>[0, 1, 0, 0, 0, 0, 0, 0, 0, 0, 0, 1, 0, 0, 0, ...</td>\n",
       "      <td>[1, 0, 1, 1, 1, 1, 1, 0, 1, 0, 1, 1, 1, 1, 1, ...</td>\n",
       "    </tr>\n",
       "    <tr>\n",
       "      <th>34.926175</th>\n",
       "      <td>7.85</td>\n",
       "      <td>0.141254</td>\n",
       "      <td>1</td>\n",
       "      <td>Clc2cc(ccc2NC(=O)c1cc(Cl)ccc1O)[N+]([O-])=O</td>\n",
       "      <td>&lt;rdkit.Chem.rdchem.Mol object at 0x7fa1faf1edf0&gt;</td>\n",
       "      <td>[0, 0, 0, 0, 0, 0, 0, 0, 0, 0, 0, 0, 0, 0, 0, ...</td>\n",
       "      <td>[0, 0, 0, 0, 0, 0, 0, 0, 1, 0, 0, 0, 0, 0, 0, ...</td>\n",
       "      <td>[0, 0, 0, 0, 0, 0, 0, 0, 1, 0, 0, 0, 0, 0, 0, ...</td>\n",
       "      <td>[0, 0, 0, 0, 0, 0, 0, 0, 1, 0, 0, 0, 0, 0, 0, ...</td>\n",
       "      <td>[0, 0, 0, 0, 0, 0, 0, 0, 1, 0, 0, 0, 0, 0, 0, ...</td>\n",
       "      <td>[0, 1, 1, 0, 0, 0, 0, 0, 1, 0, 1, 1, 1, 1, 0, ...</td>\n",
       "    </tr>\n",
       "    <tr>\n",
       "      <th>...</th>\n",
       "      <td>...</td>\n",
       "      <td>...</td>\n",
       "      <td>...</td>\n",
       "      <td>...</td>\n",
       "      <td>...</td>\n",
       "      <td>...</td>\n",
       "      <td>...</td>\n",
       "      <td>...</td>\n",
       "      <td>...</td>\n",
       "      <td>...</td>\n",
       "      <td>...</td>\n",
       "    </tr>\n",
       "    <tr>\n",
       "      <th>0.000000</th>\n",
       "      <td>NaN</td>\n",
       "      <td>NaN</td>\n",
       "      <td>0</td>\n",
       "      <td>C[C@H](CO)C/1=C(O)/C(=O)[C@@]2(C)C/C=C(C)/CC/C...</td>\n",
       "      <td>&lt;rdkit.Chem.rdchem.Mol object at 0x7fa1faec4e40&gt;</td>\n",
       "      <td>[0, 1, 0, 0, 0, 0, 0, 0, 0, 0, 0, 0, 0, 0, 0, ...</td>\n",
       "      <td>[0, 1, 0, 0, 0, 0, 0, 1, 0, 0, 0, 0, 0, 0, 0, ...</td>\n",
       "      <td>[0, 1, 0, 0, 0, 0, 0, 1, 0, 0, 0, 0, 0, 0, 0, ...</td>\n",
       "      <td>[0, 1, 0, 0, 1, 0, 0, 1, 0, 0, 0, 0, 0, 0, 0, ...</td>\n",
       "      <td>[0, 1, 0, 0, 1, 0, 0, 1, 0, 0, 0, 0, 0, 0, 0, ...</td>\n",
       "      <td>[0, 0, 0, 0, 1, 0, 1, 1, 1, 0, 0, 1, 0, 0, 1, ...</td>\n",
       "    </tr>\n",
       "    <tr>\n",
       "      <th>0.000000</th>\n",
       "      <td>NaN</td>\n",
       "      <td>NaN</td>\n",
       "      <td>0</td>\n",
       "      <td>C[C@H](CO)NC1=C(C=C2CCC(=O)NC2=C1)[S+]([O-])(=...</td>\n",
       "      <td>&lt;rdkit.Chem.rdchem.Mol object at 0x7fa1faec4e90&gt;</td>\n",
       "      <td>[0, 1, 0, 0, 0, 0, 0, 0, 0, 0, 0, 0, 0, 0, 0, ...</td>\n",
       "      <td>[0, 1, 0, 0, 0, 0, 0, 0, 0, 0, 0, 0, 0, 0, 0, ...</td>\n",
       "      <td>[0, 1, 0, 0, 0, 0, 0, 0, 0, 0, 0, 0, 0, 0, 0, ...</td>\n",
       "      <td>[0, 1, 0, 0, 0, 0, 0, 0, 0, 0, 0, 0, 0, 0, 0, ...</td>\n",
       "      <td>[0, 1, 0, 0, 0, 0, 0, 0, 0, 0, 0, 0, 0, 0, 0, ...</td>\n",
       "      <td>[1, 1, 1, 1, 1, 1, 1, 0, 1, 1, 1, 0, 1, 1, 1, ...</td>\n",
       "    </tr>\n",
       "    <tr>\n",
       "      <th>0.000000</th>\n",
       "      <td>NaN</td>\n",
       "      <td>NaN</td>\n",
       "      <td>0</td>\n",
       "      <td>C[C@H](CS)C(=O)N1CCC[C@H]1C(O)=O</td>\n",
       "      <td>&lt;rdkit.Chem.rdchem.Mol object at 0x7fa1faec4ee0&gt;</td>\n",
       "      <td>[0, 1, 0, 0, 1, 0, 0, 0, 0, 0, 0, 0, 0, 0, 0, ...</td>\n",
       "      <td>[0, 1, 0, 0, 1, 0, 0, 0, 0, 0, 0, 0, 0, 0, 0, ...</td>\n",
       "      <td>[0, 1, 0, 0, 1, 0, 0, 0, 0, 0, 0, 0, 0, 0, 0, ...</td>\n",
       "      <td>[0, 1, 0, 0, 1, 0, 0, 0, 0, 0, 0, 0, 0, 0, 0, ...</td>\n",
       "      <td>[0, 1, 0, 0, 1, 0, 0, 0, 0, 0, 0, 0, 0, 0, 0, ...</td>\n",
       "      <td>[0, 0, 1, 1, 0, 0, 0, 1, 0, 0, 0, 0, 0, 0, 1, ...</td>\n",
       "    </tr>\n",
       "    <tr>\n",
       "      <th>0.000000</th>\n",
       "      <td>NaN</td>\n",
       "      <td>NaN</td>\n",
       "      <td>0</td>\n",
       "      <td>C[C@H](N(C(=N)NC#N)C1=C2C=CC=NC2=CC=C1)C3=CC=C...</td>\n",
       "      <td>&lt;rdkit.Chem.rdchem.Mol object at 0x7fa1faec4f30&gt;</td>\n",
       "      <td>[0, 1, 0, 0, 0, 0, 0, 0, 0, 0, 0, 0, 0, 0, 0, ...</td>\n",
       "      <td>[0, 1, 0, 0, 0, 0, 0, 0, 0, 0, 0, 0, 0, 0, 0, ...</td>\n",
       "      <td>[0, 1, 0, 0, 0, 0, 0, 0, 0, 0, 0, 0, 0, 1, 0, ...</td>\n",
       "      <td>[0, 1, 0, 0, 0, 0, 0, 0, 0, 0, 0, 0, 0, 1, 0, ...</td>\n",
       "      <td>[0, 1, 0, 0, 0, 0, 0, 0, 0, 0, 0, 0, 0, 1, 0, ...</td>\n",
       "      <td>[1, 0, 1, 1, 1, 1, 1, 1, 0, 0, 1, 1, 0, 1, 1, ...</td>\n",
       "    </tr>\n",
       "    <tr>\n",
       "      <th>0.000000</th>\n",
       "      <td>NaN</td>\n",
       "      <td>NaN</td>\n",
       "      <td>0</td>\n",
       "      <td>C[C@H](N)C(=O)N[C@@H](CC1=CC=C(O)C=C1)C(=O)N2C...</td>\n",
       "      <td>&lt;rdkit.Chem.rdchem.Mol object at 0x7fa1faec4f80&gt;</td>\n",
       "      <td>[0, 1, 0, 0, 1, 0, 0, 0, 0, 0, 0, 0, 0, 0, 0, ...</td>\n",
       "      <td>[0, 1, 0, 0, 1, 0, 0, 0, 0, 0, 0, 0, 0, 0, 1, ...</td>\n",
       "      <td>[0, 1, 0, 0, 1, 0, 0, 0, 0, 0, 0, 0, 0, 0, 1, ...</td>\n",
       "      <td>[0, 1, 0, 0, 1, 0, 0, 1, 0, 0, 0, 0, 0, 0, 1, ...</td>\n",
       "      <td>[0, 1, 0, 0, 1, 0, 0, 1, 0, 0, 0, 0, 0, 0, 1, ...</td>\n",
       "      <td>[0, 1, 1, 1, 1, 1, 1, 1, 1, 0, 0, 0, 1, 0, 1, ...</td>\n",
       "    </tr>\n",
       "  </tbody>\n",
       "</table>\n",
       "<p>1515 rows × 11 columns</p>\n",
       "</div>"
      ],
      "text/plain": [
       "            pAC50  AC50(uM)  Active  \\\n",
       "EFFICACY                              \n",
       "105.493143   8.00  0.100000       1   \n",
       "34.268972    7.95  0.112202       1   \n",
       "40.708548    7.90  0.125893       1   \n",
       "44.052835    7.90  0.125893       1   \n",
       "34.926175    7.85  0.141254       1   \n",
       "...           ...       ...     ...   \n",
       "0.000000      NaN       NaN       0   \n",
       "0.000000      NaN       NaN       0   \n",
       "0.000000      NaN       NaN       0   \n",
       "0.000000      NaN       NaN       0   \n",
       "0.000000      NaN       NaN       0   \n",
       "\n",
       "                                                       SMILES  \\\n",
       "EFFICACY                                                        \n",
       "105.493143  CC[C@H](NC(=O)[C@H](C[S+]([O-])(=O)CC1CC1)N[C@...   \n",
       "34.268972   [H][C@@]1(C[C@H](C)[C@@]([H])(O1)[C@]2(CC)CC[C...   \n",
       "40.708548   [H][C@@]1(C[C@H](C)[C@@]([H])(O1)[C@]2(CC)CC[C...   \n",
       "44.052835   CC(C)CC(=O)O[C@H]\\1C[C@@]2(COC(C)=O)[C@H](O[C@...   \n",
       "34.926175         Clc2cc(ccc2NC(=O)c1cc(Cl)ccc1O)[N+]([O-])=O   \n",
       "...                                                       ...   \n",
       "0.000000    C[C@H](CO)C/1=C(O)/C(=O)[C@@]2(C)C/C=C(C)/CC/C...   \n",
       "0.000000    C[C@H](CO)NC1=C(C=C2CCC(=O)NC2=C1)[S+]([O-])(=...   \n",
       "0.000000                     C[C@H](CS)C(=O)N1CCC[C@H]1C(O)=O   \n",
       "0.000000    C[C@H](N(C(=N)NC#N)C1=C2C=CC=NC2=CC=C1)C3=CC=C...   \n",
       "0.000000    C[C@H](N)C(=O)N[C@@H](CC1=CC=C(O)C=C1)C(=O)N2C...   \n",
       "\n",
       "                                                   molecules  \\\n",
       "EFFICACY                                                       \n",
       "105.493143  <rdkit.Chem.rdchem.Mol object at 0x7fa1faf1eb70>   \n",
       "34.268972   <rdkit.Chem.rdchem.Mol object at 0x7fa1faf1eb20>   \n",
       "40.708548   <rdkit.Chem.rdchem.Mol object at 0x7fa1faf1ecb0>   \n",
       "44.052835   <rdkit.Chem.rdchem.Mol object at 0x7fa1faf1ed00>   \n",
       "34.926175   <rdkit.Chem.rdchem.Mol object at 0x7fa1faf1edf0>   \n",
       "...                                                      ...   \n",
       "0.000000    <rdkit.Chem.rdchem.Mol object at 0x7fa1faec4e40>   \n",
       "0.000000    <rdkit.Chem.rdchem.Mol object at 0x7fa1faec4e90>   \n",
       "0.000000    <rdkit.Chem.rdchem.Mol object at 0x7fa1faec4ee0>   \n",
       "0.000000    <rdkit.Chem.rdchem.Mol object at 0x7fa1faec4f30>   \n",
       "0.000000    <rdkit.Chem.rdchem.Mol object at 0x7fa1faec4f80>   \n",
       "\n",
       "                                                        ECFP4  \\\n",
       "EFFICACY                                                        \n",
       "105.493143  [0, 1, 0, 0, 0, 0, 0, 0, 0, 1, 0, 0, 0, 0, 1, ...   \n",
       "34.268972   [0, 1, 0, 0, 0, 0, 0, 0, 0, 0, 0, 0, 0, 0, 0, ...   \n",
       "40.708548   [0, 1, 0, 0, 0, 0, 0, 0, 0, 0, 0, 0, 0, 0, 0, ...   \n",
       "44.052835   [0, 1, 0, 0, 0, 0, 0, 0, 0, 0, 0, 1, 0, 0, 0, ...   \n",
       "34.926175   [0, 0, 0, 0, 0, 0, 0, 0, 0, 0, 0, 0, 0, 0, 0, ...   \n",
       "...                                                       ...   \n",
       "0.000000    [0, 1, 0, 0, 0, 0, 0, 0, 0, 0, 0, 0, 0, 0, 0, ...   \n",
       "0.000000    [0, 1, 0, 0, 0, 0, 0, 0, 0, 0, 0, 0, 0, 0, 0, ...   \n",
       "0.000000    [0, 1, 0, 0, 1, 0, 0, 0, 0, 0, 0, 0, 0, 0, 0, ...   \n",
       "0.000000    [0, 1, 0, 0, 0, 0, 0, 0, 0, 0, 0, 0, 0, 0, 0, ...   \n",
       "0.000000    [0, 1, 0, 0, 1, 0, 0, 0, 0, 0, 0, 0, 0, 0, 0, ...   \n",
       "\n",
       "                                                        ECFP6  \\\n",
       "EFFICACY                                                        \n",
       "105.493143  [0, 1, 0, 0, 0, 0, 0, 0, 0, 1, 0, 0, 0, 0, 1, ...   \n",
       "34.268972   [0, 1, 0, 0, 0, 0, 0, 0, 0, 0, 0, 0, 0, 0, 0, ...   \n",
       "40.708548   [0, 1, 0, 0, 0, 0, 0, 0, 0, 0, 0, 0, 0, 0, 0, ...   \n",
       "44.052835   [0, 1, 0, 0, 0, 0, 0, 0, 0, 0, 0, 1, 0, 0, 0, ...   \n",
       "34.926175   [0, 0, 0, 0, 0, 0, 0, 0, 1, 0, 0, 0, 0, 0, 0, ...   \n",
       "...                                                       ...   \n",
       "0.000000    [0, 1, 0, 0, 0, 0, 0, 1, 0, 0, 0, 0, 0, 0, 0, ...   \n",
       "0.000000    [0, 1, 0, 0, 0, 0, 0, 0, 0, 0, 0, 0, 0, 0, 0, ...   \n",
       "0.000000    [0, 1, 0, 0, 1, 0, 0, 0, 0, 0, 0, 0, 0, 0, 0, ...   \n",
       "0.000000    [0, 1, 0, 0, 0, 0, 0, 0, 0, 0, 0, 0, 0, 0, 0, ...   \n",
       "0.000000    [0, 1, 0, 0, 1, 0, 0, 0, 0, 0, 0, 0, 0, 0, 1, ...   \n",
       "\n",
       "                                                        ECFP8  \\\n",
       "EFFICACY                                                        \n",
       "105.493143  [0, 1, 0, 0, 0, 0, 0, 0, 0, 1, 0, 0, 0, 0, 1, ...   \n",
       "34.268972   [0, 1, 0, 0, 0, 0, 0, 0, 0, 0, 0, 0, 1, 1, 0, ...   \n",
       "40.708548   [0, 1, 0, 0, 0, 0, 0, 0, 0, 0, 0, 0, 1, 1, 0, ...   \n",
       "44.052835   [0, 1, 0, 0, 0, 0, 0, 0, 0, 0, 0, 1, 0, 0, 0, ...   \n",
       "34.926175   [0, 0, 0, 0, 0, 0, 0, 0, 1, 0, 0, 0, 0, 0, 0, ...   \n",
       "...                                                       ...   \n",
       "0.000000    [0, 1, 0, 0, 0, 0, 0, 1, 0, 0, 0, 0, 0, 0, 0, ...   \n",
       "0.000000    [0, 1, 0, 0, 0, 0, 0, 0, 0, 0, 0, 0, 0, 0, 0, ...   \n",
       "0.000000    [0, 1, 0, 0, 1, 0, 0, 0, 0, 0, 0, 0, 0, 0, 0, ...   \n",
       "0.000000    [0, 1, 0, 0, 0, 0, 0, 0, 0, 0, 0, 0, 0, 1, 0, ...   \n",
       "0.000000    [0, 1, 0, 0, 1, 0, 0, 0, 0, 0, 0, 0, 0, 0, 1, ...   \n",
       "\n",
       "                                                       ECFP10  \\\n",
       "EFFICACY                                                        \n",
       "105.493143  [0, 1, 0, 0, 1, 0, 0, 0, 0, 1, 0, 0, 0, 0, 1, ...   \n",
       "34.268972   [0, 1, 0, 0, 0, 0, 0, 0, 0, 0, 0, 1, 1, 1, 0, ...   \n",
       "40.708548   [0, 1, 0, 0, 0, 0, 0, 0, 0, 0, 0, 1, 1, 1, 0, ...   \n",
       "44.052835   [0, 1, 0, 0, 0, 0, 0, 0, 0, 0, 0, 1, 0, 0, 0, ...   \n",
       "34.926175   [0, 0, 0, 0, 0, 0, 0, 0, 1, 0, 0, 0, 0, 0, 0, ...   \n",
       "...                                                       ...   \n",
       "0.000000    [0, 1, 0, 0, 1, 0, 0, 1, 0, 0, 0, 0, 0, 0, 0, ...   \n",
       "0.000000    [0, 1, 0, 0, 0, 0, 0, 0, 0, 0, 0, 0, 0, 0, 0, ...   \n",
       "0.000000    [0, 1, 0, 0, 1, 0, 0, 0, 0, 0, 0, 0, 0, 0, 0, ...   \n",
       "0.000000    [0, 1, 0, 0, 0, 0, 0, 0, 0, 0, 0, 0, 0, 1, 0, ...   \n",
       "0.000000    [0, 1, 0, 0, 1, 0, 0, 1, 0, 0, 0, 0, 0, 0, 1, ...   \n",
       "\n",
       "                                                       ECFP12  \\\n",
       "EFFICACY                                                        \n",
       "105.493143  [0, 1, 0, 0, 1, 0, 0, 0, 0, 1, 0, 0, 0, 0, 1, ...   \n",
       "34.268972   [0, 1, 0, 0, 0, 0, 0, 0, 0, 0, 0, 1, 1, 1, 0, ...   \n",
       "40.708548   [0, 1, 0, 0, 0, 0, 0, 0, 0, 0, 0, 1, 1, 1, 0, ...   \n",
       "44.052835   [0, 1, 0, 0, 0, 0, 0, 0, 0, 0, 0, 1, 0, 0, 0, ...   \n",
       "34.926175   [0, 0, 0, 0, 0, 0, 0, 0, 1, 0, 0, 0, 0, 0, 0, ...   \n",
       "...                                                       ...   \n",
       "0.000000    [0, 1, 0, 0, 1, 0, 0, 1, 0, 0, 0, 0, 0, 0, 0, ...   \n",
       "0.000000    [0, 1, 0, 0, 0, 0, 0, 0, 0, 0, 0, 0, 0, 0, 0, ...   \n",
       "0.000000    [0, 1, 0, 0, 1, 0, 0, 0, 0, 0, 0, 0, 0, 0, 0, ...   \n",
       "0.000000    [0, 1, 0, 0, 0, 0, 0, 0, 0, 0, 0, 0, 0, 1, 0, ...   \n",
       "0.000000    [0, 1, 0, 0, 1, 0, 0, 1, 0, 0, 0, 0, 0, 0, 1, ...   \n",
       "\n",
       "                                                        RDKFP  \n",
       "EFFICACY                                                       \n",
       "105.493143  [0, 1, 1, 1, 1, 0, 0, 1, 0, 0, 1, 1, 0, 0, 1, ...  \n",
       "34.268972   [1, 0, 0, 0, 0, 1, 0, 0, 0, 0, 1, 1, 1, 1, 1, ...  \n",
       "40.708548   [1, 0, 0, 0, 0, 1, 0, 0, 0, 0, 1, 1, 1, 1, 1, ...  \n",
       "44.052835   [1, 0, 1, 1, 1, 1, 1, 0, 1, 0, 1, 1, 1, 1, 1, ...  \n",
       "34.926175   [0, 1, 1, 0, 0, 0, 0, 0, 1, 0, 1, 1, 1, 1, 0, ...  \n",
       "...                                                       ...  \n",
       "0.000000    [0, 0, 0, 0, 1, 0, 1, 1, 1, 0, 0, 1, 0, 0, 1, ...  \n",
       "0.000000    [1, 1, 1, 1, 1, 1, 1, 0, 1, 1, 1, 0, 1, 1, 1, ...  \n",
       "0.000000    [0, 0, 1, 1, 0, 0, 0, 1, 0, 0, 0, 0, 0, 0, 1, ...  \n",
       "0.000000    [1, 0, 1, 1, 1, 1, 1, 1, 0, 0, 1, 1, 0, 1, 1, ...  \n",
       "0.000000    [0, 1, 1, 1, 1, 1, 1, 1, 1, 0, 0, 0, 1, 0, 1, ...  \n",
       "\n",
       "[1515 rows x 11 columns]"
      ]
     },
     "execution_count": 9,
     "metadata": {},
     "output_type": "execute_result"
    }
   ],
   "source": [
    "df"
   ]
  },
  {
   "cell_type": "code",
   "execution_count": 8,
   "metadata": {},
   "outputs": [],
   "source": [
    "ECFP4 = np.array(list(df['ECFP4']))\n",
    "ECFP6 = np.array(list(df['ECFP6']))\n",
    "ECFP8 = np.array(list(df['ECFP8']))\n",
    "ECFP10 = np.array(list(df['ECFP10']))\n",
    "ECFP12 = np.array(list(df['ECFP12']))\n",
    "RDKFP = np.array(list(df['RDKFP']))\n",
    "\n",
    "Active = df['Active'].values"
   ]
  },
  {
   "cell_type": "code",
   "execution_count": 11,
   "metadata": {},
   "outputs": [
    {
     "name": "stdout",
     "output_type": "stream",
     "text": [
      "0: 617 140\n",
      "1: 595 163\n"
     ]
    }
   ],
   "source": [
    "#Test-ECFP4\n",
    "X_train, X_test, y_train, y_test = model_selection.train_test_split(ECFP4, Active, test_size= Test_Size)\n",
    "print('0:',list(y_train).count(0),list(y_test).count(0))\n",
    "print('1:',list(y_train).count(1),list(y_test).count(1))"
   ]
  },
  {
   "cell_type": "code",
   "execution_count": 17,
   "metadata": {},
   "outputs": [
    {
     "data": {
      "text/plain": [
       "LogisticRegression()"
      ]
     },
     "execution_count": 17,
     "metadata": {},
     "output_type": "execute_result"
    }
   ],
   "source": [
    "#For Logistic Regression\n",
    "model = LogisticRegression()\n",
    "model.fit(X_train, y_train)"
   ]
  },
  {
   "cell_type": "code",
   "execution_count": 18,
   "metadata": {},
   "outputs": [
    {
     "name": "stdout",
     "output_type": "stream",
     "text": [
      "Train_accuracy_score: 0.997\n",
      "Test_accuracy_score: 0.762\n",
      "F1 Score for logistic regression: 0.743\n",
      "Precision_Score for logistic regression: 0.743\n",
      "Recall_Score for logistic regression: 0.743\n",
      "\n",
      "\n",
      "              precision    recall  f1-score   support\n",
      "\n",
      "           0       0.78      0.78      0.78       163\n",
      "           1       0.74      0.74      0.74       140\n",
      "\n",
      "    accuracy                           0.76       303\n",
      "   macro avg       0.76      0.76      0.76       303\n",
      "weighted avg       0.76      0.76      0.76       303\n",
      "\n"
     ]
    }
   ],
   "source": [
    "train_ac= model.score(X_train,y_train)\n",
    "test_ac= model.score(X_test,y_test)\n",
    "print(\"Train_accuracy_score:\",round(train_ac,3))\n",
    "print(\"Test_accuracy_score:\",round(test_ac,3))\n",
    "\n",
    "from sklearn.metrics import f1_score\n",
    "from sklearn.metrics import precision_score\n",
    "from sklearn.metrics import recall_score\n",
    "y_predicted = model.predict(X_test)\n",
    "f1 = f1_score(y_test,y_predicted)\n",
    "print(\"F1 Score for logistic regression:\", round(f1,3))\n",
    "pres = precision_score(y_test,y_predicted)\n",
    "print(\"Precision_Score for logistic regression:\", round(pres,3))\n",
    "res = recall_score(y_test,y_predicted)\n",
    "print(\"Recall_Score for logistic regression:\", round(res,3))\n",
    "print(\"\\n\")\n",
    "from sklearn.metrics import classification_report\n",
    "print(classification_report(y_test,y_predicted))\n"
   ]
  },
  {
   "cell_type": "code",
   "execution_count": 36,
   "metadata": {},
   "outputs": [
    {
     "data": {
      "image/png": "[encoded data removed]",
      "text/plain": [
       "<Figure size 432x288 with 1 Axes>"
      ]
     },
     "metadata": {
      "needs_background": "light"
     },
     "output_type": "display_data"
    }
   ],
   "source": [
    "fpr, tpr, thresholds = metrics.roc_curve(y_test, y_predicted)\n",
    "roc_auc = auc(fpr, tpr)\n",
    "\n",
    "plt.title('ROC-ECFP4-LogisticRegression')\n",
    "plt.plot(fpr, tpr, 'b',label='AUC = %0.2f'% roc_auc)\n",
    "plt.legend(loc='lower right')\n",
    "plt.plot([0,1],[0,1],'r--')\n",
    "plt.xlim([-0.1,1.2])\n",
    "plt.ylim([-0.1,1.2])\n",
    "plt.ylabel('True Positive Rate')\n",
    "plt.xlabel('False Positive Rate')\n",
    "plt.savefig(\"ROC.jpg\", dpi = 300)\n",
    "plt.show()"
   ]
  },
  {
   "cell_type": "code",
   "execution_count": 39,
   "metadata": {},
   "outputs": [
    {
     "data": {
      "text/plain": [
       "array([0.       , 0.2208589, 1.       ])"
      ]
     },
     "execution_count": 39,
     "metadata": {},
     "output_type": "execute_result"
    }
   ],
   "source": [
    "fpr"
   ]
  },
  {
   "cell_type": "code",
   "execution_count": 40,
   "metadata": {},
   "outputs": [
    {
     "data": {
      "text/plain": [
       "array([0.        , 0.74285714, 1.        ])"
      ]
     },
     "execution_count": 40,
     "metadata": {},
     "output_type": "execute_result"
    }
   ],
   "source": [
    "tpr"
   ]
  },
  {
   "cell_type": "code",
   "execution_count": 41,
   "metadata": {},
   "outputs": [
    {
     "data": {
      "text/plain": [
       "array([2, 1, 0])"
      ]
     },
     "execution_count": 41,
     "metadata": {},
     "output_type": "execute_result"
    }
   ],
   "source": [
    "thresholds"
   ]
  },
  {
   "cell_type": "code",
   "execution_count": 20,
   "metadata": {},
   "outputs": [
    {
     "name": "stdout",
     "output_type": "stream",
     "text": [
      "Average Precision Score: 0.80\n"
     ]
    },
    {
     "data": {
      "text/plain": [
       "Text(0.5, 1.0, '2-class Precision-Recall curve: AP=0.80')"
      ]
     },
     "execution_count": 20,
     "metadata": {},
     "output_type": "execute_result"
    },
    {
     "data": {
      "image/png": "[encoded data removed]",
      "text/plain": [
       "<Figure size 432x288 with 1 Axes>"
      ]
     },
     "metadata": {
      "needs_background": "light"
     },
     "output_type": "display_data"
    }
   ],
   "source": [
    "from sklearn.metrics import average_precision_score\n",
    "from sklearn.metrics import precision_recall_curve\n",
    "from sklearn.metrics import plot_precision_recall_curve\n",
    "import matplotlib.pyplot as plt\n",
    "\n",
    "y_score= model.decision_function(X_test)\n",
    "average_precision = average_precision_score(y_test,y_score)\n",
    "print('Average Precision Score: {0:0.2f}'.format(average_precision))\n",
    "disp = plot_precision_recall_curve(model, X_test, y_test)\n",
    "disp.ax_.set_title('2-class Precision-Recall curve: AP={0:0.2f}'.format(average_precision))"
   ]
  },
  {
   "cell_type": "code",
   "execution_count": null,
   "metadata": {},
   "outputs": [],
   "source": []
  },
  {
   "cell_type": "code",
   "execution_count": 21,
   "metadata": {},
   "outputs": [
    {
     "name": "stdout",
     "output_type": "stream",
     "text": [
      "Feature: 0, Score: 0.16320\n",
      "Feature: 1, Score: -0.64301\n",
      "Feature: 2, Score: 0.48497\n",
      "Feature: 3, Score: -0.46190\n",
      "Feature: 4, Score: 0.18432\n",
      "Feature: 5, Score: -0.11978\n",
      "Feature: 6, Score: -0.40602\n",
      "Feature: 7, Score: 0.03772\n",
      "Feature: 8, Score: -0.51785\n",
      "Feature: 9, Score: 0.26540\n"
     ]
    },
    {
     "data": {
      "image/png": "[encoded data removed]",
      "text/plain": [
       "<Figure size 432x288 with 1 Axes>"
      ]
     },
     "metadata": {
      "needs_background": "light"
     },
     "output_type": "display_data"
    }
   ],
   "source": [
    "# logistic regression for feature importance\n",
    "from sklearn.datasets import make_classification\n",
    "from sklearn.linear_model import LogisticRegression\n",
    "from matplotlib import pyplot\n",
    "# define dataset\n",
    "X, y = make_classification(n_samples=1000, n_features=10, n_informative=5, n_redundant=5, random_state=1)\n",
    "# define the model\n",
    "model = LogisticRegression()\n",
    "# fit the model\n",
    "model.fit(X, y)\n",
    "# get importance\n",
    "importance = model.coef_[0]\n",
    "# summarize feature importance\n",
    "for i,v in enumerate(importance):\n",
    "\tprint('Feature: %0d, Score: %.5f' % (i,v))\n",
    "# plot feature importance\n",
    "pyplot.bar([x for x in range(len(importance))], importance)\n",
    "pyplot.show()"
   ]
  },
  {
   "cell_type": "code",
   "execution_count": 22,
   "metadata": {},
   "outputs": [
    {
     "data": {
      "text/plain": [
       "RandomForestClassifier()"
      ]
     },
     "execution_count": 22,
     "metadata": {},
     "output_type": "execute_result"
    }
   ],
   "source": [
    "#For Random Forest Classification\n",
    "rf = RandomForestClassifier(max_features='auto')\n",
    "rf.fit(X_train, y_train)"
   ]
  },
  {
   "cell_type": "code",
   "execution_count": 25,
   "metadata": {},
   "outputs": [
    {
     "name": "stdout",
     "output_type": "stream",
     "text": [
      "Train_accuracy_score: 0.9983498349834984\n",
      "Test_accuracy_score: 0.801980198019802\n",
      "R2Score:  0.9933967506783041\n",
      "R2Score:  0.20333041191936907\n",
      "Train_F1_Score: [0.9983165  0.99838188]\n",
      "Test_F1_Score: [0.81012658 0.79310345]\n",
      "              precision    recall  f1-score   support\n",
      "\n",
      "           0       0.84      0.79      0.81       163\n",
      "           1       0.77      0.82      0.79       140\n",
      "\n",
      "    accuracy                           0.80       303\n",
      "   macro avg       0.80      0.80      0.80       303\n",
      "weighted avg       0.80      0.80      0.80       303\n",
      "\n",
      "              precision    recall  f1-score   support\n",
      "\n",
      "           0       1.00      1.00      1.00       594\n",
      "           1       1.00      1.00      1.00       618\n",
      "\n",
      "    accuracy                           1.00      1212\n",
      "   macro avg       1.00      1.00      1.00      1212\n",
      "weighted avg       1.00      1.00      1.00      1212\n",
      "\n"
     ]
    }
   ],
   "source": [
    "from sklearn.metrics import classification_report\n",
    "from sklearn.metrics import f1_score\n",
    "rf_lab = rf.predict(X_train)\n",
    "rf_pre = rf.predict(X_test)\n",
    "print(\"Train_accuracy_score:\",accuracy_score(y_train,rf_lab))\n",
    "print(\"Test_accuracy_score:\",accuracy_score(y_test,rf_pre))\n",
    "\n",
    "R2Score = r2_score(y_train,rf_lab)\n",
    "print(\"R2Score: \",R2Score) \n",
    "R2Score1 = r2_score(y_test,rf_pre)\n",
    "print(\"R2Score: \",R2Score1) \n",
    "\n",
    "F1_Score_train = f1_score(y_train,rf_lab, average=None)\n",
    "print(\"Train_F1_Score:\", F1_Score_train)\n",
    "F1_Score_test=f1_score(y_test,rf_pre, average=None)\n",
    "print(\"Test_F1_Score:\", F1_Score_test)\n",
    "\n",
    "print(classification_report(y_test, rf_pre))\n",
    "print(classification_report(y_train, rf_lab))"
   ]
  },
  {
   "cell_type": "code",
   "execution_count": 26,
   "metadata": {},
   "outputs": [
    {
     "data": {
      "image/png": "[encoded data removed]",
      "text/plain": [
       "<Figure size 432x288 with 1 Axes>"
      ]
     },
     "metadata": {
      "needs_background": "light"
     },
     "output_type": "display_data"
    }
   ],
   "source": [
    "y_pred = rf.predict(X_test)\n",
    "fpr, tpr, thresholds = metrics.roc_curve(y_test, y_pred)\n",
    "roc_auc = auc(fpr, tpr)\n",
    "\n",
    "plt.title('ROC-ECFP4-RandomForest')\n",
    "plt.plot(fpr, tpr, 'b',\n",
    "label='AUC = %0.2f'% roc_auc)\n",
    "plt.legend(loc='lower right')\n",
    "plt.plot([0,1],[0,1],'r--')\n",
    "plt.xlim([-0.1,1.2])\n",
    "plt.ylim([-0.1,1.2])\n",
    "plt.ylabel('True Positive Rate')\n",
    "plt.xlabel('False Positive Rate')\n",
    "#plt.savefig(\"ROC.jpg\", dpi = 300)\n",
    "plt.show()"
   ]
  },
  {
   "cell_type": "code",
   "execution_count": 45,
   "metadata": {},
   "outputs": [
    {
     "data": {
      "text/plain": [
       "array([0.       , 0.2208589, 1.       ])"
      ]
     },
     "execution_count": 45,
     "metadata": {},
     "output_type": "execute_result"
    }
   ],
   "source": [
    "fpr"
   ]
  },
  {
   "cell_type": "code",
   "execution_count": 46,
   "metadata": {},
   "outputs": [
    {
     "data": {
      "text/plain": [
       "array([0.        , 0.74285714, 1.        ])"
      ]
     },
     "execution_count": 46,
     "metadata": {},
     "output_type": "execute_result"
    }
   ],
   "source": [
    "tpr"
   ]
  },
  {
   "cell_type": "code",
   "execution_count": 44,
   "metadata": {},
   "outputs": [
    {
     "data": {
      "text/plain": [
       "array([2, 1, 0])"
      ]
     },
     "execution_count": 44,
     "metadata": {},
     "output_type": "execute_result"
    }
   ],
   "source": [
    "thresholds"
   ]
  },
  {
   "cell_type": "code",
   "execution_count": 27,
   "metadata": {},
   "outputs": [
    {
     "data": {
      "text/plain": [
       "Text(0.5, 1.0, 'Precision-Recall curve')"
      ]
     },
     "execution_count": 27,
     "metadata": {},
     "output_type": "execute_result"
    },
    {
     "data": {
      "image/png": "[encoded data removed]",
      "text/plain": [
       "<Figure size 432x288 with 1 Axes>"
      ]
     },
     "metadata": {
      "needs_background": "light"
     },
     "output_type": "display_data"
    }
   ],
   "source": [
    "from sklearn.metrics import average_precision_score\n",
    "from sklearn.metrics import precision_recall_curve\n",
    "from sklearn.metrics import plot_precision_recall_curve\n",
    "import matplotlib.pyplot as plt\n",
    "\n",
    "disp = plot_precision_recall_curve(rf, X_test, y_test)\n",
    "disp.ax_.set_title('Precision-Recall curve')"
   ]
  },
  {
   "cell_type": "code",
   "execution_count": 28,
   "metadata": {},
   "outputs": [
    {
     "name": "stdout",
     "output_type": "stream",
     "text": [
      "Feature: 0, Score: 0.06519\n",
      "Feature: 1, Score: 0.10594\n",
      "Feature: 2, Score: 0.16670\n",
      "Feature: 3, Score: 0.19340\n",
      "Feature: 4, Score: 0.07955\n",
      "Feature: 5, Score: 0.11565\n",
      "Feature: 6, Score: 0.09600\n",
      "Feature: 7, Score: 0.04912\n",
      "Feature: 8, Score: 0.08710\n",
      "Feature: 9, Score: 0.04135\n"
     ]
    },
    {
     "data": {
      "image/png": "[encoded data removed]",
      "text/plain": [
       "<Figure size 432x288 with 1 Axes>"
      ]
     },
     "metadata": {
      "needs_background": "light"
     },
     "output_type": "display_data"
    }
   ],
   "source": [
    "# random forest for feature importance on a classification problem\n",
    "from sklearn.datasets import make_classification\n",
    "from sklearn.ensemble import RandomForestClassifier\n",
    "from matplotlib import pyplot\n",
    "# define dataset\n",
    "X, y = make_classification(n_samples=1000, n_features=10, n_informative=5, n_redundant=5, random_state=1)\n",
    "# define the model\n",
    "rf = RandomForestClassifier()\n",
    "# fit the model\n",
    "rf.fit(X, y)\n",
    "# get importance\n",
    "importance = rf.feature_importances_\n",
    "# summarize feature importance\n",
    "for i,v in enumerate(importance):\n",
    "\tprint('Feature: %0d, Score: %.5f' % (i,v))\n",
    "# plot feature importance\n",
    "pyplot.bar([x for x in range(len(importance))], importance)\n",
    "pyplot.show()"
   ]
  },
  {
   "cell_type": "code",
   "execution_count": 15,
   "metadata": {},
   "outputs": [
    {
     "name": "stdout",
     "output_type": "stream",
     "text": [
      "0: 594 163\n",
      "1: 618 140\n"
     ]
    }
   ],
   "source": [
    "#Test-ECFP6\n",
    "X_train, X_test, y_train, y_test = model_selection.train_test_split(ECFP6, Active, test_size = Test_Size)\n",
    "print('0:',list(y_train).count(0),list(y_test).count(0))\n",
    "print('1:',list(y_train).count(1),list(y_test).count(1))"
   ]
  },
  {
   "cell_type": "code",
   "execution_count": 16,
   "metadata": {},
   "outputs": [
    {
     "data": {
      "text/plain": [
       "RandomForestClassifier()"
      ]
     },
     "execution_count": 16,
     "metadata": {},
     "output_type": "execute_result"
    }
   ],
   "source": [
    "rf = RandomForestClassifier(max_features='auto')\n",
    "rf.fit(X_train, y_train)"
   ]
  },
  {
   "cell_type": "code",
   "execution_count": 17,
   "metadata": {},
   "outputs": [
    {
     "name": "stdout",
     "output_type": "stream",
     "text": [
      "Train_accuracy_score: 0.9983498349834984\n",
      "Test_accuracy_score: 0.8415841584158416\n"
     ]
    }
   ],
   "source": [
    "rf_lab = rf.predict(X_train)\n",
    "rf_pre = rf.predict(X_test)\n",
    "print(\"Train_accuracy_score:\",accuracy_score(y_train,rf_lab))\n",
    "print(\"Test_accuracy_score:\",accuracy_score(y_test,rf_pre))"
   ]
  },
  {
   "cell_type": "code",
   "execution_count": 18,
   "metadata": {},
   "outputs": [
    {
     "data": {
      "image/png": "[encoded data removed]",
      "text/plain": [
       "<Figure size 432x288 with 1 Axes>"
      ]
     },
     "metadata": {
      "needs_background": "light"
     },
     "output_type": "display_data"
    }
   ],
   "source": [
    "y_pred = rf.predict(X_test)\n",
    "fpr, tpr, thresholds = metrics.roc_curve(y_test, y_pred)\n",
    "roc_auc = auc(fpr, tpr)\n",
    "\n",
    "plt.title('ROC-ECFP6-RandomForest')\n",
    "plt.plot(fpr, tpr, 'b',\n",
    "label='AUC = %0.2f'% roc_auc)\n",
    "plt.legend(loc='lower right')\n",
    "plt.plot([0,1],[0,1],'r--')\n",
    "plt.xlim([-0.1,1.2])\n",
    "plt.ylim([-0.1,1.2])\n",
    "plt.ylabel('True Positive Rate')\n",
    "plt.xlabel('False Positive Rate')\n",
    "#plt.savefig(\"ROC.jpg\", dpi = 300)\n",
    "plt.show()"
   ]
  },
  {
   "cell_type": "code",
   "execution_count": 19,
   "metadata": {},
   "outputs": [
    {
     "name": "stdout",
     "output_type": "stream",
     "text": [
      "0: 606 151\n",
      "1: 606 152\n"
     ]
    }
   ],
   "source": [
    "#Test-ECFP8\n",
    "X_train, X_test, y_train, y_test = model_selection.train_test_split(ECFP8, Active, test_size= Test_Size)\n",
    "print('0:',list(y_train).count(0),list(y_test).count(0))\n",
    "print('1:',list(y_train).count(1),list(y_test).count(1))"
   ]
  },
  {
   "cell_type": "code",
   "execution_count": 20,
   "metadata": {},
   "outputs": [
    {
     "data": {
      "text/plain": [
       "RandomForestClassifier(bootstrap=True, ccp_alpha=0.0, class_weight=None,\n",
       "                       criterion='gini', max_depth=None, max_features='auto',\n",
       "                       max_leaf_nodes=None, max_samples=None,\n",
       "                       min_impurity_decrease=0.0, min_impurity_split=None,\n",
       "                       min_samples_leaf=1, min_samples_split=2,\n",
       "                       min_weight_fraction_leaf=0.0, n_estimators=100,\n",
       "                       n_jobs=None, oob_score=False, random_state=None,\n",
       "                       verbose=0, warm_start=False)"
      ]
     },
     "execution_count": 20,
     "metadata": {},
     "output_type": "execute_result"
    }
   ],
   "source": [
    "rf = RandomForestClassifier(max_features='auto')\n",
    "rf.fit(X_train, y_train)"
   ]
  },
  {
   "cell_type": "code",
   "execution_count": 21,
   "metadata": {},
   "outputs": [
    {
     "name": "stdout",
     "output_type": "stream",
     "text": [
      "Train_accuracy_score: 0.9983498349834984\n",
      "Test_accuracy_score: 0.7986798679867987\n"
     ]
    }
   ],
   "source": [
    "rf_lab = rf.predict(X_train)\n",
    "rf_pre = rf.predict(X_test)\n",
    "print(\"Train_accuracy_score:\",accuracy_score(y_train,rf_lab))\n",
    "print(\"Test_accuracy_score:\",accuracy_score(y_test,rf_pre))"
   ]
  },
  {
   "cell_type": "code",
   "execution_count": 22,
   "metadata": {},
   "outputs": [
    {
     "data": {
      "image/png": "[encoded data removed]",
      "text/plain": [
       "<Figure size 432x288 with 1 Axes>"
      ]
     },
     "metadata": {
      "needs_background": "light"
     },
     "output_type": "display_data"
    }
   ],
   "source": [
    "y_pred = rf.predict(X_test)\n",
    "fpr, tpr, thresholds = metrics.roc_curve(y_test, y_pred)\n",
    "roc_auc = auc(fpr, tpr)\n",
    "\n",
    "plt.title('ROC-ECFP8-RandomForest')\n",
    "plt.plot(fpr, tpr, 'b',\n",
    "label='AUC = %0.2f'% roc_auc)\n",
    "plt.legend(loc='lower right')\n",
    "plt.plot([0,1],[0,1],'r--')\n",
    "plt.xlim([-0.1,1.2])\n",
    "plt.ylim([-0.1,1.2])\n",
    "plt.ylabel('True Positive Rate')\n",
    "plt.xlabel('False Positive Rate')\n",
    "#plt.savefig(\"ROC.jpg\", dpi = 300)\n",
    "plt.show()"
   ]
  },
  {
   "cell_type": "code",
   "execution_count": 23,
   "metadata": {},
   "outputs": [
    {
     "name": "stdout",
     "output_type": "stream",
     "text": [
      "0: 594 163\n",
      "1: 618 140\n"
     ]
    }
   ],
   "source": [
    "#Test-ECFP10\n",
    "#Seems best?\n",
    "X_train, X_test, y_train, y_test = model_selection.train_test_split(ECFP10, Active, test_size= Test_Size)\n",
    "print('0:',list(y_train).count(0),list(y_test).count(0))\n",
    "print('1:',list(y_train).count(1),list(y_test).count(1))"
   ]
  },
  {
   "cell_type": "code",
   "execution_count": 24,
   "metadata": {},
   "outputs": [
    {
     "data": {
      "text/plain": [
       "RandomForestClassifier(bootstrap=True, ccp_alpha=0.0, class_weight=None,\n",
       "                       criterion='gini', max_depth=None, max_features='auto',\n",
       "                       max_leaf_nodes=None, max_samples=None,\n",
       "                       min_impurity_decrease=0.0, min_impurity_split=None,\n",
       "                       min_samples_leaf=1, min_samples_split=2,\n",
       "                       min_weight_fraction_leaf=0.0, n_estimators=100,\n",
       "                       n_jobs=None, oob_score=False, random_state=None,\n",
       "                       verbose=0, warm_start=False)"
      ]
     },
     "execution_count": 24,
     "metadata": {},
     "output_type": "execute_result"
    }
   ],
   "source": [
    "rf = RandomForestClassifier(max_features='auto')\n",
    "rf.fit(X_train, y_train)"
   ]
  },
  {
   "cell_type": "code",
   "execution_count": 25,
   "metadata": {},
   "outputs": [
    {
     "name": "stdout",
     "output_type": "stream",
     "text": [
      "Train_accuracy_score: 0.9975247524752475\n",
      "Test_accuracy_score: 0.8052805280528053\n"
     ]
    }
   ],
   "source": [
    "rf_lab = rf.predict(X_train)\n",
    "rf_pre = rf.predict(X_test)\n",
    "print(\"Train_accuracy_score:\",accuracy_score(y_train,rf_lab))\n",
    "print(\"Test_accuracy_score:\",accuracy_score(y_test,rf_pre))"
   ]
  },
  {
   "cell_type": "code",
   "execution_count": 26,
   "metadata": {},
   "outputs": [
    {
     "data": {
      "image/png": "[encoded data removed]",
      "text/plain": [
       "<Figure size 432x288 with 1 Axes>"
      ]
     },
     "metadata": {
      "needs_background": "light"
     },
     "output_type": "display_data"
    }
   ],
   "source": [
    "y_pred = rf.predict(X_test)\n",
    "fpr, tpr, thresholds = metrics.roc_curve(y_test, y_pred)\n",
    "roc_auc = auc(fpr, tpr)\n",
    "\n",
    "plt.title('ROC-ECFP10-RandomForest')\n",
    "plt.plot(fpr, tpr, 'b',\n",
    "label='AUC = %0.2f'% roc_auc)\n",
    "plt.legend(loc='lower right')\n",
    "plt.plot([0,1],[0,1],'r--')\n",
    "plt.xlim([-0.1,1.2])\n",
    "plt.ylim([-0.1,1.2])\n",
    "plt.ylabel('True Positive Rate')\n",
    "plt.xlabel('False Positive Rate')\n",
    "#plt.savefig(\"ROC.jpg\", dpi = 300)\n",
    "plt.show()"
   ]
  },
  {
   "cell_type": "code",
   "execution_count": 27,
   "metadata": {},
   "outputs": [
    {
     "name": "stdout",
     "output_type": "stream",
     "text": [
      "0: 606 151\n",
      "1: 606 152\n"
     ]
    }
   ],
   "source": [
    "#Test-ECFP12\n",
    "X_train, X_test, y_train, y_test = model_selection.train_test_split(ECFP12, Active, test_size= Test_Size)\n",
    "print('0:',list(y_train).count(0),list(y_test).count(0))\n",
    "print('1:',list(y_train).count(1),list(y_test).count(1))"
   ]
  },
  {
   "cell_type": "code",
   "execution_count": 28,
   "metadata": {},
   "outputs": [
    {
     "data": {
      "text/plain": [
       "RandomForestClassifier(bootstrap=True, ccp_alpha=0.0, class_weight=None,\n",
       "                       criterion='gini', max_depth=None, max_features='auto',\n",
       "                       max_leaf_nodes=None, max_samples=None,\n",
       "                       min_impurity_decrease=0.0, min_impurity_split=None,\n",
       "                       min_samples_leaf=1, min_samples_split=2,\n",
       "                       min_weight_fraction_leaf=0.0, n_estimators=100,\n",
       "                       n_jobs=None, oob_score=False, random_state=None,\n",
       "                       verbose=0, warm_start=False)"
      ]
     },
     "execution_count": 28,
     "metadata": {},
     "output_type": "execute_result"
    }
   ],
   "source": [
    "rf = RandomForestClassifier(max_features='auto')\n",
    "rf.fit(X_train, y_train)"
   ]
  },
  {
   "cell_type": "code",
   "execution_count": 29,
   "metadata": {},
   "outputs": [
    {
     "name": "stdout",
     "output_type": "stream",
     "text": [
      "Train_accuracy_score: 0.9991749174917491\n",
      "Test_accuracy_score: 0.8250825082508251\n"
     ]
    }
   ],
   "source": [
    "rf_lab = rf.predict(X_train)\n",
    "rf_pre = rf.predict(X_test)\n",
    "print(\"Train_accuracy_score:\",accuracy_score(y_train,rf_lab))\n",
    "print(\"Test_accuracy_score:\",accuracy_score(y_test,rf_pre))"
   ]
  },
  {
   "cell_type": "code",
   "execution_count": 30,
   "metadata": {},
   "outputs": [
    {
     "data": {
      "image/png": "[encoded data removed]",
      "text/plain": [
       "<Figure size 432x288 with 1 Axes>"
      ]
     },
     "metadata": {
      "needs_background": "light"
     },
     "output_type": "display_data"
    }
   ],
   "source": [
    "y_pred = rf.predict(X_test)\n",
    "fpr, tpr, thresholds = metrics.roc_curve(y_test, y_pred)\n",
    "roc_auc = auc(fpr, tpr)\n",
    "\n",
    "plt.title('ROC-ECFP12-RandomForest')\n",
    "plt.plot(fpr, tpr, 'b',\n",
    "label='AUC = %0.2f'% roc_auc)\n",
    "plt.legend(loc='lower right')\n",
    "plt.plot([0,1],[0,1],'r--')\n",
    "plt.xlim([-0.1,1.2])\n",
    "plt.ylim([-0.1,1.2])\n",
    "plt.ylabel('True Positive Rate')\n",
    "plt.xlabel('False Positive Rate')\n",
    "#plt.savefig(\"ROC.jpg\", dpi = 300)\n",
    "plt.show()"
   ]
  },
  {
   "cell_type": "code",
   "execution_count": 31,
   "metadata": {},
   "outputs": [
    {
     "name": "stdout",
     "output_type": "stream",
     "text": [
      "0: 602 155\n",
      "1: 610 148\n"
     ]
    }
   ],
   "source": [
    "#Test-RDKFP\n",
    "X_train, X_test, y_train, y_test = model_selection.train_test_split(RDKFP, Active, test_size= Test_Size)\n",
    "print('0:',list(y_train).count(0),list(y_test).count(0))\n",
    "print('1:',list(y_train).count(1),list(y_test).count(1))"
   ]
  },
  {
   "cell_type": "code",
   "execution_count": 32,
   "metadata": {},
   "outputs": [
    {
     "data": {
      "text/plain": [
       "RandomForestClassifier(bootstrap=True, ccp_alpha=0.0, class_weight=None,\n",
       "                       criterion='gini', max_depth=None, max_features='auto',\n",
       "                       max_leaf_nodes=None, max_samples=None,\n",
       "                       min_impurity_decrease=0.0, min_impurity_split=None,\n",
       "                       min_samples_leaf=1, min_samples_split=2,\n",
       "                       min_weight_fraction_leaf=0.0, n_estimators=100,\n",
       "                       n_jobs=None, oob_score=False, random_state=None,\n",
       "                       verbose=0, warm_start=False)"
      ]
     },
     "execution_count": 32,
     "metadata": {},
     "output_type": "execute_result"
    }
   ],
   "source": [
    "rf = RandomForestClassifier(max_features='auto')\n",
    "rf.fit(X_train, y_train)"
   ]
  },
  {
   "cell_type": "code",
   "execution_count": 33,
   "metadata": {},
   "outputs": [
    {
     "name": "stdout",
     "output_type": "stream",
     "text": [
      "Train_accuracy_score: 0.995049504950495\n",
      "Test_accuracy_score: 0.7821782178217822\n"
     ]
    }
   ],
   "source": [
    "rf_lab = rf.predict(X_train)\n",
    "rf_pre = rf.predict(X_test)\n",
    "print(\"Train_accuracy_score:\",accuracy_score(y_train,rf_lab))\n",
    "print(\"Test_accuracy_score:\",accuracy_score(y_test,rf_pre))"
   ]
  },
  {
   "cell_type": "code",
   "execution_count": 34,
   "metadata": {},
   "outputs": [
    {
     "data": {
      "image/png": "[encoded data removed]",
      "text/plain": [
       "<Figure size 432x288 with 1 Axes>"
      ]
     },
     "metadata": {
      "needs_background": "light"
     },
     "output_type": "display_data"
    }
   ],
   "source": [
    "y_pred = rf.predict(X_test)\n",
    "fpr, tpr, thresholds = metrics.roc_curve(y_test, y_pred)\n",
    "roc_auc = auc(fpr, tpr)\n",
    "\n",
    "plt.title('ROC-RDKFP-RandomForest')\n",
    "plt.plot(fpr, tpr, 'b',\n",
    "label='AUC = %0.2f'% roc_auc)\n",
    "plt.legend(loc='lower right')\n",
    "plt.plot([0,1],[0,1],'r--')\n",
    "plt.xlim([-0.1,1.2])\n",
    "plt.ylim([-0.1,1.2])\n",
    "plt.ylabel('True Positive Rate')\n",
    "plt.xlabel('False Positive Rate')\n",
    "#plt.savefig(\"ROC.jpg\", dpi = 300)\n",
    "plt.show()"
   ]
  },
  {
   "cell_type": "code",
   "execution_count": 35,
   "metadata": {},
   "outputs": [],
   "source": [
    "#####################################################################################################################"
   ]
  },
  {
   "cell_type": "code",
   "execution_count": 36,
   "metadata": {},
   "outputs": [],
   "source": [
    "#On Active data, EFFICACY >= 0, 3-class\n",
    "#Raw data:  https://opendata.ncats.nih.gov/covid19/assay?aid=14"
   ]
  },
  {
   "cell_type": "code",
   "execution_count": 37,
   "metadata": {},
   "outputs": [],
   "source": [
    "df = pd.read_csv('/home/is/zi-yang/Cov/Active_3Class-SARS-CoV-2_pAC50.csv', index_col=0)"
   ]
  },
  {
   "cell_type": "code",
   "execution_count": 38,
   "metadata": {},
   "outputs": [
    {
     "data": {
      "text/html": [
       "<div>\n",
       "<style scoped>\n",
       "    .dataframe tbody tr th:only-of-type {\n",
       "        vertical-align: middle;\n",
       "    }\n",
       "\n",
       "    .dataframe tbody tr th {\n",
       "        vertical-align: top;\n",
       "    }\n",
       "\n",
       "    .dataframe thead th {\n",
       "        text-align: right;\n",
       "    }\n",
       "</style>\n",
       "<table border=\"1\" class=\"dataframe\">\n",
       "  <thead>\n",
       "    <tr style=\"text-align: right;\">\n",
       "      <th></th>\n",
       "      <th>pAC50</th>\n",
       "      <th>AC50(uM)</th>\n",
       "      <th>pClass</th>\n",
       "      <th>SMILES</th>\n",
       "    </tr>\n",
       "    <tr>\n",
       "      <th>EFFICACY</th>\n",
       "      <th></th>\n",
       "      <th></th>\n",
       "      <th></th>\n",
       "      <th></th>\n",
       "    </tr>\n",
       "  </thead>\n",
       "  <tbody>\n",
       "    <tr>\n",
       "      <th>105.493143</th>\n",
       "      <td>8.00</td>\n",
       "      <td>0.100000</td>\n",
       "      <td>2</td>\n",
       "      <td>CC[C@H](NC(=O)[C@H](C[S+]([O-])(=O)CC1CC1)N[C@...</td>\n",
       "    </tr>\n",
       "    <tr>\n",
       "      <th>34.268972</th>\n",
       "      <td>7.95</td>\n",
       "      <td>0.112202</td>\n",
       "      <td>2</td>\n",
       "      <td>[H][C@@]1(C[C@H](C)[C@@]([H])(O1)[C@]2(CC)CC[C...</td>\n",
       "    </tr>\n",
       "    <tr>\n",
       "      <th>40.708548</th>\n",
       "      <td>7.90</td>\n",
       "      <td>0.125893</td>\n",
       "      <td>2</td>\n",
       "      <td>[H][C@@]1(C[C@H](C)[C@@]([H])(O1)[C@]2(CC)CC[C...</td>\n",
       "    </tr>\n",
       "    <tr>\n",
       "      <th>44.052835</th>\n",
       "      <td>7.90</td>\n",
       "      <td>0.125893</td>\n",
       "      <td>2</td>\n",
       "      <td>CC(C)CC(=O)O[C@H]\\1C[C@@]2(COC(C)=O)[C@H](O[C@...</td>\n",
       "    </tr>\n",
       "    <tr>\n",
       "      <th>34.926175</th>\n",
       "      <td>7.85</td>\n",
       "      <td>0.141254</td>\n",
       "      <td>2</td>\n",
       "      <td>Clc2cc(ccc2NC(=O)c1cc(Cl)ccc1O)[N+]([O-])=O</td>\n",
       "    </tr>\n",
       "    <tr>\n",
       "      <th>...</th>\n",
       "      <td>...</td>\n",
       "      <td>...</td>\n",
       "      <td>...</td>\n",
       "      <td>...</td>\n",
       "    </tr>\n",
       "    <tr>\n",
       "      <th>96.660428</th>\n",
       "      <td>5.60</td>\n",
       "      <td>25.118864</td>\n",
       "      <td>0</td>\n",
       "      <td>CCN(CC)C(=S)SSC(=S)N(CC)CC</td>\n",
       "    </tr>\n",
       "    <tr>\n",
       "      <th>113.434865</th>\n",
       "      <td>5.60</td>\n",
       "      <td>25.118864</td>\n",
       "      <td>0</td>\n",
       "      <td>OC1(CCN(CCCC(=O)C2=CC=C(F)C=C2)CC1)C3=CC=C(Cl)...</td>\n",
       "    </tr>\n",
       "    <tr>\n",
       "      <th>103.780671</th>\n",
       "      <td>5.55</td>\n",
       "      <td>28.183829</td>\n",
       "      <td>0</td>\n",
       "      <td>CN(C)S(=O)(=O)c1cc2N(CC(C)N(C)C)c3ccccc3Sc2cc1</td>\n",
       "    </tr>\n",
       "    <tr>\n",
       "      <th>86.713373</th>\n",
       "      <td>5.50</td>\n",
       "      <td>31.622777</td>\n",
       "      <td>0</td>\n",
       "      <td>NC1=CC=C(C=C1)C(=O)C2=CC3=C([NH]2)C=CC4=CC=CC=C34</td>\n",
       "    </tr>\n",
       "    <tr>\n",
       "      <th>111.573718</th>\n",
       "      <td>5.50</td>\n",
       "      <td>31.622777</td>\n",
       "      <td>0</td>\n",
       "      <td>CSC1=CC=C(C=C1)C(=O)/C=C/C2=CC(=C(OC(C)(C)C(O)...</td>\n",
       "    </tr>\n",
       "  </tbody>\n",
       "</table>\n",
       "<p>758 rows × 4 columns</p>\n",
       "</div>"
      ],
      "text/plain": [
       "            pAC50   AC50(uM)  pClass  \\\n",
       "EFFICACY                               \n",
       "105.493143   8.00   0.100000       2   \n",
       "34.268972    7.95   0.112202       2   \n",
       "40.708548    7.90   0.125893       2   \n",
       "44.052835    7.90   0.125893       2   \n",
       "34.926175    7.85   0.141254       2   \n",
       "...           ...        ...     ...   \n",
       "96.660428    5.60  25.118864       0   \n",
       "113.434865   5.60  25.118864       0   \n",
       "103.780671   5.55  28.183829       0   \n",
       "86.713373    5.50  31.622777       0   \n",
       "111.573718   5.50  31.622777       0   \n",
       "\n",
       "                                                       SMILES  \n",
       "EFFICACY                                                       \n",
       "105.493143  CC[C@H](NC(=O)[C@H](C[S+]([O-])(=O)CC1CC1)N[C@...  \n",
       "34.268972   [H][C@@]1(C[C@H](C)[C@@]([H])(O1)[C@]2(CC)CC[C...  \n",
       "40.708548   [H][C@@]1(C[C@H](C)[C@@]([H])(O1)[C@]2(CC)CC[C...  \n",
       "44.052835   CC(C)CC(=O)O[C@H]\\1C[C@@]2(COC(C)=O)[C@H](O[C@...  \n",
       "34.926175         Clc2cc(ccc2NC(=O)c1cc(Cl)ccc1O)[N+]([O-])=O  \n",
       "...                                                       ...  \n",
       "96.660428                          CCN(CC)C(=S)SSC(=S)N(CC)CC  \n",
       "113.434865  OC1(CCN(CCCC(=O)C2=CC=C(F)C=C2)CC1)C3=CC=C(Cl)...  \n",
       "103.780671     CN(C)S(=O)(=O)c1cc2N(CC(C)N(C)C)c3ccccc3Sc2cc1  \n",
       "86.713373   NC1=CC=C(C=C1)C(=O)C2=CC3=C([NH]2)C=CC4=CC=CC=C34  \n",
       "111.573718  CSC1=CC=C(C=C1)C(=O)/C=C/C2=CC(=C(OC(C)(C)C(O)...  \n",
       "\n",
       "[758 rows x 4 columns]"
      ]
     },
     "execution_count": 38,
     "metadata": {},
     "output_type": "execute_result"
    }
   ],
   "source": [
    "df"
   ]
  },
  {
   "cell_type": "code",
   "execution_count": 39,
   "metadata": {},
   "outputs": [],
   "source": [
    "df['molecules'] = df.SMILES.apply(Chem.MolFromSmiles)\n",
    "#Get feature set\n",
    "#df['HBA']=df.molecules.apply(lambda m: rdescriptors.CalcNumLipinskiHBA(m))\n",
    "#df['HBD']=df.molecules.apply(lambda m: rdescriptors.CalcNumLipinskiHBD(m))\n",
    "#df['logP']=df.molecules.apply(lambda m: Descriptors.MolLogP(m))\n",
    "#df['TPSA']=df.molecules.apply(lambda m: Descriptors.TPSA(m))\n",
    "#df['num_rotatable_bonds']=df.molecules.apply(lambda m: Descriptors.NumRotatableBonds(m))\n",
    "#df['num_heavy_atoms']=df.molecules.apply(lambda m: m.GetNumHeavyAtoms())\n",
    "#df['MW']=df.molecules.apply(lambda m: Descriptors.MolWt(m))"
   ]
  },
  {
   "cell_type": "code",
   "execution_count": 40,
   "metadata": {},
   "outputs": [],
   "source": [
    "df['ECFP4']=df.molecules.apply(lambda m: AllChem.GetMorganFingerprintAsBitVect(m, radius=2, nBits=1024))\n",
    "df['ECFP6']=df.molecules.apply(lambda m: AllChem.GetMorganFingerprintAsBitVect(m, radius=3, nBits=1024))\n",
    "df['ECFP8']=df.molecules.apply(lambda m: AllChem.GetMorganFingerprintAsBitVect(m, radius=4, nBits=1024))\n",
    "df['ECFP10']=df.molecules.apply(lambda m: AllChem.GetMorganFingerprintAsBitVect(m, radius=5, nBits=1024))\n",
    "df['ECFP12']=df.molecules.apply(lambda m: AllChem.GetMorganFingerprintAsBitVect(m, radius=6, nBits=1024))\n",
    "df['RDKFP']=df.molecules.apply(lambda m: AllChem.RDKFingerprint(m, fpSize=1024))"
   ]
  },
  {
   "cell_type": "code",
   "execution_count": 41,
   "metadata": {},
   "outputs": [
    {
     "data": {
      "text/html": [
       "<div>\n",
       "<style scoped>\n",
       "    .dataframe tbody tr th:only-of-type {\n",
       "        vertical-align: middle;\n",
       "    }\n",
       "\n",
       "    .dataframe tbody tr th {\n",
       "        vertical-align: top;\n",
       "    }\n",
       "\n",
       "    .dataframe thead th {\n",
       "        text-align: right;\n",
       "    }\n",
       "</style>\n",
       "<table border=\"1\" class=\"dataframe\">\n",
       "  <thead>\n",
       "    <tr style=\"text-align: right;\">\n",
       "      <th></th>\n",
       "      <th>pAC50</th>\n",
       "      <th>AC50(uM)</th>\n",
       "      <th>pClass</th>\n",
       "      <th>SMILES</th>\n",
       "      <th>molecules</th>\n",
       "      <th>ECFP4</th>\n",
       "      <th>ECFP6</th>\n",
       "      <th>ECFP8</th>\n",
       "      <th>ECFP10</th>\n",
       "      <th>ECFP12</th>\n",
       "      <th>RDKFP</th>\n",
       "    </tr>\n",
       "    <tr>\n",
       "      <th>EFFICACY</th>\n",
       "      <th></th>\n",
       "      <th></th>\n",
       "      <th></th>\n",
       "      <th></th>\n",
       "      <th></th>\n",
       "      <th></th>\n",
       "      <th></th>\n",
       "      <th></th>\n",
       "      <th></th>\n",
       "      <th></th>\n",
       "      <th></th>\n",
       "    </tr>\n",
       "  </thead>\n",
       "  <tbody>\n",
       "    <tr>\n",
       "      <th>105.493143</th>\n",
       "      <td>8.00</td>\n",
       "      <td>0.100000</td>\n",
       "      <td>2</td>\n",
       "      <td>CC[C@H](NC(=O)[C@H](C[S+]([O-])(=O)CC1CC1)N[C@...</td>\n",
       "      <td>&lt;rdkit.Chem.rdchem.Mol object at 0x7fa1fae19350&gt;</td>\n",
       "      <td>[0, 1, 0, 0, 0, 0, 0, 0, 0, 1, 0, 0, 0, 0, 1, ...</td>\n",
       "      <td>[0, 1, 0, 0, 0, 0, 0, 0, 0, 1, 0, 0, 0, 0, 1, ...</td>\n",
       "      <td>[0, 1, 0, 0, 0, 0, 0, 0, 0, 1, 0, 0, 0, 0, 1, ...</td>\n",
       "      <td>[0, 1, 0, 0, 1, 0, 0, 0, 0, 1, 0, 0, 0, 0, 1, ...</td>\n",
       "      <td>[0, 1, 0, 0, 1, 0, 0, 0, 0, 1, 0, 0, 0, 0, 1, ...</td>\n",
       "      <td>[0, 1, 1, 1, 1, 0, 0, 1, 0, 0, 1, 1, 0, 0, 1, ...</td>\n",
       "    </tr>\n",
       "    <tr>\n",
       "      <th>34.268972</th>\n",
       "      <td>7.95</td>\n",
       "      <td>0.112202</td>\n",
       "      <td>2</td>\n",
       "      <td>[H][C@@]1(C[C@H](C)[C@@]([H])(O1)[C@]2(CC)CC[C...</td>\n",
       "      <td>&lt;rdkit.Chem.rdchem.Mol object at 0x7fa1f5134cb0&gt;</td>\n",
       "      <td>[0, 1, 0, 0, 0, 0, 0, 0, 0, 0, 0, 0, 0, 0, 0, ...</td>\n",
       "      <td>[0, 1, 0, 0, 0, 0, 0, 0, 0, 0, 0, 0, 0, 0, 0, ...</td>\n",
       "      <td>[0, 1, 0, 0, 0, 0, 0, 0, 0, 0, 0, 0, 1, 1, 0, ...</td>\n",
       "      <td>[0, 1, 0, 0, 0, 0, 0, 0, 0, 0, 0, 1, 1, 1, 0, ...</td>\n",
       "      <td>[0, 1, 0, 0, 0, 0, 0, 0, 0, 0, 0, 1, 1, 1, 0, ...</td>\n",
       "      <td>[1, 0, 0, 0, 0, 1, 0, 0, 0, 0, 1, 1, 1, 1, 1, ...</td>\n",
       "    </tr>\n",
       "    <tr>\n",
       "      <th>40.708548</th>\n",
       "      <td>7.90</td>\n",
       "      <td>0.125893</td>\n",
       "      <td>2</td>\n",
       "      <td>[H][C@@]1(C[C@H](C)[C@@]([H])(O1)[C@]2(CC)CC[C...</td>\n",
       "      <td>&lt;rdkit.Chem.rdchem.Mol object at 0x7fa1f5134030&gt;</td>\n",
       "      <td>[0, 1, 0, 0, 0, 0, 0, 0, 0, 0, 0, 0, 0, 0, 0, ...</td>\n",
       "      <td>[0, 1, 0, 0, 0, 0, 0, 0, 0, 0, 0, 0, 0, 0, 0, ...</td>\n",
       "      <td>[0, 1, 0, 0, 0, 0, 0, 0, 0, 0, 0, 0, 1, 1, 0, ...</td>\n",
       "      <td>[0, 1, 0, 0, 0, 0, 0, 0, 0, 0, 0, 1, 1, 1, 0, ...</td>\n",
       "      <td>[0, 1, 0, 0, 0, 0, 0, 0, 0, 0, 0, 1, 1, 1, 0, ...</td>\n",
       "      <td>[1, 0, 0, 0, 0, 1, 0, 0, 0, 0, 1, 1, 1, 1, 1, ...</td>\n",
       "    </tr>\n",
       "    <tr>\n",
       "      <th>44.052835</th>\n",
       "      <td>7.90</td>\n",
       "      <td>0.125893</td>\n",
       "      <td>2</td>\n",
       "      <td>CC(C)CC(=O)O[C@H]\\1C[C@@]2(COC(C)=O)[C@H](O[C@...</td>\n",
       "      <td>&lt;rdkit.Chem.rdchem.Mol object at 0x7fa1fa9d43f0&gt;</td>\n",
       "      <td>[0, 1, 0, 0, 0, 0, 0, 0, 0, 0, 0, 1, 0, 0, 0, ...</td>\n",
       "      <td>[0, 1, 0, 0, 0, 0, 0, 0, 0, 0, 0, 1, 0, 0, 0, ...</td>\n",
       "      <td>[0, 1, 0, 0, 0, 0, 0, 0, 0, 0, 0, 1, 0, 0, 0, ...</td>\n",
       "      <td>[0, 1, 0, 0, 0, 0, 0, 0, 0, 0, 0, 1, 0, 0, 0, ...</td>\n",
       "      <td>[0, 1, 0, 0, 0, 0, 0, 0, 0, 0, 0, 1, 0, 0, 0, ...</td>\n",
       "      <td>[1, 0, 1, 1, 1, 1, 1, 0, 1, 0, 1, 1, 1, 1, 1, ...</td>\n",
       "    </tr>\n",
       "    <tr>\n",
       "      <th>34.926175</th>\n",
       "      <td>7.85</td>\n",
       "      <td>0.141254</td>\n",
       "      <td>2</td>\n",
       "      <td>Clc2cc(ccc2NC(=O)c1cc(Cl)ccc1O)[N+]([O-])=O</td>\n",
       "      <td>&lt;rdkit.Chem.rdchem.Mol object at 0x7fa1fa9d4350&gt;</td>\n",
       "      <td>[0, 0, 0, 0, 0, 0, 0, 0, 0, 0, 0, 0, 0, 0, 0, ...</td>\n",
       "      <td>[0, 0, 0, 0, 0, 0, 0, 0, 1, 0, 0, 0, 0, 0, 0, ...</td>\n",
       "      <td>[0, 0, 0, 0, 0, 0, 0, 0, 1, 0, 0, 0, 0, 0, 0, ...</td>\n",
       "      <td>[0, 0, 0, 0, 0, 0, 0, 0, 1, 0, 0, 0, 0, 0, 0, ...</td>\n",
       "      <td>[0, 0, 0, 0, 0, 0, 0, 0, 1, 0, 0, 0, 0, 0, 0, ...</td>\n",
       "      <td>[0, 1, 1, 0, 0, 0, 0, 0, 1, 0, 1, 1, 1, 1, 0, ...</td>\n",
       "    </tr>\n",
       "    <tr>\n",
       "      <th>...</th>\n",
       "      <td>...</td>\n",
       "      <td>...</td>\n",
       "      <td>...</td>\n",
       "      <td>...</td>\n",
       "      <td>...</td>\n",
       "      <td>...</td>\n",
       "      <td>...</td>\n",
       "      <td>...</td>\n",
       "      <td>...</td>\n",
       "      <td>...</td>\n",
       "      <td>...</td>\n",
       "    </tr>\n",
       "    <tr>\n",
       "      <th>96.660428</th>\n",
       "      <td>5.60</td>\n",
       "      <td>25.118864</td>\n",
       "      <td>0</td>\n",
       "      <td>CCN(CC)C(=S)SSC(=S)N(CC)CC</td>\n",
       "      <td>&lt;rdkit.Chem.rdchem.Mol object at 0x7fa1fabf1440&gt;</td>\n",
       "      <td>[0, 0, 0, 0, 0, 0, 0, 0, 0, 0, 0, 0, 0, 0, 0, ...</td>\n",
       "      <td>[0, 0, 0, 0, 0, 0, 0, 0, 0, 0, 0, 0, 0, 0, 0, ...</td>\n",
       "      <td>[0, 0, 0, 0, 0, 0, 0, 0, 0, 0, 0, 0, 0, 0, 0, ...</td>\n",
       "      <td>[0, 0, 0, 0, 0, 0, 0, 0, 0, 0, 0, 0, 0, 0, 0, ...</td>\n",
       "      <td>[0, 0, 0, 0, 0, 0, 0, 0, 0, 0, 0, 0, 0, 0, 0, ...</td>\n",
       "      <td>[0, 1, 0, 0, 0, 0, 0, 0, 0, 0, 0, 0, 1, 0, 0, ...</td>\n",
       "    </tr>\n",
       "    <tr>\n",
       "      <th>113.434865</th>\n",
       "      <td>5.60</td>\n",
       "      <td>25.118864</td>\n",
       "      <td>0</td>\n",
       "      <td>OC1(CCN(CCCC(=O)C2=CC=C(F)C=C2)CC1)C3=CC=C(Cl)...</td>\n",
       "      <td>&lt;rdkit.Chem.rdchem.Mol object at 0x7fa1fabf13f0&gt;</td>\n",
       "      <td>[0, 0, 0, 0, 0, 0, 0, 0, 0, 0, 0, 0, 0, 0, 0, ...</td>\n",
       "      <td>[0, 0, 0, 0, 0, 0, 0, 0, 0, 0, 0, 0, 0, 0, 0, ...</td>\n",
       "      <td>[0, 0, 0, 0, 1, 0, 0, 0, 0, 0, 0, 0, 0, 0, 0, ...</td>\n",
       "      <td>[0, 0, 0, 0, 1, 0, 0, 0, 0, 0, 0, 0, 0, 0, 0, ...</td>\n",
       "      <td>[0, 0, 0, 0, 1, 0, 0, 0, 0, 0, 0, 0, 0, 0, 0, ...</td>\n",
       "      <td>[1, 0, 1, 1, 1, 1, 0, 0, 1, 0, 0, 0, 1, 0, 1, ...</td>\n",
       "    </tr>\n",
       "    <tr>\n",
       "      <th>103.780671</th>\n",
       "      <td>5.55</td>\n",
       "      <td>28.183829</td>\n",
       "      <td>0</td>\n",
       "      <td>CN(C)S(=O)(=O)c1cc2N(CC(C)N(C)C)c3ccccc3Sc2cc1</td>\n",
       "      <td>&lt;rdkit.Chem.rdchem.Mol object at 0x7fa1fabf13a0&gt;</td>\n",
       "      <td>[0, 1, 0, 0, 1, 0, 0, 0, 0, 0, 0, 0, 0, 0, 0, ...</td>\n",
       "      <td>[0, 1, 0, 0, 1, 0, 0, 0, 0, 0, 0, 0, 0, 0, 0, ...</td>\n",
       "      <td>[0, 1, 0, 0, 1, 0, 0, 0, 0, 0, 0, 0, 0, 0, 0, ...</td>\n",
       "      <td>[0, 1, 0, 0, 1, 0, 0, 0, 0, 0, 0, 0, 0, 0, 0, ...</td>\n",
       "      <td>[0, 1, 0, 0, 1, 0, 0, 0, 0, 0, 0, 0, 0, 0, 0, ...</td>\n",
       "      <td>[0, 0, 1, 1, 1, 1, 0, 0, 0, 1, 1, 1, 1, 1, 1, ...</td>\n",
       "    </tr>\n",
       "    <tr>\n",
       "      <th>86.713373</th>\n",
       "      <td>5.50</td>\n",
       "      <td>31.622777</td>\n",
       "      <td>0</td>\n",
       "      <td>NC1=CC=C(C=C1)C(=O)C2=CC3=C([NH]2)C=CC4=CC=CC=C34</td>\n",
       "      <td>&lt;rdkit.Chem.rdchem.Mol object at 0x7fa1fabf1170&gt;</td>\n",
       "      <td>[0, 0, 0, 0, 0, 0, 0, 0, 0, 1, 0, 0, 0, 0, 0, ...</td>\n",
       "      <td>[0, 0, 0, 0, 0, 0, 0, 0, 0, 1, 0, 0, 0, 0, 0, ...</td>\n",
       "      <td>[0, 0, 0, 0, 0, 0, 0, 0, 0, 1, 0, 0, 0, 0, 0, ...</td>\n",
       "      <td>[0, 0, 0, 0, 0, 0, 0, 0, 0, 1, 0, 0, 0, 0, 0, ...</td>\n",
       "      <td>[0, 0, 0, 0, 0, 0, 0, 0, 0, 1, 0, 0, 0, 0, 0, ...</td>\n",
       "      <td>[1, 0, 1, 1, 0, 1, 1, 0, 0, 0, 0, 1, 1, 1, 0, ...</td>\n",
       "    </tr>\n",
       "    <tr>\n",
       "      <th>111.573718</th>\n",
       "      <td>5.50</td>\n",
       "      <td>31.622777</td>\n",
       "      <td>0</td>\n",
       "      <td>CSC1=CC=C(C=C1)C(=O)/C=C/C2=CC(=C(OC(C)(C)C(O)...</td>\n",
       "      <td>&lt;rdkit.Chem.rdchem.Mol object at 0x7fa1fabf1260&gt;</td>\n",
       "      <td>[0, 0, 0, 0, 0, 0, 0, 0, 0, 0, 0, 0, 0, 0, 0, ...</td>\n",
       "      <td>[0, 0, 0, 0, 0, 0, 0, 0, 0, 0, 0, 0, 0, 0, 0, ...</td>\n",
       "      <td>[0, 0, 0, 0, 0, 0, 0, 0, 0, 0, 0, 0, 0, 0, 0, ...</td>\n",
       "      <td>[0, 0, 0, 0, 0, 0, 0, 0, 0, 0, 0, 0, 0, 0, 0, ...</td>\n",
       "      <td>[0, 0, 0, 0, 0, 0, 0, 0, 0, 0, 0, 0, 0, 0, 0, ...</td>\n",
       "      <td>[0, 1, 1, 0, 0, 0, 0, 0, 0, 1, 0, 0, 0, 1, 1, ...</td>\n",
       "    </tr>\n",
       "  </tbody>\n",
       "</table>\n",
       "<p>758 rows × 11 columns</p>\n",
       "</div>"
      ],
      "text/plain": [
       "            pAC50   AC50(uM)  pClass  \\\n",
       "EFFICACY                               \n",
       "105.493143   8.00   0.100000       2   \n",
       "34.268972    7.95   0.112202       2   \n",
       "40.708548    7.90   0.125893       2   \n",
       "44.052835    7.90   0.125893       2   \n",
       "34.926175    7.85   0.141254       2   \n",
       "...           ...        ...     ...   \n",
       "96.660428    5.60  25.118864       0   \n",
       "113.434865   5.60  25.118864       0   \n",
       "103.780671   5.55  28.183829       0   \n",
       "86.713373    5.50  31.622777       0   \n",
       "111.573718   5.50  31.622777       0   \n",
       "\n",
       "                                                       SMILES  \\\n",
       "EFFICACY                                                        \n",
       "105.493143  CC[C@H](NC(=O)[C@H](C[S+]([O-])(=O)CC1CC1)N[C@...   \n",
       "34.268972   [H][C@@]1(C[C@H](C)[C@@]([H])(O1)[C@]2(CC)CC[C...   \n",
       "40.708548   [H][C@@]1(C[C@H](C)[C@@]([H])(O1)[C@]2(CC)CC[C...   \n",
       "44.052835   CC(C)CC(=O)O[C@H]\\1C[C@@]2(COC(C)=O)[C@H](O[C@...   \n",
       "34.926175         Clc2cc(ccc2NC(=O)c1cc(Cl)ccc1O)[N+]([O-])=O   \n",
       "...                                                       ...   \n",
       "96.660428                          CCN(CC)C(=S)SSC(=S)N(CC)CC   \n",
       "113.434865  OC1(CCN(CCCC(=O)C2=CC=C(F)C=C2)CC1)C3=CC=C(Cl)...   \n",
       "103.780671     CN(C)S(=O)(=O)c1cc2N(CC(C)N(C)C)c3ccccc3Sc2cc1   \n",
       "86.713373   NC1=CC=C(C=C1)C(=O)C2=CC3=C([NH]2)C=CC4=CC=CC=C34   \n",
       "111.573718  CSC1=CC=C(C=C1)C(=O)/C=C/C2=CC(=C(OC(C)(C)C(O)...   \n",
       "\n",
       "                                                   molecules  \\\n",
       "EFFICACY                                                       \n",
       "105.493143  <rdkit.Chem.rdchem.Mol object at 0x7fa1fae19350>   \n",
       "34.268972   <rdkit.Chem.rdchem.Mol object at 0x7fa1f5134cb0>   \n",
       "40.708548   <rdkit.Chem.rdchem.Mol object at 0x7fa1f5134030>   \n",
       "44.052835   <rdkit.Chem.rdchem.Mol object at 0x7fa1fa9d43f0>   \n",
       "34.926175   <rdkit.Chem.rdchem.Mol object at 0x7fa1fa9d4350>   \n",
       "...                                                      ...   \n",
       "96.660428   <rdkit.Chem.rdchem.Mol object at 0x7fa1fabf1440>   \n",
       "113.434865  <rdkit.Chem.rdchem.Mol object at 0x7fa1fabf13f0>   \n",
       "103.780671  <rdkit.Chem.rdchem.Mol object at 0x7fa1fabf13a0>   \n",
       "86.713373   <rdkit.Chem.rdchem.Mol object at 0x7fa1fabf1170>   \n",
       "111.573718  <rdkit.Chem.rdchem.Mol object at 0x7fa1fabf1260>   \n",
       "\n",
       "                                                        ECFP4  \\\n",
       "EFFICACY                                                        \n",
       "105.493143  [0, 1, 0, 0, 0, 0, 0, 0, 0, 1, 0, 0, 0, 0, 1, ...   \n",
       "34.268972   [0, 1, 0, 0, 0, 0, 0, 0, 0, 0, 0, 0, 0, 0, 0, ...   \n",
       "40.708548   [0, 1, 0, 0, 0, 0, 0, 0, 0, 0, 0, 0, 0, 0, 0, ...   \n",
       "44.052835   [0, 1, 0, 0, 0, 0, 0, 0, 0, 0, 0, 1, 0, 0, 0, ...   \n",
       "34.926175   [0, 0, 0, 0, 0, 0, 0, 0, 0, 0, 0, 0, 0, 0, 0, ...   \n",
       "...                                                       ...   \n",
       "96.660428   [0, 0, 0, 0, 0, 0, 0, 0, 0, 0, 0, 0, 0, 0, 0, ...   \n",
       "113.434865  [0, 0, 0, 0, 0, 0, 0, 0, 0, 0, 0, 0, 0, 0, 0, ...   \n",
       "103.780671  [0, 1, 0, 0, 1, 0, 0, 0, 0, 0, 0, 0, 0, 0, 0, ...   \n",
       "86.713373   [0, 0, 0, 0, 0, 0, 0, 0, 0, 1, 0, 0, 0, 0, 0, ...   \n",
       "111.573718  [0, 0, 0, 0, 0, 0, 0, 0, 0, 0, 0, 0, 0, 0, 0, ...   \n",
       "\n",
       "                                                        ECFP6  \\\n",
       "EFFICACY                                                        \n",
       "105.493143  [0, 1, 0, 0, 0, 0, 0, 0, 0, 1, 0, 0, 0, 0, 1, ...   \n",
       "34.268972   [0, 1, 0, 0, 0, 0, 0, 0, 0, 0, 0, 0, 0, 0, 0, ...   \n",
       "40.708548   [0, 1, 0, 0, 0, 0, 0, 0, 0, 0, 0, 0, 0, 0, 0, ...   \n",
       "44.052835   [0, 1, 0, 0, 0, 0, 0, 0, 0, 0, 0, 1, 0, 0, 0, ...   \n",
       "34.926175   [0, 0, 0, 0, 0, 0, 0, 0, 1, 0, 0, 0, 0, 0, 0, ...   \n",
       "...                                                       ...   \n",
       "96.660428   [0, 0, 0, 0, 0, 0, 0, 0, 0, 0, 0, 0, 0, 0, 0, ...   \n",
       "113.434865  [0, 0, 0, 0, 0, 0, 0, 0, 0, 0, 0, 0, 0, 0, 0, ...   \n",
       "103.780671  [0, 1, 0, 0, 1, 0, 0, 0, 0, 0, 0, 0, 0, 0, 0, ...   \n",
       "86.713373   [0, 0, 0, 0, 0, 0, 0, 0, 0, 1, 0, 0, 0, 0, 0, ...   \n",
       "111.573718  [0, 0, 0, 0, 0, 0, 0, 0, 0, 0, 0, 0, 0, 0, 0, ...   \n",
       "\n",
       "                                                        ECFP8  \\\n",
       "EFFICACY                                                        \n",
       "105.493143  [0, 1, 0, 0, 0, 0, 0, 0, 0, 1, 0, 0, 0, 0, 1, ...   \n",
       "34.268972   [0, 1, 0, 0, 0, 0, 0, 0, 0, 0, 0, 0, 1, 1, 0, ...   \n",
       "40.708548   [0, 1, 0, 0, 0, 0, 0, 0, 0, 0, 0, 0, 1, 1, 0, ...   \n",
       "44.052835   [0, 1, 0, 0, 0, 0, 0, 0, 0, 0, 0, 1, 0, 0, 0, ...   \n",
       "34.926175   [0, 0, 0, 0, 0, 0, 0, 0, 1, 0, 0, 0, 0, 0, 0, ...   \n",
       "...                                                       ...   \n",
       "96.660428   [0, 0, 0, 0, 0, 0, 0, 0, 0, 0, 0, 0, 0, 0, 0, ...   \n",
       "113.434865  [0, 0, 0, 0, 1, 0, 0, 0, 0, 0, 0, 0, 0, 0, 0, ...   \n",
       "103.780671  [0, 1, 0, 0, 1, 0, 0, 0, 0, 0, 0, 0, 0, 0, 0, ...   \n",
       "86.713373   [0, 0, 0, 0, 0, 0, 0, 0, 0, 1, 0, 0, 0, 0, 0, ...   \n",
       "111.573718  [0, 0, 0, 0, 0, 0, 0, 0, 0, 0, 0, 0, 0, 0, 0, ...   \n",
       "\n",
       "                                                       ECFP10  \\\n",
       "EFFICACY                                                        \n",
       "105.493143  [0, 1, 0, 0, 1, 0, 0, 0, 0, 1, 0, 0, 0, 0, 1, ...   \n",
       "34.268972   [0, 1, 0, 0, 0, 0, 0, 0, 0, 0, 0, 1, 1, 1, 0, ...   \n",
       "40.708548   [0, 1, 0, 0, 0, 0, 0, 0, 0, 0, 0, 1, 1, 1, 0, ...   \n",
       "44.052835   [0, 1, 0, 0, 0, 0, 0, 0, 0, 0, 0, 1, 0, 0, 0, ...   \n",
       "34.926175   [0, 0, 0, 0, 0, 0, 0, 0, 1, 0, 0, 0, 0, 0, 0, ...   \n",
       "...                                                       ...   \n",
       "96.660428   [0, 0, 0, 0, 0, 0, 0, 0, 0, 0, 0, 0, 0, 0, 0, ...   \n",
       "113.434865  [0, 0, 0, 0, 1, 0, 0, 0, 0, 0, 0, 0, 0, 0, 0, ...   \n",
       "103.780671  [0, 1, 0, 0, 1, 0, 0, 0, 0, 0, 0, 0, 0, 0, 0, ...   \n",
       "86.713373   [0, 0, 0, 0, 0, 0, 0, 0, 0, 1, 0, 0, 0, 0, 0, ...   \n",
       "111.573718  [0, 0, 0, 0, 0, 0, 0, 0, 0, 0, 0, 0, 0, 0, 0, ...   \n",
       "\n",
       "                                                       ECFP12  \\\n",
       "EFFICACY                                                        \n",
       "105.493143  [0, 1, 0, 0, 1, 0, 0, 0, 0, 1, 0, 0, 0, 0, 1, ...   \n",
       "34.268972   [0, 1, 0, 0, 0, 0, 0, 0, 0, 0, 0, 1, 1, 1, 0, ...   \n",
       "40.708548   [0, 1, 0, 0, 0, 0, 0, 0, 0, 0, 0, 1, 1, 1, 0, ...   \n",
       "44.052835   [0, 1, 0, 0, 0, 0, 0, 0, 0, 0, 0, 1, 0, 0, 0, ...   \n",
       "34.926175   [0, 0, 0, 0, 0, 0, 0, 0, 1, 0, 0, 0, 0, 0, 0, ...   \n",
       "...                                                       ...   \n",
       "96.660428   [0, 0, 0, 0, 0, 0, 0, 0, 0, 0, 0, 0, 0, 0, 0, ...   \n",
       "113.434865  [0, 0, 0, 0, 1, 0, 0, 0, 0, 0, 0, 0, 0, 0, 0, ...   \n",
       "103.780671  [0, 1, 0, 0, 1, 0, 0, 0, 0, 0, 0, 0, 0, 0, 0, ...   \n",
       "86.713373   [0, 0, 0, 0, 0, 0, 0, 0, 0, 1, 0, 0, 0, 0, 0, ...   \n",
       "111.573718  [0, 0, 0, 0, 0, 0, 0, 0, 0, 0, 0, 0, 0, 0, 0, ...   \n",
       "\n",
       "                                                        RDKFP  \n",
       "EFFICACY                                                       \n",
       "105.493143  [0, 1, 1, 1, 1, 0, 0, 1, 0, 0, 1, 1, 0, 0, 1, ...  \n",
       "34.268972   [1, 0, 0, 0, 0, 1, 0, 0, 0, 0, 1, 1, 1, 1, 1, ...  \n",
       "40.708548   [1, 0, 0, 0, 0, 1, 0, 0, 0, 0, 1, 1, 1, 1, 1, ...  \n",
       "44.052835   [1, 0, 1, 1, 1, 1, 1, 0, 1, 0, 1, 1, 1, 1, 1, ...  \n",
       "34.926175   [0, 1, 1, 0, 0, 0, 0, 0, 1, 0, 1, 1, 1, 1, 0, ...  \n",
       "...                                                       ...  \n",
       "96.660428   [0, 1, 0, 0, 0, 0, 0, 0, 0, 0, 0, 0, 1, 0, 0, ...  \n",
       "113.434865  [1, 0, 1, 1, 1, 1, 0, 0, 1, 0, 0, 0, 1, 0, 1, ...  \n",
       "103.780671  [0, 0, 1, 1, 1, 1, 0, 0, 0, 1, 1, 1, 1, 1, 1, ...  \n",
       "86.713373   [1, 0, 1, 1, 0, 1, 1, 0, 0, 0, 0, 1, 1, 1, 0, ...  \n",
       "111.573718  [0, 1, 1, 0, 0, 0, 0, 0, 0, 1, 0, 0, 0, 1, 1, ...  \n",
       "\n",
       "[758 rows x 11 columns]"
      ]
     },
     "execution_count": 41,
     "metadata": {},
     "output_type": "execute_result"
    }
   ],
   "source": [
    "df"
   ]
  },
  {
   "cell_type": "code",
   "execution_count": 42,
   "metadata": {},
   "outputs": [],
   "source": [
    "Test_Size = 0.4"
   ]
  },
  {
   "cell_type": "code",
   "execution_count": 43,
   "metadata": {},
   "outputs": [],
   "source": [
    "ECFP10 = np.array(list(df['ECFP10']))\n",
    "ECFP4 = np.array(list(df['ECFP4']))\n",
    "pClass = df['pClass'].values"
   ]
  },
  {
   "cell_type": "code",
   "execution_count": 44,
   "metadata": {},
   "outputs": [
    {
     "data": {
      "image/png": "[encoded data removed]",
      "text/plain": [
       "<Figure size 432x288 with 1 Axes>"
      ]
     },
     "metadata": {
      "needs_background": "light"
     },
     "output_type": "display_data"
    }
   ],
   "source": [
    "sns.countplot(data = df, x='pClass', orient='v')\n",
    "plt.ylabel('pClass')\n",
    "plt.xlabel('Count of each class')\n",
    "plt.show()"
   ]
  },
  {
   "cell_type": "code",
   "execution_count": 45,
   "metadata": {
    "scrolled": true
   },
   "outputs": [
    {
     "name": "stdout",
     "output_type": "stream",
     "text": [
      "0: 236 152\n",
      "1: 199 125\n",
      "2: 19 27\n"
     ]
    }
   ],
   "source": [
    "X_train, X_test, y_train, y_test = model_selection.train_test_split(ECFP10, pClass, test_size= Test_Size)\n",
    "print('0:',list(y_train).count(0),list(y_test).count(0))\n",
    "print('1:',list(y_train).count(1),list(y_test).count(1))\n",
    "print('2:',list(y_train).count(2),list(y_test).count(2))\n",
    "\n",
    "X_train = StandardScaler().fit_transform(X_train)\n",
    "X_test = StandardScaler().fit_transform(X_test)"
   ]
  },
  {
   "cell_type": "code",
   "execution_count": 46,
   "metadata": {},
   "outputs": [
    {
     "data": {
      "text/plain": [
       "RandomForestClassifier(bootstrap=True, ccp_alpha=0.0, class_weight=None,\n",
       "                       criterion='gini', max_depth=None, max_features='auto',\n",
       "                       max_leaf_nodes=None, max_samples=None,\n",
       "                       min_impurity_decrease=0.0, min_impurity_split=None,\n",
       "                       min_samples_leaf=1, min_samples_split=2,\n",
       "                       min_weight_fraction_leaf=0.0, n_estimators=100,\n",
       "                       n_jobs=None, oob_score=True, random_state=None,\n",
       "                       verbose=0, warm_start=False)"
      ]
     },
     "execution_count": 46,
     "metadata": {},
     "output_type": "execute_result"
    }
   ],
   "source": [
    "#RandomForest\n",
    "rfc1 = RandomForestClassifier(oob_score=True)\n",
    "rfc1.fit(X_train,y_train)"
   ]
  },
  {
   "cell_type": "code",
   "execution_count": 47,
   "metadata": {},
   "outputs": [
    {
     "name": "stdout",
     "output_type": "stream",
     "text": [
      "OOB score: 0.5594713656387665\n",
      "Train_accuracy_score: 0.9823788546255506\n",
      "Test_accuracy_score: 0.4605263157894737\n"
     ]
    }
   ],
   "source": [
    "rfc1_lab = rfc1.predict(X_train)\n",
    "rfc1_pre = rfc1.predict(X_test)\n",
    "print(\"OOB score:\",rfc1.oob_score_)\n",
    "print(\"Train_accuracy_score:\",accuracy_score(y_train,rfc1_lab))\n",
    "print(\"Test_accuracy_score:\",accuracy_score(y_test,rfc1_pre))"
   ]
  },
  {
   "cell_type": "code",
   "execution_count": 48,
   "metadata": {},
   "outputs": [
    {
     "data": {
      "text/plain": [
       "Text(0.5, 1.0, 'ROC-Active_3Class_RandomForest-ECFP10')"
      ]
     },
     "execution_count": 48,
     "metadata": {},
     "output_type": "execute_result"
    },
    {
     "data": {
      "image/png": "[encoded data removed]",
      "text/plain": [
       "<Figure size 576x504 with 1 Axes>"
      ]
     },
     "metadata": {
      "needs_background": "light"
     },
     "output_type": "display_data"
    }
   ],
   "source": [
    "lable_names = [\"0\",\"1\",\"2\"]\n",
    "colors = [\"r\",\"b\",\"g\"]\n",
    "linestyles =[\"-\", \"--\", \"-.\"]\n",
    "y_test_lb = label_binarize(y_test,classes=[0,1,2])\n",
    "pre_score = rfc1.predict_proba(X_test)\n",
    "fig  = plt.figure(figsize=(8,7))\n",
    "for ii, color in zip(range(pre_score.shape[1]), colors):\n",
    "    ## ROC\n",
    "    fpr_ii, tpr_ii, _ = roc_curve(y_test_lb[:,ii], pre_score[:,ii])\n",
    "    plt.plot(fpr_ii, tpr_ii,color = color,linewidth = 2,\n",
    "             linestyle = linestyles[ii],\n",
    "             label = \"class:\"+lable_names[ii])\n",
    "plt.plot([0, 1], [0, 1], 'k--')\n",
    "plt.xlabel(\"False Positive Rate\")\n",
    "plt.ylabel(\"True Positive Rate\")\n",
    "plt.xlim(0, 1)\n",
    "plt.ylim(0, 1)\n",
    "plt.grid()\n",
    "plt.legend()\n",
    "plt.title(\"ROC-Active_3Class_RandomForest-ECFP10\")"
   ]
  },
  {
   "cell_type": "code",
   "execution_count": 49,
   "metadata": {},
   "outputs": [
    {
     "name": "stdout",
     "output_type": "stream",
     "text": [
      "0: 234 154\n",
      "1: 190 134\n",
      "2: 30 16\n"
     ]
    }
   ],
   "source": [
    "X_train, X_test, y_train, y_test = model_selection.train_test_split(ECFP4, pClass, test_size= Test_Size)\n",
    "print('0:',list(y_train).count(0),list(y_test).count(0))\n",
    "print('1:',list(y_train).count(1),list(y_test).count(1))\n",
    "print('2:',list(y_train).count(2),list(y_test).count(2))\n",
    "\n",
    "X_train = StandardScaler().fit_transform(X_train)\n",
    "X_test = StandardScaler().fit_transform(X_test)"
   ]
  },
  {
   "cell_type": "code",
   "execution_count": 50,
   "metadata": {},
   "outputs": [
    {
     "data": {
      "text/plain": [
       "RandomForestClassifier(bootstrap=True, ccp_alpha=0.0, class_weight=None,\n",
       "                       criterion='gini', max_depth=None, max_features='auto',\n",
       "                       max_leaf_nodes=None, max_samples=None,\n",
       "                       min_impurity_decrease=0.0, min_impurity_split=None,\n",
       "                       min_samples_leaf=1, min_samples_split=2,\n",
       "                       min_weight_fraction_leaf=0.0, n_estimators=100,\n",
       "                       n_jobs=None, oob_score=True, random_state=None,\n",
       "                       verbose=0, warm_start=False)"
      ]
     },
     "execution_count": 50,
     "metadata": {},
     "output_type": "execute_result"
    }
   ],
   "source": [
    "#RandomForest\n",
    "rfc1 = RandomForestClassifier(oob_score=True)\n",
    "rfc1.fit(X_train,y_train)"
   ]
  },
  {
   "cell_type": "code",
   "execution_count": 51,
   "metadata": {},
   "outputs": [
    {
     "name": "stdout",
     "output_type": "stream",
     "text": [
      "OOB score: 0.5308370044052864\n",
      "Train_accuracy_score: 0.9713656387665198\n",
      "Test_accuracy_score: 0.5131578947368421\n"
     ]
    }
   ],
   "source": [
    "rfc1_lab = rfc1.predict(X_train)\n",
    "rfc1_pre = rfc1.predict(X_test)\n",
    "print(\"OOB score:\",rfc1.oob_score_)\n",
    "print(\"Train_accuracy_score:\",accuracy_score(y_train,rfc1_lab))\n",
    "print(\"Test_accuracy_score:\",accuracy_score(y_test,rfc1_pre))"
   ]
  },
  {
   "cell_type": "code",
   "execution_count": 52,
   "metadata": {},
   "outputs": [
    {
     "data": {
      "text/plain": [
       "Text(0.5, 1.0, 'ROC-Active_3Class_RandomForest-ECFP4')"
      ]
     },
     "execution_count": 52,
     "metadata": {},
     "output_type": "execute_result"
    },
    {
     "data": {
      "image/png": "[encoded data removed]",
      "text/plain": [
       "<Figure size 576x504 with 1 Axes>"
      ]
     },
     "metadata": {
      "needs_background": "light"
     },
     "output_type": "display_data"
    }
   ],
   "source": [
    "lable_names = [\"0\",\"1\",\"2\"]\n",
    "colors = [\"r\",\"b\",\"g\"]\n",
    "linestyles =[\"-\", \"--\", \"-.\"]\n",
    "y_test_lb = label_binarize(y_test,classes=[0,1,2])\n",
    "pre_score = rfc1.predict_proba(X_test)\n",
    "fig  = plt.figure(figsize=(8,7))\n",
    "for ii, color in zip(range(pre_score.shape[1]), colors):\n",
    "    ## ROC\n",
    "    fpr_ii, tpr_ii, _ = roc_curve(y_test_lb[:,ii], pre_score[:,ii])\n",
    "    plt.plot(fpr_ii, tpr_ii,color = color,linewidth = 2,\n",
    "             linestyle = linestyles[ii],\n",
    "             label = \"class:\"+lable_names[ii])\n",
    "plt.plot([0, 1], [0, 1], 'k--')\n",
    "plt.xlabel(\"False Positive Rate\")\n",
    "plt.ylabel(\"True Positive Rate\")\n",
    "plt.xlim(0, 1)\n",
    "plt.ylim(0, 1)\n",
    "plt.grid()\n",
    "plt.legend()\n",
    "plt.title(\"ROC-Active_3Class_RandomForest-ECFP4\")"
   ]
  },
  {
   "cell_type": "code",
   "execution_count": 53,
   "metadata": {},
   "outputs": [
    {
     "name": "stdout",
     "output_type": "stream",
     "text": [
      "0: 234 154\n",
      "1: 195 129\n",
      "2: 25 21\n"
     ]
    }
   ],
   "source": [
    "X_train, X_test, y_train, y_test = model_selection.train_test_split(ECFP10, pClass, test_size= Test_Size)\n",
    "print('0:',list(y_train).count(0),list(y_test).count(0))\n",
    "print('1:',list(y_train).count(1),list(y_test).count(1))\n",
    "print('2:',list(y_train).count(2),list(y_test).count(2))\n",
    "\n",
    "X_train = StandardScaler().fit_transform(X_train)\n",
    "X_test = StandardScaler().fit_transform(X_test)"
   ]
  },
  {
   "cell_type": "code",
   "execution_count": 54,
   "metadata": {},
   "outputs": [
    {
     "name": "stderr",
     "output_type": "stream",
     "text": [
      "/opt/anaconda3/lib/python3.7/site-packages/sklearn/linear_model/_logistic.py:940: ConvergenceWarning: lbfgs failed to converge (status=1):\n",
      "STOP: TOTAL NO. of ITERATIONS REACHED LIMIT.\n",
      "\n",
      "Increase the number of iterations (max_iter) or scale the data as shown in:\n",
      "    https://scikit-learn.org/stable/modules/preprocessing.html\n",
      "Please also refer to the documentation for alternative solver options:\n",
      "    https://scikit-learn.org/stable/modules/linear_model.html#logistic-regression\n",
      "  extra_warning_msg=_LOGISTIC_SOLVER_CONVERGENCE_MSG)\n"
     ]
    },
    {
     "data": {
      "text/plain": [
       "LogisticRegression(C=1.0, class_weight=None, dual=False, fit_intercept=True,\n",
       "                   intercept_scaling=1, l1_ratio=None, max_iter=100,\n",
       "                   multi_class='auto', n_jobs=None, penalty='l2',\n",
       "                   random_state=None, solver='lbfgs', tol=0.0001, verbose=0,\n",
       "                   warm_start=False)"
      ]
     },
     "execution_count": 54,
     "metadata": {},
     "output_type": "execute_result"
    }
   ],
   "source": [
    "#LogisticRegression\n",
    "lr = LogisticRegression()\n",
    "lr.fit(X_train, y_train)"
   ]
  },
  {
   "cell_type": "code",
   "execution_count": 55,
   "metadata": {},
   "outputs": [
    {
     "name": "stdout",
     "output_type": "stream",
     "text": [
      "Train_accuracy_score: 0.9779735682819384\n",
      "Test_accuracy_score: 0.45394736842105265\n"
     ]
    }
   ],
   "source": [
    "lr_lab = lr.predict(X_train)\n",
    "lr_pre = lr.predict(X_test)\n",
    "print(\"Train_accuracy_score:\",accuracy_score(y_train,lr_lab))\n",
    "print(\"Test_accuracy_score:\",accuracy_score(y_test,lr_pre))"
   ]
  },
  {
   "cell_type": "code",
   "execution_count": 56,
   "metadata": {
    "scrolled": false
   },
   "outputs": [
    {
     "data": {
      "text/plain": [
       "Text(0.5, 1.0, 'ROC-Active_3Class_LogisticRegression-ECFP10')"
      ]
     },
     "execution_count": 56,
     "metadata": {},
     "output_type": "execute_result"
    },
    {
     "data": {
      "image/png": "[encoded data removed]",
      "text/plain": [
       "<Figure size 576x504 with 1 Axes>"
      ]
     },
     "metadata": {
      "needs_background": "light"
     },
     "output_type": "display_data"
    }
   ],
   "source": [
    "lable_names = [\"0\",\"1\",\"2\"]\n",
    "colors = [\"r\",\"b\",\"g\"]\n",
    "linestyles =[\"-\", \"--\", \"-.\"]\n",
    "y_test_lb = label_binarize(y_test,classes=[0,1,2])\n",
    "pre_score = lr.predict_proba(X_test)\n",
    "fig  = plt.figure(figsize=(8,7))\n",
    "for ii, color in zip(range(pre_score.shape[1]), colors):\n",
    "    ## ROC\n",
    "    fpr_ii, tpr_ii, _ = roc_curve(y_test_lb[:,ii], pre_score[:,ii])\n",
    "    plt.plot(fpr_ii, tpr_ii,color = color,linewidth = 2,\n",
    "             linestyle = linestyles[ii],\n",
    "             label = \"class:\"+lable_names[ii])\n",
    "plt.plot([0, 1], [0, 1], 'k--')\n",
    "plt.xlabel(\"False Positive Rate\")\n",
    "plt.ylabel(\"True Positive Rate\")\n",
    "plt.xlim(0, 1)\n",
    "plt.ylim(0, 1)\n",
    "plt.grid()\n",
    "plt.legend()\n",
    "plt.title(\"ROC-Active_3Class_LogisticRegression-ECFP10\")"
   ]
  },
  {
   "cell_type": "code",
   "execution_count": 57,
   "metadata": {},
   "outputs": [],
   "source": [
    "Test_Size = 0.2"
   ]
  },
  {
   "cell_type": "code",
   "execution_count": 58,
   "metadata": {},
   "outputs": [],
   "source": [
    "pAC50 = df['pAC50'].values"
   ]
  },
  {
   "cell_type": "code",
   "execution_count": 59,
   "metadata": {},
   "outputs": [],
   "source": [
    "X_train, X_test, y_train, y_test = model_selection.train_test_split(ECFP4, pAC50, test_size= Test_Size)"
   ]
  },
  {
   "cell_type": "code",
   "execution_count": 60,
   "metadata": {},
   "outputs": [
    {
     "name": "stdout",
     "output_type": "stream",
     "text": [
      "Train_MSE: 0.002488730489725681\n",
      "Test_MSE: 8.33509669985308e+23\n"
     ]
    },
    {
     "data": {
      "text/plain": [
       "[<matplotlib.lines.Line2D at 0x7fa1f9f09b10>]"
      ]
     },
     "execution_count": 60,
     "metadata": {},
     "output_type": "execute_result"
    },
    {
     "data": {
      "image/png": "[encoded data removed]",
      "text/plain": [
       "<Figure size 432x288 with 1 Axes>"
      ]
     },
     "metadata": {
      "needs_background": "light"
     },
     "output_type": "display_data"
    }
   ],
   "source": [
    "#LinearRegression\n",
    "lr = linear_model.LinearRegression()\n",
    "lr.fit(X_train, y_train)\n",
    "\n",
    "lr_lab = lr.predict(X_train)\n",
    "lr_pre = lr.predict(X_test)\n",
    "\n",
    "print(\"Train_MSE:\",mean_squared_error(y_train,lr_lab))\n",
    "print(\"Test_MSE:\",mean_squared_error(y_test,lr_pre))\n",
    "plt.plot(y_test,lr_pre,'o')"
   ]
  },
  {
   "cell_type": "code",
   "execution_count": 61,
   "metadata": {},
   "outputs": [
    {
     "name": "stdout",
     "output_type": "stream",
     "text": [
      "Train_MSE: 0.05587330000511705\n",
      "Test_MSE: 0.16716111018053495\n"
     ]
    },
    {
     "data": {
      "text/plain": [
       "[<matplotlib.lines.Line2D at 0x7fa1f9e6ad50>]"
      ]
     },
     "execution_count": 61,
     "metadata": {},
     "output_type": "execute_result"
    },
    {
     "data": {
      "image/png": "[encoded data removed]",
      "text/plain": [
       "<Figure size 432x288 with 1 Axes>"
      ]
     },
     "metadata": {
      "needs_background": "light"
     },
     "output_type": "display_data"
    }
   ],
   "source": [
    "#BayesianRidge\n",
    "br = linear_model.BayesianRidge()\n",
    "br.fit(X_train, y_train)\n",
    "\n",
    "br_lab = br.predict(X_train)\n",
    "br_pre = br.predict(X_test)\n",
    "\n",
    "print(\"Train_MSE:\",mean_squared_error(y_train,br_lab))\n",
    "print(\"Test_MSE:\",mean_squared_error(y_test,br_pre))\n",
    "plt.plot(y_test,br_pre,'o')"
   ]
  },
  {
   "cell_type": "code",
   "execution_count": 62,
   "metadata": {},
   "outputs": [
    {
     "name": "stdout",
     "output_type": "stream",
     "text": [
      "Train_MSE: 0.09274494550565457\n",
      "Test_MSE: 0.40882324645467016\n"
     ]
    },
    {
     "data": {
      "text/plain": [
       "[<matplotlib.lines.Line2D at 0x7fa1f9e57610>]"
      ]
     },
     "execution_count": 62,
     "metadata": {},
     "output_type": "execute_result"
    },
    {
     "data": {
      "image/png": "[encoded data removed]",
      "text/plain": [
       "<Figure size 432x288 with 1 Axes>"
      ]
     },
     "metadata": {
      "needs_background": "light"
     },
     "output_type": "display_data"
    }
   ],
   "source": [
    "#SGDRegressor\n",
    "sgd = linear_model.SGDRegressor()\n",
    "sgd.fit(X_train, y_train)\n",
    "\n",
    "sgd_lab = sgd.predict(X_train)\n",
    "sgd_pre = sgd.predict(X_test)\n",
    "\n",
    "print(\"Train_MSE:\",mean_squared_error(y_train,sgd_lab))\n",
    "print(\"Test_MSE:\",mean_squared_error(y_test,sgd_pre))\n",
    "plt.plot(y_test,sgd_pre,'o')"
   ]
  },
  {
   "cell_type": "code",
   "execution_count": 63,
   "metadata": {},
   "outputs": [
    {
     "name": "stdout",
     "output_type": "stream",
     "text": [
      "Train_MSE: 0.002466996699669965\n",
      "Test_MSE: 0.6561986603630202\n"
     ]
    },
    {
     "data": {
      "text/plain": [
       "[<matplotlib.lines.Line2D at 0x7fa1f9dc0590>]"
      ]
     },
     "execution_count": 63,
     "metadata": {},
     "output_type": "execute_result"
    },
    {
     "data": {
      "image/png": "[encoded data removed]",
      "text/plain": [
       "<Figure size 432x288 with 1 Axes>"
      ]
     },
     "metadata": {
      "needs_background": "light"
     },
     "output_type": "display_data"
    }
   ],
   "source": [
    "#TheilSenRegressor\n",
    "sr = linear_model.TheilSenRegressor()\n",
    "sr.fit(X_train, y_train)\n",
    "\n",
    "sr_lab = sr.predict(X_train)\n",
    "sr_pre = sr.predict(X_test)\n",
    "\n",
    "print(\"Train_MSE:\",mean_squared_error(y_train,sr_lab))\n",
    "print(\"Test_MSE:\",mean_squared_error(y_test,sr_pre))\n",
    "plt.plot(y_test,sr_pre,'o')"
   ]
  },
  {
   "cell_type": "code",
   "execution_count": null,
   "metadata": {},
   "outputs": [],
   "source": []
  },
  {
   "cell_type": "code",
   "execution_count": null,
   "metadata": {},
   "outputs": [],
   "source": []
  },
  {
   "cell_type": "code",
   "execution_count": null,
   "metadata": {},
   "outputs": [],
   "source": []
  }
 ],
 "metadata": {
  "kernelspec": {
   "display_name": "Python 3",
   "language": "python",
   "name": "python3"
  },
  "language_info": {
   "codemirror_mode": {
    "name": "ipython",
    "version": 3
   },
   "file_extension": ".py",
   "mimetype": "text/x-python",
   "name": "python",
   "nbconvert_exporter": "python",
   "pygments_lexer": "ipython3",
   "version": "3.8.8"
  }
 },
 "nbformat": 4,
 "nbformat_minor": 4
}
