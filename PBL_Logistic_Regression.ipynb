{
 "cells": [
  {
   "cell_type": "code",
   "execution_count": 1,
   "id": "f7d0bfec",
   "metadata": {},
   "outputs": [
    {
     "name": "stderr",
     "output_type": "stream",
     "text": [
      "RDKit WARNING: [00:58:09] Enabling RDKit 2019.09.3 jupyter extensions\n"
     ]
    }
   ],
   "source": [
    "import numpy as np\n",
    "import pandas as pd\n",
    "import os\n",
    "import seaborn as sns\n",
    "import matplotlib as mpl\n",
    "import matplotlib.pyplot as plt\n",
    "\n",
    "from rdkit import Chem\n",
    "from rdkit import DataStructs\n",
    "from rdkit import rdBase\n",
    "from rdkit import RDConfig\n",
    "from rdkit.Chem import ChemicalFeatures\n",
    "from rdkit.Chem import AllChem\n",
    "from rdkit.Chem import Draw\n",
    "from rdkit.Chem.Draw import IPythonConsole\n",
    "from rdkit.Chem.rdMolDescriptors import GetMorganFingerprint\n",
    "from rdkit.Chem.Draw import SimilarityMaps\n",
    "from rdkit.SimDivFilters.rdSimDivPickers import MaxMinPicker\n",
    "from rdkit.Chem.Pharm2D import Gobbi_Pharm2D,Generate\n",
    "from rdkit.Chem import rdMolDescriptors as rdescriptors\n",
    "from rdkit.Chem import Descriptors\n",
    "\n",
    "from sklearn import model_selection\n",
    "from sklearn import linear_model\n",
    "from sklearn.ensemble import RandomForestRegressor\n",
    "from sklearn.ensemble import RandomForestClassifier\n",
    "from sklearn import metrics\n",
    "from sklearn.metrics import *\n",
    "from sklearn.preprocessing import LabelEncoder,label_binarize\n",
    "from sklearn.linear_model import LogisticRegression\n",
    "from sklearn.preprocessing import StandardScaler\n",
    "from sklearn.neural_network import MLPRegressor\n",
    "from sklearn.svm import SVR"
   ]
  },
  {
   "cell_type": "code",
   "execution_count": 2,
   "id": "035fb202",
   "metadata": {},
   "outputs": [],
   "source": [
    "Test_Size = 0.2"
   ]
  },
  {
   "cell_type": "code",
   "execution_count": 24,
   "id": "6add702b",
   "metadata": {},
   "outputs": [],
   "source": [
    "df = pd.read_csv('/home/is/mostatika-a/Balanced-SARS-CoV-2_pAC50.csv', index_col=0)"
   ]
  },
  {
   "cell_type": "code",
   "execution_count": 25,
   "id": "81d80c3e",
   "metadata": {},
   "outputs": [
    {
     "data": {
      "text/html": [
       "<div>\n",
       "<style scoped>\n",
       "    .dataframe tbody tr th:only-of-type {\n",
       "        vertical-align: middle;\n",
       "    }\n",
       "\n",
       "    .dataframe tbody tr th {\n",
       "        vertical-align: top;\n",
       "    }\n",
       "\n",
       "    .dataframe thead th {\n",
       "        text-align: right;\n",
       "    }\n",
       "</style>\n",
       "<table border=\"1\" class=\"dataframe\">\n",
       "  <thead>\n",
       "    <tr style=\"text-align: right;\">\n",
       "      <th></th>\n",
       "      <th>pAC50</th>\n",
       "      <th>AC50(uM)</th>\n",
       "      <th>Active</th>\n",
       "      <th>SMILES</th>\n",
       "    </tr>\n",
       "    <tr>\n",
       "      <th>EFFICACY</th>\n",
       "      <th></th>\n",
       "      <th></th>\n",
       "      <th></th>\n",
       "      <th></th>\n",
       "    </tr>\n",
       "  </thead>\n",
       "  <tbody>\n",
       "    <tr>\n",
       "      <th>105.493143</th>\n",
       "      <td>8.00</td>\n",
       "      <td>0.100000</td>\n",
       "      <td>1</td>\n",
       "      <td>CC[C@H](NC(=O)[C@H](C[S+]([O-])(=O)CC1CC1)N[C@...</td>\n",
       "    </tr>\n",
       "    <tr>\n",
       "      <th>34.268972</th>\n",
       "      <td>7.95</td>\n",
       "      <td>0.112202</td>\n",
       "      <td>1</td>\n",
       "      <td>[H][C@@]1(C[C@H](C)[C@@]([H])(O1)[C@]2(CC)CC[C...</td>\n",
       "    </tr>\n",
       "    <tr>\n",
       "      <th>40.708548</th>\n",
       "      <td>7.90</td>\n",
       "      <td>0.125893</td>\n",
       "      <td>1</td>\n",
       "      <td>[H][C@@]1(C[C@H](C)[C@@]([H])(O1)[C@]2(CC)CC[C...</td>\n",
       "    </tr>\n",
       "    <tr>\n",
       "      <th>44.052835</th>\n",
       "      <td>7.90</td>\n",
       "      <td>0.125893</td>\n",
       "      <td>1</td>\n",
       "      <td>CC(C)CC(=O)O[C@H]\\1C[C@@]2(COC(C)=O)[C@H](O[C@...</td>\n",
       "    </tr>\n",
       "    <tr>\n",
       "      <th>34.926175</th>\n",
       "      <td>7.85</td>\n",
       "      <td>0.141254</td>\n",
       "      <td>1</td>\n",
       "      <td>Clc2cc(ccc2NC(=O)c1cc(Cl)ccc1O)[N+]([O-])=O</td>\n",
       "    </tr>\n",
       "    <tr>\n",
       "      <th>...</th>\n",
       "      <td>...</td>\n",
       "      <td>...</td>\n",
       "      <td>...</td>\n",
       "      <td>...</td>\n",
       "    </tr>\n",
       "    <tr>\n",
       "      <th>0.000000</th>\n",
       "      <td>NaN</td>\n",
       "      <td>NaN</td>\n",
       "      <td>0</td>\n",
       "      <td>C[C@H](CO)C/1=C(O)/C(=O)[C@@]2(C)C/C=C(C)/CC/C...</td>\n",
       "    </tr>\n",
       "    <tr>\n",
       "      <th>0.000000</th>\n",
       "      <td>NaN</td>\n",
       "      <td>NaN</td>\n",
       "      <td>0</td>\n",
       "      <td>C[C@H](CO)NC1=C(C=C2CCC(=O)NC2=C1)[S+]([O-])(=...</td>\n",
       "    </tr>\n",
       "    <tr>\n",
       "      <th>0.000000</th>\n",
       "      <td>NaN</td>\n",
       "      <td>NaN</td>\n",
       "      <td>0</td>\n",
       "      <td>C[C@H](CS)C(=O)N1CCC[C@H]1C(O)=O</td>\n",
       "    </tr>\n",
       "    <tr>\n",
       "      <th>0.000000</th>\n",
       "      <td>NaN</td>\n",
       "      <td>NaN</td>\n",
       "      <td>0</td>\n",
       "      <td>C[C@H](N(C(=N)NC#N)C1=C2C=CC=NC2=CC=C1)C3=CC=C...</td>\n",
       "    </tr>\n",
       "    <tr>\n",
       "      <th>0.000000</th>\n",
       "      <td>NaN</td>\n",
       "      <td>NaN</td>\n",
       "      <td>0</td>\n",
       "      <td>C[C@H](N)C(=O)N[C@@H](CC1=CC=C(O)C=C1)C(=O)N2C...</td>\n",
       "    </tr>\n",
       "  </tbody>\n",
       "</table>\n",
       "<p>1515 rows × 4 columns</p>\n",
       "</div>"
      ],
      "text/plain": [
       "            pAC50  AC50(uM)  Active  \\\n",
       "EFFICACY                              \n",
       "105.493143   8.00  0.100000       1   \n",
       "34.268972    7.95  0.112202       1   \n",
       "40.708548    7.90  0.125893       1   \n",
       "44.052835    7.90  0.125893       1   \n",
       "34.926175    7.85  0.141254       1   \n",
       "...           ...       ...     ...   \n",
       "0.000000      NaN       NaN       0   \n",
       "0.000000      NaN       NaN       0   \n",
       "0.000000      NaN       NaN       0   \n",
       "0.000000      NaN       NaN       0   \n",
       "0.000000      NaN       NaN       0   \n",
       "\n",
       "                                                       SMILES  \n",
       "EFFICACY                                                       \n",
       "105.493143  CC[C@H](NC(=O)[C@H](C[S+]([O-])(=O)CC1CC1)N[C@...  \n",
       "34.268972   [H][C@@]1(C[C@H](C)[C@@]([H])(O1)[C@]2(CC)CC[C...  \n",
       "40.708548   [H][C@@]1(C[C@H](C)[C@@]([H])(O1)[C@]2(CC)CC[C...  \n",
       "44.052835   CC(C)CC(=O)O[C@H]\\1C[C@@]2(COC(C)=O)[C@H](O[C@...  \n",
       "34.926175         Clc2cc(ccc2NC(=O)c1cc(Cl)ccc1O)[N+]([O-])=O  \n",
       "...                                                       ...  \n",
       "0.000000    C[C@H](CO)C/1=C(O)/C(=O)[C@@]2(C)C/C=C(C)/CC/C...  \n",
       "0.000000    C[C@H](CO)NC1=C(C=C2CCC(=O)NC2=C1)[S+]([O-])(=...  \n",
       "0.000000                     C[C@H](CS)C(=O)N1CCC[C@H]1C(O)=O  \n",
       "0.000000    C[C@H](N(C(=N)NC#N)C1=C2C=CC=NC2=CC=C1)C3=CC=C...  \n",
       "0.000000    C[C@H](N)C(=O)N[C@@H](CC1=CC=C(O)C=C1)C(=O)N2C...  \n",
       "\n",
       "[1515 rows x 4 columns]"
      ]
     },
     "execution_count": 25,
     "metadata": {},
     "output_type": "execute_result"
    }
   ],
   "source": [
    "df"
   ]
  },
  {
   "cell_type": "code",
   "execution_count": 26,
   "id": "eb6abcc1",
   "metadata": {},
   "outputs": [],
   "source": [
    "df['molecules'] = df.SMILES.apply(Chem.MolFromSmiles)"
   ]
  },
  {
   "cell_type": "code",
   "execution_count": 27,
   "id": "069faeb7",
   "metadata": {},
   "outputs": [
    {
     "data": {
      "text/html": [
       "<div>\n",
       "<style scoped>\n",
       "    .dataframe tbody tr th:only-of-type {\n",
       "        vertical-align: middle;\n",
       "    }\n",
       "\n",
       "    .dataframe tbody tr th {\n",
       "        vertical-align: top;\n",
       "    }\n",
       "\n",
       "    .dataframe thead th {\n",
       "        text-align: right;\n",
       "    }\n",
       "</style>\n",
       "<table border=\"1\" class=\"dataframe\">\n",
       "  <thead>\n",
       "    <tr style=\"text-align: right;\">\n",
       "      <th></th>\n",
       "      <th>pAC50</th>\n",
       "      <th>AC50(uM)</th>\n",
       "      <th>Active</th>\n",
       "      <th>SMILES</th>\n",
       "      <th>molecules</th>\n",
       "    </tr>\n",
       "    <tr>\n",
       "      <th>EFFICACY</th>\n",
       "      <th></th>\n",
       "      <th></th>\n",
       "      <th></th>\n",
       "      <th></th>\n",
       "      <th></th>\n",
       "    </tr>\n",
       "  </thead>\n",
       "  <tbody>\n",
       "    <tr>\n",
       "      <th>105.493143</th>\n",
       "      <td>8.00</td>\n",
       "      <td>0.100000</td>\n",
       "      <td>1</td>\n",
       "      <td>CC[C@H](NC(=O)[C@H](C[S+]([O-])(=O)CC1CC1)N[C@...</td>\n",
       "      <td>&lt;rdkit.Chem.rdchem.Mol object at 0x7efc51a31d00&gt;</td>\n",
       "    </tr>\n",
       "    <tr>\n",
       "      <th>34.268972</th>\n",
       "      <td>7.95</td>\n",
       "      <td>0.112202</td>\n",
       "      <td>1</td>\n",
       "      <td>[H][C@@]1(C[C@H](C)[C@@]([H])(O1)[C@]2(CC)CC[C...</td>\n",
       "      <td>&lt;rdkit.Chem.rdchem.Mol object at 0x7efc51a31a00&gt;</td>\n",
       "    </tr>\n",
       "    <tr>\n",
       "      <th>40.708548</th>\n",
       "      <td>7.90</td>\n",
       "      <td>0.125893</td>\n",
       "      <td>1</td>\n",
       "      <td>[H][C@@]1(C[C@H](C)[C@@]([H])(O1)[C@]2(CC)CC[C...</td>\n",
       "      <td>&lt;rdkit.Chem.rdchem.Mol object at 0x7efc51a31be0&gt;</td>\n",
       "    </tr>\n",
       "    <tr>\n",
       "      <th>44.052835</th>\n",
       "      <td>7.90</td>\n",
       "      <td>0.125893</td>\n",
       "      <td>1</td>\n",
       "      <td>CC(C)CC(=O)O[C@H]\\1C[C@@]2(COC(C)=O)[C@H](O[C@...</td>\n",
       "      <td>&lt;rdkit.Chem.rdchem.Mol object at 0x7efc51a31e20&gt;</td>\n",
       "    </tr>\n",
       "    <tr>\n",
       "      <th>34.926175</th>\n",
       "      <td>7.85</td>\n",
       "      <td>0.141254</td>\n",
       "      <td>1</td>\n",
       "      <td>Clc2cc(ccc2NC(=O)c1cc(Cl)ccc1O)[N+]([O-])=O</td>\n",
       "      <td>&lt;rdkit.Chem.rdchem.Mol object at 0x7efc51a31f40&gt;</td>\n",
       "    </tr>\n",
       "    <tr>\n",
       "      <th>...</th>\n",
       "      <td>...</td>\n",
       "      <td>...</td>\n",
       "      <td>...</td>\n",
       "      <td>...</td>\n",
       "      <td>...</td>\n",
       "    </tr>\n",
       "    <tr>\n",
       "      <th>0.000000</th>\n",
       "      <td>NaN</td>\n",
       "      <td>NaN</td>\n",
       "      <td>0</td>\n",
       "      <td>C[C@H](CO)C/1=C(O)/C(=O)[C@@]2(C)C/C=C(C)/CC/C...</td>\n",
       "      <td>&lt;rdkit.Chem.rdchem.Mol object at 0x7efc519e56a0&gt;</td>\n",
       "    </tr>\n",
       "    <tr>\n",
       "      <th>0.000000</th>\n",
       "      <td>NaN</td>\n",
       "      <td>NaN</td>\n",
       "      <td>0</td>\n",
       "      <td>C[C@H](CO)NC1=C(C=C2CCC(=O)NC2=C1)[S+]([O-])(=...</td>\n",
       "      <td>&lt;rdkit.Chem.rdchem.Mol object at 0x7efc519e5700&gt;</td>\n",
       "    </tr>\n",
       "    <tr>\n",
       "      <th>0.000000</th>\n",
       "      <td>NaN</td>\n",
       "      <td>NaN</td>\n",
       "      <td>0</td>\n",
       "      <td>C[C@H](CS)C(=O)N1CCC[C@H]1C(O)=O</td>\n",
       "      <td>&lt;rdkit.Chem.rdchem.Mol object at 0x7efc519e5760&gt;</td>\n",
       "    </tr>\n",
       "    <tr>\n",
       "      <th>0.000000</th>\n",
       "      <td>NaN</td>\n",
       "      <td>NaN</td>\n",
       "      <td>0</td>\n",
       "      <td>C[C@H](N(C(=N)NC#N)C1=C2C=CC=NC2=CC=C1)C3=CC=C...</td>\n",
       "      <td>&lt;rdkit.Chem.rdchem.Mol object at 0x7efc519e57c0&gt;</td>\n",
       "    </tr>\n",
       "    <tr>\n",
       "      <th>0.000000</th>\n",
       "      <td>NaN</td>\n",
       "      <td>NaN</td>\n",
       "      <td>0</td>\n",
       "      <td>C[C@H](N)C(=O)N[C@@H](CC1=CC=C(O)C=C1)C(=O)N2C...</td>\n",
       "      <td>&lt;rdkit.Chem.rdchem.Mol object at 0x7efc519e5820&gt;</td>\n",
       "    </tr>\n",
       "  </tbody>\n",
       "</table>\n",
       "<p>1515 rows × 5 columns</p>\n",
       "</div>"
      ],
      "text/plain": [
       "            pAC50  AC50(uM)  Active  \\\n",
       "EFFICACY                              \n",
       "105.493143   8.00  0.100000       1   \n",
       "34.268972    7.95  0.112202       1   \n",
       "40.708548    7.90  0.125893       1   \n",
       "44.052835    7.90  0.125893       1   \n",
       "34.926175    7.85  0.141254       1   \n",
       "...           ...       ...     ...   \n",
       "0.000000      NaN       NaN       0   \n",
       "0.000000      NaN       NaN       0   \n",
       "0.000000      NaN       NaN       0   \n",
       "0.000000      NaN       NaN       0   \n",
       "0.000000      NaN       NaN       0   \n",
       "\n",
       "                                                       SMILES  \\\n",
       "EFFICACY                                                        \n",
       "105.493143  CC[C@H](NC(=O)[C@H](C[S+]([O-])(=O)CC1CC1)N[C@...   \n",
       "34.268972   [H][C@@]1(C[C@H](C)[C@@]([H])(O1)[C@]2(CC)CC[C...   \n",
       "40.708548   [H][C@@]1(C[C@H](C)[C@@]([H])(O1)[C@]2(CC)CC[C...   \n",
       "44.052835   CC(C)CC(=O)O[C@H]\\1C[C@@]2(COC(C)=O)[C@H](O[C@...   \n",
       "34.926175         Clc2cc(ccc2NC(=O)c1cc(Cl)ccc1O)[N+]([O-])=O   \n",
       "...                                                       ...   \n",
       "0.000000    C[C@H](CO)C/1=C(O)/C(=O)[C@@]2(C)C/C=C(C)/CC/C...   \n",
       "0.000000    C[C@H](CO)NC1=C(C=C2CCC(=O)NC2=C1)[S+]([O-])(=...   \n",
       "0.000000                     C[C@H](CS)C(=O)N1CCC[C@H]1C(O)=O   \n",
       "0.000000    C[C@H](N(C(=N)NC#N)C1=C2C=CC=NC2=CC=C1)C3=CC=C...   \n",
       "0.000000    C[C@H](N)C(=O)N[C@@H](CC1=CC=C(O)C=C1)C(=O)N2C...   \n",
       "\n",
       "                                                   molecules  \n",
       "EFFICACY                                                      \n",
       "105.493143  <rdkit.Chem.rdchem.Mol object at 0x7efc51a31d00>  \n",
       "34.268972   <rdkit.Chem.rdchem.Mol object at 0x7efc51a31a00>  \n",
       "40.708548   <rdkit.Chem.rdchem.Mol object at 0x7efc51a31be0>  \n",
       "44.052835   <rdkit.Chem.rdchem.Mol object at 0x7efc51a31e20>  \n",
       "34.926175   <rdkit.Chem.rdchem.Mol object at 0x7efc51a31f40>  \n",
       "...                                                      ...  \n",
       "0.000000    <rdkit.Chem.rdchem.Mol object at 0x7efc519e56a0>  \n",
       "0.000000    <rdkit.Chem.rdchem.Mol object at 0x7efc519e5700>  \n",
       "0.000000    <rdkit.Chem.rdchem.Mol object at 0x7efc519e5760>  \n",
       "0.000000    <rdkit.Chem.rdchem.Mol object at 0x7efc519e57c0>  \n",
       "0.000000    <rdkit.Chem.rdchem.Mol object at 0x7efc519e5820>  \n",
       "\n",
       "[1515 rows x 5 columns]"
      ]
     },
     "execution_count": 27,
     "metadata": {},
     "output_type": "execute_result"
    }
   ],
   "source": [
    "df"
   ]
  },
  {
   "cell_type": "code",
   "execution_count": 28,
   "id": "69e487a0",
   "metadata": {},
   "outputs": [],
   "source": [
    "df['ECFP4']=df.molecules.apply(lambda m: AllChem.GetMorganFingerprintAsBitVect(m, radius=2, nBits=1024))\n",
    "df['ECFP6']=df.molecules.apply(lambda m: AllChem.GetMorganFingerprintAsBitVect(m, radius=3, nBits=1024))\n",
    "df['ECFP8']=df.molecules.apply(lambda m: AllChem.GetMorganFingerprintAsBitVect(m, radius=4, nBits=1024))\n",
    "df['ECFP10']=df.molecules.apply(lambda m: AllChem.GetMorganFingerprintAsBitVect(m, radius=5, nBits=1024))\n",
    "df['ECFP12']=df.molecules.apply(lambda m: AllChem.GetMorganFingerprintAsBitVect(m, radius=6, nBits=1024))\n",
    "df['RDKFP']=df.molecules.apply(lambda m: AllChem.RDKFingerprint(m, fpSize=1024))"
   ]
  },
  {
   "cell_type": "code",
   "execution_count": 7,
   "id": "90014037",
   "metadata": {},
   "outputs": [
    {
     "data": {
      "text/html": [
       "<div>\n",
       "<style scoped>\n",
       "    .dataframe tbody tr th:only-of-type {\n",
       "        vertical-align: middle;\n",
       "    }\n",
       "\n",
       "    .dataframe tbody tr th {\n",
       "        vertical-align: top;\n",
       "    }\n",
       "\n",
       "    .dataframe thead th {\n",
       "        text-align: right;\n",
       "    }\n",
       "</style>\n",
       "<table border=\"1\" class=\"dataframe\">\n",
       "  <thead>\n",
       "    <tr style=\"text-align: right;\">\n",
       "      <th></th>\n",
       "      <th>pAC50</th>\n",
       "      <th>AC50(uM)</th>\n",
       "      <th>Active</th>\n",
       "      <th>SMILES</th>\n",
       "      <th>molecules</th>\n",
       "      <th>ECFP4</th>\n",
       "      <th>ECFP6</th>\n",
       "      <th>ECFP8</th>\n",
       "      <th>ECFP10</th>\n",
       "      <th>ECFP12</th>\n",
       "      <th>RDKFP</th>\n",
       "    </tr>\n",
       "    <tr>\n",
       "      <th>EFFICACY</th>\n",
       "      <th></th>\n",
       "      <th></th>\n",
       "      <th></th>\n",
       "      <th></th>\n",
       "      <th></th>\n",
       "      <th></th>\n",
       "      <th></th>\n",
       "      <th></th>\n",
       "      <th></th>\n",
       "      <th></th>\n",
       "      <th></th>\n",
       "    </tr>\n",
       "  </thead>\n",
       "  <tbody>\n",
       "    <tr>\n",
       "      <th>105.493143</th>\n",
       "      <td>8.00</td>\n",
       "      <td>0.100000</td>\n",
       "      <td>1</td>\n",
       "      <td>CC[C@H](NC(=O)[C@H](C[S+]([O-])(=O)CC1CC1)N[C@...</td>\n",
       "      <td>&lt;rdkit.Chem.rdchem.Mol object at 0x7efc564d3dc0&gt;</td>\n",
       "      <td>[0, 1, 0, 0, 0, 0, 0, 0, 0, 1, 0, 0, 0, 0, 1, ...</td>\n",
       "      <td>[0, 1, 0, 0, 0, 0, 0, 0, 0, 1, 0, 0, 0, 0, 1, ...</td>\n",
       "      <td>[0, 1, 0, 0, 0, 0, 0, 0, 0, 1, 0, 0, 0, 0, 1, ...</td>\n",
       "      <td>[0, 1, 0, 0, 1, 0, 0, 0, 0, 1, 0, 0, 0, 0, 1, ...</td>\n",
       "      <td>[0, 1, 0, 0, 1, 0, 0, 0, 0, 1, 0, 0, 0, 0, 1, ...</td>\n",
       "      <td>[0, 1, 1, 1, 1, 0, 0, 1, 0, 0, 1, 1, 0, 0, 1, ...</td>\n",
       "    </tr>\n",
       "    <tr>\n",
       "      <th>34.268972</th>\n",
       "      <td>7.95</td>\n",
       "      <td>0.112202</td>\n",
       "      <td>1</td>\n",
       "      <td>[H][C@@]1(C[C@H](C)[C@@]([H])(O1)[C@]2(CC)CC[C...</td>\n",
       "      <td>&lt;rdkit.Chem.rdchem.Mol object at 0x7efc564d3e20&gt;</td>\n",
       "      <td>[0, 1, 0, 0, 0, 0, 0, 0, 0, 0, 0, 0, 0, 0, 0, ...</td>\n",
       "      <td>[0, 1, 0, 0, 0, 0, 0, 0, 0, 0, 0, 0, 0, 0, 0, ...</td>\n",
       "      <td>[0, 1, 0, 0, 0, 0, 0, 0, 0, 0, 0, 0, 1, 1, 0, ...</td>\n",
       "      <td>[0, 1, 0, 0, 0, 0, 0, 0, 0, 0, 0, 1, 1, 1, 0, ...</td>\n",
       "      <td>[0, 1, 0, 0, 0, 0, 0, 0, 0, 0, 0, 1, 1, 1, 0, ...</td>\n",
       "      <td>[1, 0, 0, 0, 0, 1, 0, 0, 0, 0, 1, 1, 1, 1, 1, ...</td>\n",
       "    </tr>\n",
       "    <tr>\n",
       "      <th>40.708548</th>\n",
       "      <td>7.90</td>\n",
       "      <td>0.125893</td>\n",
       "      <td>1</td>\n",
       "      <td>[H][C@@]1(C[C@H](C)[C@@]([H])(O1)[C@]2(CC)CC[C...</td>\n",
       "      <td>&lt;rdkit.Chem.rdchem.Mol object at 0x7efc564d3e80&gt;</td>\n",
       "      <td>[0, 1, 0, 0, 0, 0, 0, 0, 0, 0, 0, 0, 0, 0, 0, ...</td>\n",
       "      <td>[0, 1, 0, 0, 0, 0, 0, 0, 0, 0, 0, 0, 0, 0, 0, ...</td>\n",
       "      <td>[0, 1, 0, 0, 0, 0, 0, 0, 0, 0, 0, 0, 1, 1, 0, ...</td>\n",
       "      <td>[0, 1, 0, 0, 0, 0, 0, 0, 0, 0, 0, 1, 1, 1, 0, ...</td>\n",
       "      <td>[0, 1, 0, 0, 0, 0, 0, 0, 0, 0, 0, 1, 1, 1, 0, ...</td>\n",
       "      <td>[1, 0, 0, 0, 0, 1, 0, 0, 0, 0, 1, 1, 1, 1, 1, ...</td>\n",
       "    </tr>\n",
       "    <tr>\n",
       "      <th>44.052835</th>\n",
       "      <td>7.90</td>\n",
       "      <td>0.125893</td>\n",
       "      <td>1</td>\n",
       "      <td>CC(C)CC(=O)O[C@H]\\1C[C@@]2(COC(C)=O)[C@H](O[C@...</td>\n",
       "      <td>&lt;rdkit.Chem.rdchem.Mol object at 0x7efc564d3ee0&gt;</td>\n",
       "      <td>[0, 1, 0, 0, 0, 0, 0, 0, 0, 0, 0, 1, 0, 0, 0, ...</td>\n",
       "      <td>[0, 1, 0, 0, 0, 0, 0, 0, 0, 0, 0, 1, 0, 0, 0, ...</td>\n",
       "      <td>[0, 1, 0, 0, 0, 0, 0, 0, 0, 0, 0, 1, 0, 0, 0, ...</td>\n",
       "      <td>[0, 1, 0, 0, 0, 0, 0, 0, 0, 0, 0, 1, 0, 0, 0, ...</td>\n",
       "      <td>[0, 1, 0, 0, 0, 0, 0, 0, 0, 0, 0, 1, 0, 0, 0, ...</td>\n",
       "      <td>[1, 0, 1, 1, 1, 1, 1, 0, 1, 0, 1, 1, 1, 1, 1, ...</td>\n",
       "    </tr>\n",
       "    <tr>\n",
       "      <th>34.926175</th>\n",
       "      <td>7.85</td>\n",
       "      <td>0.141254</td>\n",
       "      <td>1</td>\n",
       "      <td>Clc2cc(ccc2NC(=O)c1cc(Cl)ccc1O)[N+]([O-])=O</td>\n",
       "      <td>&lt;rdkit.Chem.rdchem.Mol object at 0x7efc564d3f40&gt;</td>\n",
       "      <td>[0, 0, 0, 0, 0, 0, 0, 0, 0, 0, 0, 0, 0, 0, 0, ...</td>\n",
       "      <td>[0, 0, 0, 0, 0, 0, 0, 0, 1, 0, 0, 0, 0, 0, 0, ...</td>\n",
       "      <td>[0, 0, 0, 0, 0, 0, 0, 0, 1, 0, 0, 0, 0, 0, 0, ...</td>\n",
       "      <td>[0, 0, 0, 0, 0, 0, 0, 0, 1, 0, 0, 0, 0, 0, 0, ...</td>\n",
       "      <td>[0, 0, 0, 0, 0, 0, 0, 0, 1, 0, 0, 0, 0, 0, 0, ...</td>\n",
       "      <td>[0, 1, 1, 0, 0, 0, 0, 0, 1, 0, 1, 1, 1, 1, 0, ...</td>\n",
       "    </tr>\n",
       "    <tr>\n",
       "      <th>...</th>\n",
       "      <td>...</td>\n",
       "      <td>...</td>\n",
       "      <td>...</td>\n",
       "      <td>...</td>\n",
       "      <td>...</td>\n",
       "      <td>...</td>\n",
       "      <td>...</td>\n",
       "      <td>...</td>\n",
       "      <td>...</td>\n",
       "      <td>...</td>\n",
       "      <td>...</td>\n",
       "    </tr>\n",
       "    <tr>\n",
       "      <th>0.000000</th>\n",
       "      <td>NaN</td>\n",
       "      <td>NaN</td>\n",
       "      <td>0</td>\n",
       "      <td>C[C@H](CO)C/1=C(O)/C(=O)[C@@]2(C)C/C=C(C)/CC/C...</td>\n",
       "      <td>&lt;rdkit.Chem.rdchem.Mol object at 0x7efc564a5c40&gt;</td>\n",
       "      <td>[0, 1, 0, 0, 0, 0, 0, 0, 0, 0, 0, 0, 0, 0, 0, ...</td>\n",
       "      <td>[0, 1, 0, 0, 0, 0, 0, 1, 0, 0, 0, 0, 0, 0, 0, ...</td>\n",
       "      <td>[0, 1, 0, 0, 0, 0, 0, 1, 0, 0, 0, 0, 0, 0, 0, ...</td>\n",
       "      <td>[0, 1, 0, 0, 1, 0, 0, 1, 0, 0, 0, 0, 0, 0, 0, ...</td>\n",
       "      <td>[0, 1, 0, 0, 1, 0, 0, 1, 0, 0, 0, 0, 0, 0, 0, ...</td>\n",
       "      <td>[0, 0, 0, 0, 1, 0, 1, 1, 1, 0, 0, 1, 0, 0, 1, ...</td>\n",
       "    </tr>\n",
       "    <tr>\n",
       "      <th>0.000000</th>\n",
       "      <td>NaN</td>\n",
       "      <td>NaN</td>\n",
       "      <td>0</td>\n",
       "      <td>C[C@H](CO)NC1=C(C=C2CCC(=O)NC2=C1)[S+]([O-])(=...</td>\n",
       "      <td>&lt;rdkit.Chem.rdchem.Mol object at 0x7efc564a5ca0&gt;</td>\n",
       "      <td>[0, 1, 0, 0, 0, 0, 0, 0, 0, 0, 0, 0, 0, 0, 0, ...</td>\n",
       "      <td>[0, 1, 0, 0, 0, 0, 0, 0, 0, 0, 0, 0, 0, 0, 0, ...</td>\n",
       "      <td>[0, 1, 0, 0, 0, 0, 0, 0, 0, 0, 0, 0, 0, 0, 0, ...</td>\n",
       "      <td>[0, 1, 0, 0, 0, 0, 0, 0, 0, 0, 0, 0, 0, 0, 0, ...</td>\n",
       "      <td>[0, 1, 0, 0, 0, 0, 0, 0, 0, 0, 0, 0, 0, 0, 0, ...</td>\n",
       "      <td>[1, 1, 1, 1, 1, 1, 1, 0, 1, 1, 1, 0, 1, 1, 1, ...</td>\n",
       "    </tr>\n",
       "    <tr>\n",
       "      <th>0.000000</th>\n",
       "      <td>NaN</td>\n",
       "      <td>NaN</td>\n",
       "      <td>0</td>\n",
       "      <td>C[C@H](CS)C(=O)N1CCC[C@H]1C(O)=O</td>\n",
       "      <td>&lt;rdkit.Chem.rdchem.Mol object at 0x7efc564a5d00&gt;</td>\n",
       "      <td>[0, 1, 0, 0, 1, 0, 0, 0, 0, 0, 0, 0, 0, 0, 0, ...</td>\n",
       "      <td>[0, 1, 0, 0, 1, 0, 0, 0, 0, 0, 0, 0, 0, 0, 0, ...</td>\n",
       "      <td>[0, 1, 0, 0, 1, 0, 0, 0, 0, 0, 0, 0, 0, 0, 0, ...</td>\n",
       "      <td>[0, 1, 0, 0, 1, 0, 0, 0, 0, 0, 0, 0, 0, 0, 0, ...</td>\n",
       "      <td>[0, 1, 0, 0, 1, 0, 0, 0, 0, 0, 0, 0, 0, 0, 0, ...</td>\n",
       "      <td>[0, 0, 1, 1, 0, 0, 0, 1, 0, 0, 0, 0, 0, 0, 1, ...</td>\n",
       "    </tr>\n",
       "    <tr>\n",
       "      <th>0.000000</th>\n",
       "      <td>NaN</td>\n",
       "      <td>NaN</td>\n",
       "      <td>0</td>\n",
       "      <td>C[C@H](N(C(=N)NC#N)C1=C2C=CC=NC2=CC=C1)C3=CC=C...</td>\n",
       "      <td>&lt;rdkit.Chem.rdchem.Mol object at 0x7efc564a5d60&gt;</td>\n",
       "      <td>[0, 1, 0, 0, 0, 0, 0, 0, 0, 0, 0, 0, 0, 0, 0, ...</td>\n",
       "      <td>[0, 1, 0, 0, 0, 0, 0, 0, 0, 0, 0, 0, 0, 0, 0, ...</td>\n",
       "      <td>[0, 1, 0, 0, 0, 0, 0, 0, 0, 0, 0, 0, 0, 1, 0, ...</td>\n",
       "      <td>[0, 1, 0, 0, 0, 0, 0, 0, 0, 0, 0, 0, 0, 1, 0, ...</td>\n",
       "      <td>[0, 1, 0, 0, 0, 0, 0, 0, 0, 0, 0, 0, 0, 1, 0, ...</td>\n",
       "      <td>[1, 0, 1, 1, 1, 1, 1, 1, 0, 0, 1, 1, 0, 1, 1, ...</td>\n",
       "    </tr>\n",
       "    <tr>\n",
       "      <th>0.000000</th>\n",
       "      <td>NaN</td>\n",
       "      <td>NaN</td>\n",
       "      <td>0</td>\n",
       "      <td>C[C@H](N)C(=O)N[C@@H](CC1=CC=C(O)C=C1)C(=O)N2C...</td>\n",
       "      <td>&lt;rdkit.Chem.rdchem.Mol object at 0x7efc564a5dc0&gt;</td>\n",
       "      <td>[0, 1, 0, 0, 1, 0, 0, 0, 0, 0, 0, 0, 0, 0, 0, ...</td>\n",
       "      <td>[0, 1, 0, 0, 1, 0, 0, 0, 0, 0, 0, 0, 0, 0, 1, ...</td>\n",
       "      <td>[0, 1, 0, 0, 1, 0, 0, 0, 0, 0, 0, 0, 0, 0, 1, ...</td>\n",
       "      <td>[0, 1, 0, 0, 1, 0, 0, 1, 0, 0, 0, 0, 0, 0, 1, ...</td>\n",
       "      <td>[0, 1, 0, 0, 1, 0, 0, 1, 0, 0, 0, 0, 0, 0, 1, ...</td>\n",
       "      <td>[0, 1, 1, 1, 1, 1, 1, 1, 1, 0, 0, 0, 1, 0, 1, ...</td>\n",
       "    </tr>\n",
       "  </tbody>\n",
       "</table>\n",
       "<p>1515 rows × 11 columns</p>\n",
       "</div>"
      ],
      "text/plain": [
       "            pAC50  AC50(uM)  Active  \\\n",
       "EFFICACY                              \n",
       "105.493143   8.00  0.100000       1   \n",
       "34.268972    7.95  0.112202       1   \n",
       "40.708548    7.90  0.125893       1   \n",
       "44.052835    7.90  0.125893       1   \n",
       "34.926175    7.85  0.141254       1   \n",
       "...           ...       ...     ...   \n",
       "0.000000      NaN       NaN       0   \n",
       "0.000000      NaN       NaN       0   \n",
       "0.000000      NaN       NaN       0   \n",
       "0.000000      NaN       NaN       0   \n",
       "0.000000      NaN       NaN       0   \n",
       "\n",
       "                                                       SMILES  \\\n",
       "EFFICACY                                                        \n",
       "105.493143  CC[C@H](NC(=O)[C@H](C[S+]([O-])(=O)CC1CC1)N[C@...   \n",
       "34.268972   [H][C@@]1(C[C@H](C)[C@@]([H])(O1)[C@]2(CC)CC[C...   \n",
       "40.708548   [H][C@@]1(C[C@H](C)[C@@]([H])(O1)[C@]2(CC)CC[C...   \n",
       "44.052835   CC(C)CC(=O)O[C@H]\\1C[C@@]2(COC(C)=O)[C@H](O[C@...   \n",
       "34.926175         Clc2cc(ccc2NC(=O)c1cc(Cl)ccc1O)[N+]([O-])=O   \n",
       "...                                                       ...   \n",
       "0.000000    C[C@H](CO)C/1=C(O)/C(=O)[C@@]2(C)C/C=C(C)/CC/C...   \n",
       "0.000000    C[C@H](CO)NC1=C(C=C2CCC(=O)NC2=C1)[S+]([O-])(=...   \n",
       "0.000000                     C[C@H](CS)C(=O)N1CCC[C@H]1C(O)=O   \n",
       "0.000000    C[C@H](N(C(=N)NC#N)C1=C2C=CC=NC2=CC=C1)C3=CC=C...   \n",
       "0.000000    C[C@H](N)C(=O)N[C@@H](CC1=CC=C(O)C=C1)C(=O)N2C...   \n",
       "\n",
       "                                                   molecules  \\\n",
       "EFFICACY                                                       \n",
       "105.493143  <rdkit.Chem.rdchem.Mol object at 0x7efc564d3dc0>   \n",
       "34.268972   <rdkit.Chem.rdchem.Mol object at 0x7efc564d3e20>   \n",
       "40.708548   <rdkit.Chem.rdchem.Mol object at 0x7efc564d3e80>   \n",
       "44.052835   <rdkit.Chem.rdchem.Mol object at 0x7efc564d3ee0>   \n",
       "34.926175   <rdkit.Chem.rdchem.Mol object at 0x7efc564d3f40>   \n",
       "...                                                      ...   \n",
       "0.000000    <rdkit.Chem.rdchem.Mol object at 0x7efc564a5c40>   \n",
       "0.000000    <rdkit.Chem.rdchem.Mol object at 0x7efc564a5ca0>   \n",
       "0.000000    <rdkit.Chem.rdchem.Mol object at 0x7efc564a5d00>   \n",
       "0.000000    <rdkit.Chem.rdchem.Mol object at 0x7efc564a5d60>   \n",
       "0.000000    <rdkit.Chem.rdchem.Mol object at 0x7efc564a5dc0>   \n",
       "\n",
       "                                                        ECFP4  \\\n",
       "EFFICACY                                                        \n",
       "105.493143  [0, 1, 0, 0, 0, 0, 0, 0, 0, 1, 0, 0, 0, 0, 1, ...   \n",
       "34.268972   [0, 1, 0, 0, 0, 0, 0, 0, 0, 0, 0, 0, 0, 0, 0, ...   \n",
       "40.708548   [0, 1, 0, 0, 0, 0, 0, 0, 0, 0, 0, 0, 0, 0, 0, ...   \n",
       "44.052835   [0, 1, 0, 0, 0, 0, 0, 0, 0, 0, 0, 1, 0, 0, 0, ...   \n",
       "34.926175   [0, 0, 0, 0, 0, 0, 0, 0, 0, 0, 0, 0, 0, 0, 0, ...   \n",
       "...                                                       ...   \n",
       "0.000000    [0, 1, 0, 0, 0, 0, 0, 0, 0, 0, 0, 0, 0, 0, 0, ...   \n",
       "0.000000    [0, 1, 0, 0, 0, 0, 0, 0, 0, 0, 0, 0, 0, 0, 0, ...   \n",
       "0.000000    [0, 1, 0, 0, 1, 0, 0, 0, 0, 0, 0, 0, 0, 0, 0, ...   \n",
       "0.000000    [0, 1, 0, 0, 0, 0, 0, 0, 0, 0, 0, 0, 0, 0, 0, ...   \n",
       "0.000000    [0, 1, 0, 0, 1, 0, 0, 0, 0, 0, 0, 0, 0, 0, 0, ...   \n",
       "\n",
       "                                                        ECFP6  \\\n",
       "EFFICACY                                                        \n",
       "105.493143  [0, 1, 0, 0, 0, 0, 0, 0, 0, 1, 0, 0, 0, 0, 1, ...   \n",
       "34.268972   [0, 1, 0, 0, 0, 0, 0, 0, 0, 0, 0, 0, 0, 0, 0, ...   \n",
       "40.708548   [0, 1, 0, 0, 0, 0, 0, 0, 0, 0, 0, 0, 0, 0, 0, ...   \n",
       "44.052835   [0, 1, 0, 0, 0, 0, 0, 0, 0, 0, 0, 1, 0, 0, 0, ...   \n",
       "34.926175   [0, 0, 0, 0, 0, 0, 0, 0, 1, 0, 0, 0, 0, 0, 0, ...   \n",
       "...                                                       ...   \n",
       "0.000000    [0, 1, 0, 0, 0, 0, 0, 1, 0, 0, 0, 0, 0, 0, 0, ...   \n",
       "0.000000    [0, 1, 0, 0, 0, 0, 0, 0, 0, 0, 0, 0, 0, 0, 0, ...   \n",
       "0.000000    [0, 1, 0, 0, 1, 0, 0, 0, 0, 0, 0, 0, 0, 0, 0, ...   \n",
       "0.000000    [0, 1, 0, 0, 0, 0, 0, 0, 0, 0, 0, 0, 0, 0, 0, ...   \n",
       "0.000000    [0, 1, 0, 0, 1, 0, 0, 0, 0, 0, 0, 0, 0, 0, 1, ...   \n",
       "\n",
       "                                                        ECFP8  \\\n",
       "EFFICACY                                                        \n",
       "105.493143  [0, 1, 0, 0, 0, 0, 0, 0, 0, 1, 0, 0, 0, 0, 1, ...   \n",
       "34.268972   [0, 1, 0, 0, 0, 0, 0, 0, 0, 0, 0, 0, 1, 1, 0, ...   \n",
       "40.708548   [0, 1, 0, 0, 0, 0, 0, 0, 0, 0, 0, 0, 1, 1, 0, ...   \n",
       "44.052835   [0, 1, 0, 0, 0, 0, 0, 0, 0, 0, 0, 1, 0, 0, 0, ...   \n",
       "34.926175   [0, 0, 0, 0, 0, 0, 0, 0, 1, 0, 0, 0, 0, 0, 0, ...   \n",
       "...                                                       ...   \n",
       "0.000000    [0, 1, 0, 0, 0, 0, 0, 1, 0, 0, 0, 0, 0, 0, 0, ...   \n",
       "0.000000    [0, 1, 0, 0, 0, 0, 0, 0, 0, 0, 0, 0, 0, 0, 0, ...   \n",
       "0.000000    [0, 1, 0, 0, 1, 0, 0, 0, 0, 0, 0, 0, 0, 0, 0, ...   \n",
       "0.000000    [0, 1, 0, 0, 0, 0, 0, 0, 0, 0, 0, 0, 0, 1, 0, ...   \n",
       "0.000000    [0, 1, 0, 0, 1, 0, 0, 0, 0, 0, 0, 0, 0, 0, 1, ...   \n",
       "\n",
       "                                                       ECFP10  \\\n",
       "EFFICACY                                                        \n",
       "105.493143  [0, 1, 0, 0, 1, 0, 0, 0, 0, 1, 0, 0, 0, 0, 1, ...   \n",
       "34.268972   [0, 1, 0, 0, 0, 0, 0, 0, 0, 0, 0, 1, 1, 1, 0, ...   \n",
       "40.708548   [0, 1, 0, 0, 0, 0, 0, 0, 0, 0, 0, 1, 1, 1, 0, ...   \n",
       "44.052835   [0, 1, 0, 0, 0, 0, 0, 0, 0, 0, 0, 1, 0, 0, 0, ...   \n",
       "34.926175   [0, 0, 0, 0, 0, 0, 0, 0, 1, 0, 0, 0, 0, 0, 0, ...   \n",
       "...                                                       ...   \n",
       "0.000000    [0, 1, 0, 0, 1, 0, 0, 1, 0, 0, 0, 0, 0, 0, 0, ...   \n",
       "0.000000    [0, 1, 0, 0, 0, 0, 0, 0, 0, 0, 0, 0, 0, 0, 0, ...   \n",
       "0.000000    [0, 1, 0, 0, 1, 0, 0, 0, 0, 0, 0, 0, 0, 0, 0, ...   \n",
       "0.000000    [0, 1, 0, 0, 0, 0, 0, 0, 0, 0, 0, 0, 0, 1, 0, ...   \n",
       "0.000000    [0, 1, 0, 0, 1, 0, 0, 1, 0, 0, 0, 0, 0, 0, 1, ...   \n",
       "\n",
       "                                                       ECFP12  \\\n",
       "EFFICACY                                                        \n",
       "105.493143  [0, 1, 0, 0, 1, 0, 0, 0, 0, 1, 0, 0, 0, 0, 1, ...   \n",
       "34.268972   [0, 1, 0, 0, 0, 0, 0, 0, 0, 0, 0, 1, 1, 1, 0, ...   \n",
       "40.708548   [0, 1, 0, 0, 0, 0, 0, 0, 0, 0, 0, 1, 1, 1, 0, ...   \n",
       "44.052835   [0, 1, 0, 0, 0, 0, 0, 0, 0, 0, 0, 1, 0, 0, 0, ...   \n",
       "34.926175   [0, 0, 0, 0, 0, 0, 0, 0, 1, 0, 0, 0, 0, 0, 0, ...   \n",
       "...                                                       ...   \n",
       "0.000000    [0, 1, 0, 0, 1, 0, 0, 1, 0, 0, 0, 0, 0, 0, 0, ...   \n",
       "0.000000    [0, 1, 0, 0, 0, 0, 0, 0, 0, 0, 0, 0, 0, 0, 0, ...   \n",
       "0.000000    [0, 1, 0, 0, 1, 0, 0, 0, 0, 0, 0, 0, 0, 0, 0, ...   \n",
       "0.000000    [0, 1, 0, 0, 0, 0, 0, 0, 0, 0, 0, 0, 0, 1, 0, ...   \n",
       "0.000000    [0, 1, 0, 0, 1, 0, 0, 1, 0, 0, 0, 0, 0, 0, 1, ...   \n",
       "\n",
       "                                                        RDKFP  \n",
       "EFFICACY                                                       \n",
       "105.493143  [0, 1, 1, 1, 1, 0, 0, 1, 0, 0, 1, 1, 0, 0, 1, ...  \n",
       "34.268972   [1, 0, 0, 0, 0, 1, 0, 0, 0, 0, 1, 1, 1, 1, 1, ...  \n",
       "40.708548   [1, 0, 0, 0, 0, 1, 0, 0, 0, 0, 1, 1, 1, 1, 1, ...  \n",
       "44.052835   [1, 0, 1, 1, 1, 1, 1, 0, 1, 0, 1, 1, 1, 1, 1, ...  \n",
       "34.926175   [0, 1, 1, 0, 0, 0, 0, 0, 1, 0, 1, 1, 1, 1, 0, ...  \n",
       "...                                                       ...  \n",
       "0.000000    [0, 0, 0, 0, 1, 0, 1, 1, 1, 0, 0, 1, 0, 0, 1, ...  \n",
       "0.000000    [1, 1, 1, 1, 1, 1, 1, 0, 1, 1, 1, 0, 1, 1, 1, ...  \n",
       "0.000000    [0, 0, 1, 1, 0, 0, 0, 1, 0, 0, 0, 0, 0, 0, 1, ...  \n",
       "0.000000    [1, 0, 1, 1, 1, 1, 1, 1, 0, 0, 1, 1, 0, 1, 1, ...  \n",
       "0.000000    [0, 1, 1, 1, 1, 1, 1, 1, 1, 0, 0, 0, 1, 0, 1, ...  \n",
       "\n",
       "[1515 rows x 11 columns]"
      ]
     },
     "execution_count": 7,
     "metadata": {},
     "output_type": "execute_result"
    }
   ],
   "source": [
    "df"
   ]
  },
  {
   "cell_type": "code",
   "execution_count": 29,
   "id": "02ca0ad3",
   "metadata": {},
   "outputs": [],
   "source": [
    "ECFP4 = np.array(list(df['ECFP4']))\n",
    "ECFP6 = np.array(list(df['ECFP6']))\n",
    "ECFP8 = np.array(list(df['ECFP8']))\n",
    "ECFP10 = np.array(list(df['ECFP10']))\n",
    "ECFP12 = np.array(list(df['ECFP12']))\n",
    "RDKFP = np.array(list(df['RDKFP']))\n",
    "\n",
    "Active = df['Active'].values"
   ]
  },
  {
   "cell_type": "code",
   "execution_count": 30,
   "id": "876a3fd5",
   "metadata": {},
   "outputs": [
    {
     "name": "stdout",
     "output_type": "stream",
     "text": [
      "0: 611 146\n",
      "1: 601 157\n"
     ]
    }
   ],
   "source": [
    "#Test-ECFP4\n",
    "X_train, X_test, y_train, y_test = model_selection.train_test_split(ECFP4, Active, test_size= Test_Size,random_state=0)\n",
    "print('0:',list(y_train).count(0),list(y_test).count(0))\n",
    "print('1:',list(y_train).count(1),list(y_test).count(1))"
   ]
  },
  {
   "cell_type": "code",
   "execution_count": 31,
   "id": "cd107dee",
   "metadata": {},
   "outputs": [
    {
     "data": {
      "text/plain": [
       "LogisticRegression()"
      ]
     },
     "execution_count": 31,
     "metadata": {},
     "output_type": "execute_result"
    }
   ],
   "source": [
    "#For Logistic Regression\n",
    "model = LogisticRegression()\n",
    "model.fit(X_train, y_train)"
   ]
  },
  {
   "cell_type": "code",
   "execution_count": 32,
   "id": "bd13d304",
   "metadata": {},
   "outputs": [
    {
     "name": "stdout",
     "output_type": "stream",
     "text": [
      "Train_accuracy_score: 0.994\n",
      "Test_accuracy_score: 0.822\n",
      "F1 Score for logistic regression: 0.824\n",
      "Precision_Score for logistic regression: 0.846\n",
      "Recall_Score for logistic regression: 0.803\n",
      "\n",
      "\n",
      "              precision    recall  f1-score   support\n",
      "\n",
      "           0       0.80      0.84      0.82       146\n",
      "           1       0.85      0.80      0.82       157\n",
      "\n",
      "    accuracy                           0.82       303\n",
      "   macro avg       0.82      0.82      0.82       303\n",
      "weighted avg       0.82      0.82      0.82       303\n",
      "\n"
     ]
    }
   ],
   "source": [
    "train_ac= model.score(X_train,y_train)\n",
    "test_ac= model.score(X_test,y_test)\n",
    "print(\"Train_accuracy_score:\",round(train_ac,3))\n",
    "print(\"Test_accuracy_score:\",round(test_ac,3))\n",
    "\n",
    "from sklearn.metrics import f1_score\n",
    "from sklearn.metrics import precision_score\n",
    "from sklearn.metrics import recall_score\n",
    "y_predicted = model.predict(X_test)\n",
    "f1 = f1_score(y_test,y_predicted)\n",
    "print(\"F1 Score for logistic regression:\", round(f1,3))\n",
    "pres = precision_score(y_test,y_predicted)\n",
    "print(\"Precision_Score for logistic regression:\", round(pres,3))\n",
    "res = recall_score(y_test,y_predicted)\n",
    "print(\"Recall_Score for logistic regression:\", round(res,3))\n",
    "print(\"\\n\")\n",
    "from sklearn.metrics import classification_report\n",
    "print(classification_report(y_test,y_predicted))\n"
   ]
  },
  {
   "cell_type": "code",
   "execution_count": 34,
   "id": "4ff5ab90",
   "metadata": {},
   "outputs": [
    {
     "data": {
      "image/png": "[encoded data removed]",
      "text/plain": [
       "<Figure size 432x288 with 1 Axes>"
      ]
     },
     "metadata": {
      "needs_background": "light"
     },
     "output_type": "display_data"
    }
   ],
   "source": [
    "fpr, tpr, thresholds = metrics.roc_curve(y_test, y_predicted)\n",
    "roc_auc = auc(fpr, tpr)\n",
    "\n",
    "plt.title('ROC-ECFP4-LogisticRegression')\n",
    "plt.plot(fpr, tpr, 'b',\n",
    "label='AUC = %0.2f'% roc_auc)\n",
    "plt.legend(loc='lower right')\n",
    "plt.plot([0,1],[0,1],'r--')\n",
    "plt.xlim([-0.1,1.2])\n",
    "plt.ylim([-0.1,1.2])\n",
    "plt.ylabel('True Positive Rate')\n",
    "plt.xlabel('False Positive Rate')\n",
    "plt.savefig(\"ROC.jpg\", dpi = 300)\n",
    "plt.show()"
   ]
  },
  {
   "cell_type": "code",
   "execution_count": 35,
   "id": "129aafc3",
   "metadata": {},
   "outputs": [
    {
     "name": "stdout",
     "output_type": "stream",
     "text": [
      "Average Precision Score: 0.91\n"
     ]
    },
    {
     "data": {
      "text/plain": [
       "Text(0.5, 1.0, '2-class Precision-Recall curve ECFP4: AP=0.91')"
      ]
     },
     "execution_count": 35,
     "metadata": {},
     "output_type": "execute_result"
    },
    {
     "data": {
      "image/png": "[encoded data removed]",
      "text/plain": [
       "<Figure size 432x288 with 1 Axes>"
      ]
     },
     "metadata": {
      "needs_background": "light"
     },
     "output_type": "display_data"
    }
   ],
   "source": [
    "from sklearn.metrics import average_precision_score\n",
    "from sklearn.metrics import precision_recall_curve\n",
    "from sklearn.metrics import plot_precision_recall_curve\n",
    "import matplotlib.pyplot as plt\n",
    "\n",
    "y_score= model.decision_function(X_test)\n",
    "average_precision = average_precision_score(y_test,y_score)\n",
    "print('Average Precision Score: {0:0.2f}'.format(average_precision))\n",
    "disp = plot_precision_recall_curve(model, X_test, y_test)\n",
    "disp.ax_.set_title('2-class Precision-Recall curve ECFP4: AP={0:0.2f}'.format(average_precision))"
   ]
  },
  {
   "cell_type": "code",
   "execution_count": 36,
   "id": "30038006",
   "metadata": {},
   "outputs": [
    {
     "name": "stdout",
     "output_type": "stream",
     "text": [
      "0: 611 146\n",
      "1: 601 157\n"
     ]
    }
   ],
   "source": [
    "#Test-ECFP6\n",
    "X_train, X_test, y_train, y_test = model_selection.train_test_split(ECFP6, Active, test_size= Test_Size,random_state=0)\n",
    "print('0:',list(y_train).count(0),list(y_test).count(0))\n",
    "print('1:',list(y_train).count(1),list(y_test).count(1))"
   ]
  },
  {
   "cell_type": "code",
   "execution_count": 37,
   "id": "520730fe",
   "metadata": {},
   "outputs": [
    {
     "data": {
      "text/plain": [
       "LogisticRegression()"
      ]
     },
     "execution_count": 37,
     "metadata": {},
     "output_type": "execute_result"
    }
   ],
   "source": [
    "#For Logistic Regression\n",
    "model = LogisticRegression()\n",
    "model.fit(X_train, y_train)"
   ]
  },
  {
   "cell_type": "code",
   "execution_count": 38,
   "id": "6ba8ad97",
   "metadata": {},
   "outputs": [
    {
     "name": "stdout",
     "output_type": "stream",
     "text": [
      "Train_accuracy_score: 0.996\n",
      "Test_accuracy_score: 0.828\n",
      "F1 Score for logistic regression: 0.831\n",
      "Precision_Score for logistic regression: 0.848\n",
      "Recall_Score for logistic regression: 0.815\n",
      "\n",
      "\n",
      "              precision    recall  f1-score   support\n",
      "\n",
      "           0       0.81      0.84      0.83       146\n",
      "           1       0.85      0.82      0.83       157\n",
      "\n",
      "    accuracy                           0.83       303\n",
      "   macro avg       0.83      0.83      0.83       303\n",
      "weighted avg       0.83      0.83      0.83       303\n",
      "\n"
     ]
    }
   ],
   "source": [
    "train_ac= model.score(X_train,y_train)\n",
    "test_ac= model.score(X_test,y_test)\n",
    "print(\"Train_accuracy_score:\",round(train_ac,3))\n",
    "print(\"Test_accuracy_score:\",round(test_ac,3))\n",
    "\n",
    "from sklearn.metrics import f1_score\n",
    "from sklearn.metrics import precision_score\n",
    "from sklearn.metrics import recall_score\n",
    "y_predicted = model.predict(X_test)\n",
    "f1 = f1_score(y_test,y_predicted)\n",
    "print(\"F1 Score for logistic regression:\", round(f1,3))\n",
    "pres = precision_score(y_test,y_predicted)\n",
    "print(\"Precision_Score for logistic regression:\", round(pres,3))\n",
    "res = recall_score(y_test,y_predicted)\n",
    "print(\"Recall_Score for logistic regression:\", round(res,3))\n",
    "print(\"\\n\")\n",
    "from sklearn.metrics import classification_report\n",
    "print(classification_report(y_test,y_predicted))\n"
   ]
  },
  {
   "cell_type": "code",
   "execution_count": 23,
   "id": "5f86b09d",
   "metadata": {},
   "outputs": [
    {
     "data": {
      "image/png": "[encoded data removed]",
      "text/plain": [
       "<Figure size 432x288 with 1 Axes>"
      ]
     },
     "metadata": {
      "needs_background": "light"
     },
     "output_type": "display_data"
    }
   ],
   "source": [
    "fpr, tpr, thresholds = metrics.roc_curve(y_test, y_predicted)\n",
    "roc_auc = auc(fpr, tpr)\n",
    "\n",
    "plt.title('ROC-ECFP6-LogisticRegression')\n",
    "plt.plot(fpr, tpr, 'b',\n",
    "label='AUC = %0.2f'% roc_auc)\n",
    "plt.legend(loc='lower right')\n",
    "plt.plot([0,1],[0,1],'r--')\n",
    "plt.xlim([-0.1,1.2])\n",
    "plt.ylim([-0.1,1.2])\n",
    "plt.ylabel('True Positive Rate')\n",
    "plt.xlabel('False Positive Rate')\n",
    "plt.savefig(\"ROC.jpg\", dpi = 300)\n",
    "plt.show()"
   ]
  },
  {
   "cell_type": "code",
   "execution_count": 39,
   "id": "23d8af65",
   "metadata": {},
   "outputs": [
    {
     "name": "stdout",
     "output_type": "stream",
     "text": [
      "Average Precision Score: 0.90\n"
     ]
    },
    {
     "data": {
      "text/plain": [
       "Text(0.5, 1.0, '2-class Precision-Recall curve ECFP6: AP=0.90')"
      ]
     },
     "execution_count": 39,
     "metadata": {},
     "output_type": "execute_result"
    },
    {
     "data": {
      "image/png": "[encoded data removed]",
      "text/plain": [
       "<Figure size 432x288 with 1 Axes>"
      ]
     },
     "metadata": {
      "needs_background": "light"
     },
     "output_type": "display_data"
    }
   ],
   "source": [
    "from sklearn.metrics import average_precision_score\n",
    "from sklearn.metrics import precision_recall_curve\n",
    "from sklearn.metrics import plot_precision_recall_curve\n",
    "import matplotlib.pyplot as plt\n",
    "\n",
    "y_score= model.decision_function(X_test)\n",
    "average_precision = average_precision_score(y_test,y_score)\n",
    "print('Average Precision Score: {0:0.2f}'.format(average_precision))\n",
    "disp = plot_precision_recall_curve(model, X_test, y_test)\n",
    "disp.ax_.set_title('2-class Precision-Recall curve ECFP6: AP={0:0.2f}'.format(average_precision))"
   ]
  },
  {
   "cell_type": "code",
   "execution_count": 41,
   "id": "372e2f26",
   "metadata": {},
   "outputs": [
    {
     "name": "stdout",
     "output_type": "stream",
     "text": [
      "0: 611 146\n",
      "1: 601 157\n"
     ]
    }
   ],
   "source": [
    "#Test-ECFP8\n",
    "X_train, X_test, y_train, y_test = model_selection.train_test_split(ECFP8, Active, test_size= Test_Size,random_state=0)\n",
    "print('0:',list(y_train).count(0),list(y_test).count(0))\n",
    "print('1:',list(y_train).count(1),list(y_test).count(1))"
   ]
  },
  {
   "cell_type": "code",
   "execution_count": 42,
   "id": "4575d57d",
   "metadata": {},
   "outputs": [
    {
     "data": {
      "text/plain": [
       "LogisticRegression()"
      ]
     },
     "execution_count": 42,
     "metadata": {},
     "output_type": "execute_result"
    }
   ],
   "source": [
    "#For Logistic Regression\n",
    "model = LogisticRegression()\n",
    "model.fit(X_train, y_train)"
   ]
  },
  {
   "cell_type": "code",
   "execution_count": 43,
   "id": "d96b3bd4",
   "metadata": {},
   "outputs": [
    {
     "name": "stdout",
     "output_type": "stream",
     "text": [
      "Train_accuracy_score: 0.998\n",
      "Test_accuracy_score: 0.812\n",
      "F1 Score for logistic regression: 0.818\n",
      "Precision_Score for logistic regression: 0.821\n",
      "Recall_Score for logistic regression: 0.815\n",
      "\n",
      "\n",
      "              precision    recall  f1-score   support\n",
      "\n",
      "           0       0.80      0.81      0.81       146\n",
      "           1       0.82      0.82      0.82       157\n",
      "\n",
      "    accuracy                           0.81       303\n",
      "   macro avg       0.81      0.81      0.81       303\n",
      "weighted avg       0.81      0.81      0.81       303\n",
      "\n"
     ]
    }
   ],
   "source": [
    "train_ac= model.score(X_train,y_train)\n",
    "test_ac= model.score(X_test,y_test)\n",
    "print(\"Train_accuracy_score:\",round(train_ac,3))\n",
    "print(\"Test_accuracy_score:\",round(test_ac,3))\n",
    "\n",
    "from sklearn.metrics import f1_score\n",
    "from sklearn.metrics import precision_score\n",
    "from sklearn.metrics import recall_score\n",
    "y_predicted = model.predict(X_test)\n",
    "f1 = f1_score(y_test,y_predicted)\n",
    "print(\"F1 Score for logistic regression:\", round(f1,3))\n",
    "pres = precision_score(y_test,y_predicted)\n",
    "print(\"Precision_Score for logistic regression:\", round(pres,3))\n",
    "res = recall_score(y_test,y_predicted)\n",
    "print(\"Recall_Score for logistic regression:\", round(res,3))\n",
    "print(\"\\n\")\n",
    "from sklearn.metrics import classification_report\n",
    "print(classification_report(y_test,y_predicted))\n"
   ]
  },
  {
   "cell_type": "code",
   "execution_count": 44,
   "id": "e8ea3ee3",
   "metadata": {},
   "outputs": [
    {
     "data": {
      "image/png": "[encoded data removed]",
      "text/plain": [
       "<Figure size 432x288 with 1 Axes>"
      ]
     },
     "metadata": {
      "needs_background": "light"
     },
     "output_type": "display_data"
    }
   ],
   "source": [
    "fpr, tpr, thresholds = metrics.roc_curve(y_test, y_predicted)\n",
    "roc_auc = auc(fpr, tpr)\n",
    "\n",
    "plt.title('ROC-ECFP8-LogisticRegression')\n",
    "plt.plot(fpr, tpr, 'b',\n",
    "label='AUC = %0.2f'% roc_auc)\n",
    "plt.legend(loc='lower right')\n",
    "plt.plot([0,1],[0,1],'r--')\n",
    "plt.xlim([-0.1,1.2])\n",
    "plt.ylim([-0.1,1.2])\n",
    "plt.ylabel('True Positive Rate')\n",
    "plt.xlabel('False Positive Rate')\n",
    "plt.savefig(\"ROC.jpg\", dpi = 300)\n",
    "plt.show()"
   ]
  },
  {
   "cell_type": "code",
   "execution_count": 45,
   "id": "5be186af",
   "metadata": {},
   "outputs": [
    {
     "name": "stdout",
     "output_type": "stream",
     "text": [
      "Average Precision Score: 0.91\n"
     ]
    },
    {
     "data": {
      "text/plain": [
       "Text(0.5, 1.0, '2-class Precision-Recall curve ECFP8: AP=0.91')"
      ]
     },
     "execution_count": 45,
     "metadata": {},
     "output_type": "execute_result"
    },
    {
     "data": {
      "image/png": "[encoded data removed]",
      "text/plain": [
       "<Figure size 432x288 with 1 Axes>"
      ]
     },
     "metadata": {
      "needs_background": "light"
     },
     "output_type": "display_data"
    }
   ],
   "source": [
    "from sklearn.metrics import average_precision_score\n",
    "from sklearn.metrics import precision_recall_curve\n",
    "from sklearn.metrics import plot_precision_recall_curve\n",
    "import matplotlib.pyplot as plt\n",
    "\n",
    "y_score= model.decision_function(X_test)\n",
    "average_precision = average_precision_score(y_test,y_score)\n",
    "print('Average Precision Score: {0:0.2f}'.format(average_precision))\n",
    "disp = plot_precision_recall_curve(model, X_test, y_test)\n",
    "disp.ax_.set_title('2-class Precision-Recall curve ECFP8: AP={0:0.2f}'.format(average_precision))"
   ]
  },
  {
   "cell_type": "code",
   "execution_count": 46,
   "id": "f68018de",
   "metadata": {},
   "outputs": [
    {
     "name": "stdout",
     "output_type": "stream",
     "text": [
      "0: 611 146\n",
      "1: 601 157\n"
     ]
    }
   ],
   "source": [
    "#Test-ECFP10\n",
    "X_train, X_test, y_train, y_test = model_selection.train_test_split(ECFP10, Active, test_size= Test_Size,random_state=0)\n",
    "print('0:',list(y_train).count(0),list(y_test).count(0))\n",
    "print('1:',list(y_train).count(1),list(y_test).count(1))"
   ]
  },
  {
   "cell_type": "code",
   "execution_count": 47,
   "id": "eaa94dca",
   "metadata": {},
   "outputs": [
    {
     "data": {
      "text/plain": [
       "LogisticRegression()"
      ]
     },
     "execution_count": 47,
     "metadata": {},
     "output_type": "execute_result"
    }
   ],
   "source": [
    "#For Logistic Regression\n",
    "model = LogisticRegression()\n",
    "model.fit(X_train, y_train)"
   ]
  },
  {
   "cell_type": "code",
   "execution_count": 48,
   "id": "05628d78",
   "metadata": {},
   "outputs": [
    {
     "name": "stdout",
     "output_type": "stream",
     "text": [
      "Train_accuracy_score: 0.998\n",
      "Test_accuracy_score: 0.795\n",
      "F1 Score for logistic regression: 0.797\n",
      "Precision_Score for logistic regression: 0.819\n",
      "Recall_Score for logistic regression: 0.777\n",
      "\n",
      "\n",
      "              precision    recall  f1-score   support\n",
      "\n",
      "           0       0.77      0.82      0.79       146\n",
      "           1       0.82      0.78      0.80       157\n",
      "\n",
      "    accuracy                           0.80       303\n",
      "   macro avg       0.80      0.80      0.80       303\n",
      "weighted avg       0.80      0.80      0.80       303\n",
      "\n"
     ]
    }
   ],
   "source": [
    "train_ac= model.score(X_train,y_train)\n",
    "test_ac= model.score(X_test,y_test)\n",
    "print(\"Train_accuracy_score:\",round(train_ac,3))\n",
    "print(\"Test_accuracy_score:\",round(test_ac,3))\n",
    "\n",
    "from sklearn.metrics import f1_score\n",
    "from sklearn.metrics import precision_score\n",
    "from sklearn.metrics import recall_score\n",
    "y_predicted = model.predict(X_test)\n",
    "f1 = f1_score(y_test,y_predicted)\n",
    "print(\"F1 Score for logistic regression:\", round(f1,3))\n",
    "pres = precision_score(y_test,y_predicted)\n",
    "print(\"Precision_Score for logistic regression:\", round(pres,3))\n",
    "res = recall_score(y_test,y_predicted)\n",
    "print(\"Recall_Score for logistic regression:\", round(res,3))\n",
    "print(\"\\n\")\n",
    "from sklearn.metrics import classification_report\n",
    "print(classification_report(y_test,y_predicted))\n"
   ]
  },
  {
   "cell_type": "code",
   "execution_count": 225,
   "id": "d739ddb4",
   "metadata": {},
   "outputs": [
    {
     "data": {
      "image/png": "[encoded data removed]",
      "text/plain": [
       "<Figure size 432x288 with 1 Axes>"
      ]
     },
     "metadata": {
      "needs_background": "light"
     },
     "output_type": "display_data"
    }
   ],
   "source": [
    "fpr, tpr, thresholds = metrics.roc_curve(y_test, y_predicted, pos_label=1)\n",
    "roc_auc = auc(fpr, tpr)\n",
    "\n",
    "plt.title('ROC-ECFP10-LogisticRegression')\n",
    "plt.plot(fpr, tpr, 'b',\n",
    "label='AUC = %0.2f'% roc_auc)\n",
    "plt.legend(loc='lower right')\n",
    "plt.plot([0,1],[0,1],'r--')\n",
    "plt.xlim([-0.1,1.2])\n",
    "plt.ylim([-0.1,1.2])\n",
    "plt.ylabel('True Positive Rate')\n",
    "plt.xlabel('False Positive Rate')\n",
    "plt.savefig(\"ROC.jpg\", dpi = 300)\n",
    "plt.show()"
   ]
  },
  {
   "cell_type": "code",
   "execution_count": 226,
   "id": "d4ac341e",
   "metadata": {},
   "outputs": [
    {
     "name": "stdout",
     "output_type": "stream",
     "text": [
      "Average Precision Score: 0.79\n"
     ]
    },
    {
     "data": {
      "text/plain": [
       "Text(0.5, 1.0, '2-class Precision-Recall curve ECFP10: AP=0.79')"
      ]
     },
     "execution_count": 226,
     "metadata": {},
     "output_type": "execute_result"
    },
    {
     "data": {
      "image/png": "[encoded data removed]",
      "text/plain": [
       "<Figure size 432x288 with 1 Axes>"
      ]
     },
     "metadata": {
      "needs_background": "light"
     },
     "output_type": "display_data"
    }
   ],
   "source": [
    "from sklearn.metrics import average_precision_score\n",
    "from sklearn.metrics import precision_recall_curve\n",
    "from sklearn.metrics import plot_precision_recall_curve\n",
    "import matplotlib.pyplot as plt\n",
    "\n",
    "y_score= model.decision_function(X_test)\n",
    "average_precision = average_precision_score(y_test,y_score)\n",
    "print('Average Precision Score: {0:0.2f}'.format(average_precision))\n",
    "disp = plot_precision_recall_curve(model, X_test, y_test)\n",
    "disp.ax_.set_title('2-class Precision-Recall curve ECFP10: AP={0:0.2f}'.format(average_precision))"
   ]
  },
  {
   "cell_type": "code",
   "execution_count": 217,
   "id": "772014d1",
   "metadata": {},
   "outputs": [
    {
     "name": "stdout",
     "output_type": "stream",
     "text": [
      "0: 617 140\n",
      "1: 595 163\n"
     ]
    }
   ],
   "source": [
    "#Test-ECFP12\n",
    "X_train, X_test, y_train, y_test = model_selection.train_test_split(ECFP12, Active, test_size= Test_Size)\n",
    "print('0:',list(y_train).count(0),list(y_test).count(0))\n",
    "print('1:',list(y_train).count(1),list(y_test).count(1))"
   ]
  },
  {
   "cell_type": "code",
   "execution_count": 218,
   "id": "b1bea908",
   "metadata": {},
   "outputs": [
    {
     "data": {
      "text/plain": [
       "LogisticRegression()"
      ]
     },
     "execution_count": 218,
     "metadata": {},
     "output_type": "execute_result"
    }
   ],
   "source": [
    "#For Logistic Regression\n",
    "model = LogisticRegression()\n",
    "model.fit(X_train, y_train)"
   ]
  },
  {
   "cell_type": "code",
   "execution_count": 219,
   "id": "18316d3a",
   "metadata": {},
   "outputs": [
    {
     "name": "stdout",
     "output_type": "stream",
     "text": [
      "Train_accuracy_score: 0.999\n",
      "Test_accuracy_score: 0.762\n",
      "F1 Score for logistic regression: 0.783\n",
      "Precision_Score for logistic regression: 0.769\n",
      "Recall_Score for logistic regression: 0.798\n",
      "\n",
      "\n",
      "              precision    recall  f1-score   support\n",
      "\n",
      "           0       0.75      0.72      0.74       140\n",
      "           1       0.77      0.80      0.78       163\n",
      "\n",
      "    accuracy                           0.76       303\n",
      "   macro avg       0.76      0.76      0.76       303\n",
      "weighted avg       0.76      0.76      0.76       303\n",
      "\n"
     ]
    }
   ],
   "source": [
    "train_ac= model.score(X_train,y_train)\n",
    "test_ac= model.score(X_test,y_test)\n",
    "print(\"Train_accuracy_score:\",round(train_ac,3))\n",
    "print(\"Test_accuracy_score:\",round(test_ac,3))\n",
    "\n",
    "from sklearn.metrics import f1_score\n",
    "from sklearn.metrics import precision_score\n",
    "from sklearn.metrics import recall_score\n",
    "y_predicted = model.predict(X_test)\n",
    "f1 = f1_score(y_test,y_predicted)\n",
    "print(\"F1 Score for logistic regression:\", round(f1,3))\n",
    "pres = precision_score(y_test,y_predicted)\n",
    "print(\"Precision_Score for logistic regression:\", round(pres,3))\n",
    "res = recall_score(y_test,y_predicted)\n",
    "print(\"Recall_Score for logistic regression:\", round(res,3))\n",
    "print(\"\\n\")\n",
    "from sklearn.metrics import classification_report\n",
    "print(classification_report(y_test,y_predicted))\n"
   ]
  },
  {
   "cell_type": "code",
   "execution_count": 131,
   "id": "2b19c9ae",
   "metadata": {},
   "outputs": [
    {
     "data": {
      "image/png": "[encoded data removed]",
      "text/plain": [
       "<Figure size 432x288 with 1 Axes>"
      ]
     },
     "metadata": {
      "needs_background": "light"
     },
     "output_type": "display_data"
    },
    {
     "name": "stdout",
     "output_type": "stream",
     "text": [
      "2\n"
     ]
    }
   ],
   "source": [
    "fpr, tpr, thresholds = metrics.roc_curve(y_test, y_predicted, pos_label=1)\n",
    "roc_auc = auc(fpr, tpr)\n",
    "\n",
    "plt.title('ROC-ECFP12-LogisticRegression')\n",
    "plt.plot(fpr, tpr, 'b',\n",
    "label='AUC = %0.2f'% roc_auc)\n",
    "plt.legend(loc='lower right')\n",
    "plt.plot([0,1],[0,1],'r--')\n",
    "plt.xlim([-0.1,1.2])\n",
    "plt.ylim([-0.1,1.2])\n",
    "plt.ylabel('True Positive Rate')\n",
    "plt.xlabel('False Positive Rate')\n",
    "plt.savefig(\"ROC.jpg\", dpi = 300)\n",
    "plt.show()\n"
   ]
  },
  {
   "cell_type": "code",
   "execution_count": 220,
   "id": "f0cc3e05",
   "metadata": {
    "scrolled": true
   },
   "outputs": [
    {
     "name": "stdout",
     "output_type": "stream",
     "text": [
      "Average Precision Score: 0.84\n"
     ]
    },
    {
     "data": {
      "text/plain": [
       "Text(0.5, 1.0, '2-class Precision-Recall curve ECFP12: AP=0.84')"
      ]
     },
     "execution_count": 220,
     "metadata": {},
     "output_type": "execute_result"
    },
    {
     "data": {
      "image/png": "[encoded data removed]",
      "text/plain": [
       "<Figure size 432x288 with 1 Axes>"
      ]
     },
     "metadata": {
      "needs_background": "light"
     },
     "output_type": "display_data"
    }
   ],
   "source": [
    "from sklearn.metrics import average_precision_score\n",
    "from sklearn.metrics import precision_recall_curve\n",
    "from sklearn.metrics import plot_precision_recall_curve\n",
    "import matplotlib.pyplot as plt\n",
    "\n",
    "y_score= model.decision_function(X_test)\n",
    "average_precision = average_precision_score(y_test,y_score)\n",
    "print('Average Precision Score: {0:0.2f}'.format(average_precision))\n",
    "disp = plot_precision_recall_curve(model, X_test, y_test)\n",
    "disp.ax_.set_title('2-class Precision-Recall curve ECFP12: AP={0:0.2f}'.format(average_precision))"
   ]
  },
  {
   "cell_type": "code",
   "execution_count": 136,
   "id": "a758b313",
   "metadata": {},
   "outputs": [
    {
     "name": "stdout",
     "output_type": "stream",
     "text": [
      "[1 0 1 0 1 1 1 0 1 0 0 1 1 0 0 0 1 0 0 1 1 0 0 1 0 1 1 1 1 0 0 1 0 1 1 1 1\n",
      " 0 1 1 0 1 0 0 1 1 1 1 1 0 0 0 1 1 1 1 1 1 1 0 0 1 1 1 1 0 1 0 0 1 1 0 1 1\n",
      " 0 1 1 1 0 0 0 0 1 1 1 1 0 0 0 0 1 1 1 1 1 0 1 0 0 0 1 1 0 1 1 0 0 1 0 1 0\n",
      " 1 1 1 0 0 0 0 0 0 0 1 0 0 1 1 0 1 0 0 1 1 0 0 0 0 1 0 1 1 1 0 0 1 0 0 0 0\n",
      " 1 0 1 1 1 0 0 0 0 0 1 1 0 0 1 0 1 1 1 0 1 0 0 0 0 1 1 1 1 0 0 1 1 0 1 1 1\n",
      " 1 0 0 1 0 1 1 1 0 0 0 0 1 1 1 1 0 1 1 0 1 0 0 1 1 1 0 1 1 0 1 0 0 1 0 1 0\n",
      " 1 1 1 0 0 1 0 1 0 0 1 1 0 0 0 1 1 0 0 1 1 0 0 1 0 0 1 1 1 0 0 0 1 1 1 1 0\n",
      " 0 1 0 0 0 0 0 0 1 1 0 1 0 1 0 0 1 0 0 0 1 1 1 0 1 0 1 0 0 0 0 1 0 0 1 0 0\n",
      " 1 0 0 0 1 1 0]\n"
     ]
    },
    {
     "data": {
      "text/plain": [
       "0"
      ]
     },
     "execution_count": 136,
     "metadata": {},
     "output_type": "execute_result"
    }
   ],
   "source": [
    "print(y_test)\n",
    "w= min(y_predicted)\n",
    "w"
   ]
  },
  {
   "cell_type": "code",
   "execution_count": 123,
   "id": "39c5b759",
   "metadata": {},
   "outputs": [
    {
     "data": {
      "text/plain": [
       "array([0.        , 0.27333333, 1.        ])"
      ]
     },
     "execution_count": 123,
     "metadata": {},
     "output_type": "execute_result"
    }
   ],
   "source": [
    "tpr"
   ]
  },
  {
   "cell_type": "code",
   "execution_count": 124,
   "id": "830d7562",
   "metadata": {},
   "outputs": [
    {
     "data": {
      "text/plain": [
       "array([0.        , 0.83006536, 1.        ])"
      ]
     },
     "execution_count": 124,
     "metadata": {},
     "output_type": "execute_result"
    }
   ],
   "source": [
    "fpr"
   ]
  },
  {
   "cell_type": "code",
   "execution_count": 118,
   "id": "740919ca",
   "metadata": {},
   "outputs": [
    {
     "data": {
      "text/plain": [
       "array([2, 1, 0])"
      ]
     },
     "execution_count": 118,
     "metadata": {},
     "output_type": "execute_result"
    }
   ],
   "source": [
    "thresholds"
   ]
  },
  {
   "cell_type": "code",
   "execution_count": null,
   "id": "4c7395f8",
   "metadata": {},
   "outputs": [],
   "source": []
  }
 ],
 "metadata": {
  "kernelspec": {
   "display_name": "Python 3",
   "language": "python",
   "name": "python3"
  },
  "language_info": {
   "codemirror_mode": {
    "name": "ipython",
    "version": 3
   },
   "file_extension": ".py",
   "mimetype": "text/x-python",
   "name": "python",
   "nbconvert_exporter": "python",
   "pygments_lexer": "ipython3",
   "version": "3.8.8"
  }
 },
 "nbformat": 4,
 "nbformat_minor": 5
}
